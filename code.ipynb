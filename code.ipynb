{
  "cells": [
    {
      "cell_type": "markdown",
      "metadata": {
        "id": "tLcZojjl4kfP"
      },
      "source": []
    },
    {
      "cell_type": "code",
      "execution_count": 1,
      "metadata": {
        "id": "_78D4pgj1FFJ"
      },
      "outputs": [],
      "source": [
        "import spacy\n",
        "\n",
        "import os"
      ]
    },
    {
      "cell_type": "code",
      "execution_count": null,
      "metadata": {
        "id": "dpVTpg9V1FFK"
      },
      "outputs": [],
      "source": [
        "##folder = \"./bio_info_corpus/\"\n",
        "##list_of_files = []\n",
        "##list_of_tokens = []\n",
        "##nlp = spacy.load(\"en_core_web_sm\")\n",
        "##for files in os.listdir(folder):\n",
        "##    file_path = os.path.join(folder, files)\n",
        "##    with open(file_path, 'r', encoding='utf-8') as file:\n",
        "##            content = file.read()\n",
        "##            #adding the file content to the list\n",
        "##            list_of_files.append(content)\n",
        "##            #creating the tokens of the corpora\n",
        "##            tokens = [token.text for token in doc]\n",
        "##            list_of_tokens.append(tokens)\n",
        "\n",
        "##corpus = list_of_files"
      ]
    },
    {
      "cell_type": "code",
      "execution_count": 5,
      "metadata": {
        "colab": {
          "base_uri": "https://localhost:8080/",
          "height": 1000
        },
        "id": "Euy0JzfAnk_V",
        "outputId": "366a5fe3-e672-4529-fd49-9e850b49ea05"
      },
      "outputs": [
        {
          "output_type": "stream",
          "name": "stdout",
          "text": [
            "Collecting https://s3-us-west-2.amazonaws.com/ai2-s2-scispacy/releases/v0.4.0/en_core_sci_sm-0.4.0.tar.gz\n",
            "  Downloading https://s3-us-west-2.amazonaws.com/ai2-s2-scispacy/releases/v0.4.0/en_core_sci_sm-0.4.0.tar.gz (15.6 MB)\n",
            "\u001b[2K     \u001b[90m━━━━━━━━━━━━━━━━━━━━━━━━━━━━━━━━━━━━━━━━\u001b[0m \u001b[32m15.6/15.6 MB\u001b[0m \u001b[31m32.7 MB/s\u001b[0m eta \u001b[36m0:00:00\u001b[0m\n",
            "\u001b[?25h  Preparing metadata (setup.py) ... \u001b[?25l\u001b[?25hdone\n",
            "Collecting spacy<3.1.0,>=3.0.1 (from en-core-sci-sm==0.4.0)\n",
            "  Downloading spacy-3.0.9-cp310-cp310-manylinux_2_17_x86_64.manylinux2014_x86_64.whl (5.9 MB)\n",
            "\u001b[2K     \u001b[90m━━━━━━━━━━━━━━━━━━━━━━━━━━━━━━━━━━━━━━━━\u001b[0m \u001b[32m5.9/5.9 MB\u001b[0m \u001b[31m21.9 MB/s\u001b[0m eta \u001b[36m0:00:00\u001b[0m\n",
            "\u001b[?25hRequirement already satisfied: spacy-legacy<3.1.0,>=3.0.5 in /usr/local/lib/python3.10/dist-packages (from spacy<3.1.0,>=3.0.1->en-core-sci-sm==0.4.0) (3.0.12)\n",
            "Requirement already satisfied: murmurhash<1.1.0,>=0.28.0 in /usr/local/lib/python3.10/dist-packages (from spacy<3.1.0,>=3.0.1->en-core-sci-sm==0.4.0) (1.0.10)\n",
            "Requirement already satisfied: cymem<2.1.0,>=2.0.2 in /usr/local/lib/python3.10/dist-packages (from spacy<3.1.0,>=3.0.1->en-core-sci-sm==0.4.0) (2.0.8)\n",
            "Requirement already satisfied: preshed<3.1.0,>=3.0.2 in /usr/local/lib/python3.10/dist-packages (from spacy<3.1.0,>=3.0.1->en-core-sci-sm==0.4.0) (3.0.9)\n",
            "Collecting thinc<8.1.0,>=8.0.3 (from spacy<3.1.0,>=3.0.1->en-core-sci-sm==0.4.0)\n",
            "  Downloading thinc-8.0.17-cp310-cp310-manylinux_2_17_x86_64.manylinux2014_x86_64.whl (659 kB)\n",
            "\u001b[2K     \u001b[90m━━━━━━━━━━━━━━━━━━━━━━━━━━━━━━━━━━━━━━━━\u001b[0m \u001b[32m659.5/659.5 kB\u001b[0m \u001b[31m41.6 MB/s\u001b[0m eta \u001b[36m0:00:00\u001b[0m\n",
            "\u001b[?25hRequirement already satisfied: blis<0.8.0,>=0.4.0 in /usr/local/lib/python3.10/dist-packages (from spacy<3.1.0,>=3.0.1->en-core-sci-sm==0.4.0) (0.7.11)\n",
            "Collecting wasabi<1.1.0,>=0.8.1 (from spacy<3.1.0,>=3.0.1->en-core-sci-sm==0.4.0)\n",
            "  Downloading wasabi-0.10.1-py3-none-any.whl (26 kB)\n",
            "Requirement already satisfied: srsly<3.0.0,>=2.4.1 in /usr/local/lib/python3.10/dist-packages (from spacy<3.1.0,>=3.0.1->en-core-sci-sm==0.4.0) (2.4.8)\n",
            "Requirement already satisfied: catalogue<2.1.0,>=2.0.4 in /usr/local/lib/python3.10/dist-packages (from spacy<3.1.0,>=3.0.1->en-core-sci-sm==0.4.0) (2.0.10)\n",
            "Collecting typer<0.4.0,>=0.3.0 (from spacy<3.1.0,>=3.0.1->en-core-sci-sm==0.4.0)\n",
            "  Downloading typer-0.3.2-py3-none-any.whl (21 kB)\n",
            "Requirement already satisfied: pathy>=0.3.5 in /usr/local/lib/python3.10/dist-packages (from spacy<3.1.0,>=3.0.1->en-core-sci-sm==0.4.0) (0.11.0)\n",
            "Requirement already satisfied: smart-open<7.0.0,>=5.2.1 in /usr/local/lib/python3.10/dist-packages (from spacy<3.1.0,>=3.0.1->en-core-sci-sm==0.4.0) (6.4.0)\n",
            "Requirement already satisfied: tqdm<5.0.0,>=4.38.0 in /usr/local/lib/python3.10/dist-packages (from spacy<3.1.0,>=3.0.1->en-core-sci-sm==0.4.0) (4.66.1)\n",
            "Requirement already satisfied: numpy>=1.15.0 in /usr/local/lib/python3.10/dist-packages (from spacy<3.1.0,>=3.0.1->en-core-sci-sm==0.4.0) (1.23.5)\n",
            "Requirement already satisfied: requests<3.0.0,>=2.13.0 in /usr/local/lib/python3.10/dist-packages (from spacy<3.1.0,>=3.0.1->en-core-sci-sm==0.4.0) (2.31.0)\n",
            "Collecting pydantic!=1.8,!=1.8.1,<1.9.0,>=1.7.4 (from spacy<3.1.0,>=3.0.1->en-core-sci-sm==0.4.0)\n",
            "  Downloading pydantic-1.8.2-py3-none-any.whl (126 kB)\n",
            "\u001b[2K     \u001b[90m━━━━━━━━━━━━━━━━━━━━━━━━━━━━━━━━━━━━━━━━\u001b[0m \u001b[32m126.0/126.0 kB\u001b[0m \u001b[31m12.9 MB/s\u001b[0m eta \u001b[36m0:00:00\u001b[0m\n",
            "\u001b[?25hRequirement already satisfied: jinja2 in /usr/local/lib/python3.10/dist-packages (from spacy<3.1.0,>=3.0.1->en-core-sci-sm==0.4.0) (3.1.3)\n",
            "Requirement already satisfied: setuptools in /usr/local/lib/python3.10/dist-packages (from spacy<3.1.0,>=3.0.1->en-core-sci-sm==0.4.0) (67.7.2)\n",
            "Requirement already satisfied: packaging>=20.0 in /usr/local/lib/python3.10/dist-packages (from spacy<3.1.0,>=3.0.1->en-core-sci-sm==0.4.0) (23.2)\n",
            "Requirement already satisfied: pathlib-abc==0.1.1 in /usr/local/lib/python3.10/dist-packages (from pathy>=0.3.5->spacy<3.1.0,>=3.0.1->en-core-sci-sm==0.4.0) (0.1.1)\n",
            "Requirement already satisfied: typing-extensions>=3.7.4.3 in /usr/local/lib/python3.10/dist-packages (from pydantic!=1.8,!=1.8.1,<1.9.0,>=1.7.4->spacy<3.1.0,>=3.0.1->en-core-sci-sm==0.4.0) (4.5.0)\n",
            "Requirement already satisfied: charset-normalizer<4,>=2 in /usr/local/lib/python3.10/dist-packages (from requests<3.0.0,>=2.13.0->spacy<3.1.0,>=3.0.1->en-core-sci-sm==0.4.0) (3.3.2)\n",
            "Requirement already satisfied: idna<4,>=2.5 in /usr/local/lib/python3.10/dist-packages (from requests<3.0.0,>=2.13.0->spacy<3.1.0,>=3.0.1->en-core-sci-sm==0.4.0) (3.6)\n",
            "Requirement already satisfied: urllib3<3,>=1.21.1 in /usr/local/lib/python3.10/dist-packages (from requests<3.0.0,>=2.13.0->spacy<3.1.0,>=3.0.1->en-core-sci-sm==0.4.0) (2.0.7)\n",
            "Requirement already satisfied: certifi>=2017.4.17 in /usr/local/lib/python3.10/dist-packages (from requests<3.0.0,>=2.13.0->spacy<3.1.0,>=3.0.1->en-core-sci-sm==0.4.0) (2023.11.17)\n",
            "Collecting click<7.2.0,>=7.1.1 (from typer<0.4.0,>=0.3.0->spacy<3.1.0,>=3.0.1->en-core-sci-sm==0.4.0)\n",
            "  Downloading click-7.1.2-py2.py3-none-any.whl (82 kB)\n",
            "\u001b[2K     \u001b[90m━━━━━━━━━━━━━━━━━━━━━━━━━━━━━━━━━━━━━━━━\u001b[0m \u001b[32m82.8/82.8 kB\u001b[0m \u001b[31m10.0 MB/s\u001b[0m eta \u001b[36m0:00:00\u001b[0m\n",
            "\u001b[?25hRequirement already satisfied: MarkupSafe>=2.0 in /usr/local/lib/python3.10/dist-packages (from jinja2->spacy<3.1.0,>=3.0.1->en-core-sci-sm==0.4.0) (2.1.4)\n",
            "Building wheels for collected packages: en-core-sci-sm\n",
            "  Building wheel for en-core-sci-sm (setup.py) ... \u001b[?25l\u001b[?25hdone\n",
            "  Created wheel for en-core-sci-sm: filename=en_core_sci_sm-0.4.0-py3-none-any.whl size=15660335 sha256=55108749a165feb6878261d59c53a9978ba360eb13f39ebda013465be97e8b6d\n",
            "  Stored in directory: /root/.cache/pip/wheels/d6/5d/cd/0752b58bc0a19cb9465c6db6e7a4e7c490c6f6cece8f8f6bcf\n",
            "Successfully built en-core-sci-sm\n",
            "Installing collected packages: wasabi, pydantic, click, typer, thinc, spacy, en-core-sci-sm\n",
            "  Attempting uninstall: wasabi\n",
            "    Found existing installation: wasabi 1.1.2\n",
            "    Uninstalling wasabi-1.1.2:\n",
            "      Successfully uninstalled wasabi-1.1.2\n",
            "  Attempting uninstall: pydantic\n",
            "    Found existing installation: pydantic 1.10.14\n",
            "    Uninstalling pydantic-1.10.14:\n",
            "      Successfully uninstalled pydantic-1.10.14\n",
            "  Attempting uninstall: click\n",
            "    Found existing installation: click 8.1.7\n",
            "    Uninstalling click-8.1.7:\n",
            "      Successfully uninstalled click-8.1.7\n",
            "  Attempting uninstall: typer\n",
            "    Found existing installation: typer 0.9.0\n",
            "    Uninstalling typer-0.9.0:\n",
            "      Successfully uninstalled typer-0.9.0\n",
            "  Attempting uninstall: thinc\n",
            "    Found existing installation: thinc 8.1.12\n",
            "    Uninstalling thinc-8.1.12:\n",
            "      Successfully uninstalled thinc-8.1.12\n",
            "  Attempting uninstall: spacy\n",
            "    Found existing installation: spacy 3.6.1\n",
            "    Uninstalling spacy-3.6.1:\n",
            "      Successfully uninstalled spacy-3.6.1\n",
            "\u001b[31mERROR: pip's dependency resolver does not currently take into account all the packages that are installed. This behaviour is the source of the following dependency conflicts.\n",
            "lida 0.0.10 requires fastapi, which is not installed.\n",
            "lida 0.0.10 requires kaleido, which is not installed.\n",
            "lida 0.0.10 requires python-multipart, which is not installed.\n",
            "lida 0.0.10 requires uvicorn, which is not installed.\n",
            "llmx 0.0.15a0 requires cohere, which is not installed.\n",
            "llmx 0.0.15a0 requires openai, which is not installed.\n",
            "llmx 0.0.15a0 requires tiktoken, which is not installed.\n",
            "flask 2.2.5 requires click>=8.0, but you have click 7.1.2 which is incompatible.\n",
            "dask 2023.8.1 requires click>=8.0, but you have click 7.1.2 which is incompatible.\n",
            "distributed 2023.8.1 requires click>=8.0, but you have click 7.1.2 which is incompatible.\n",
            "en-core-web-sm 3.6.0 requires spacy<3.7.0,>=3.6.0, but you have spacy 3.0.9 which is incompatible.\n",
            "fiona 1.9.5 requires click~=8.0, but you have click 7.1.2 which is incompatible.\n",
            "inflect 7.0.0 requires pydantic>=1.9.1, but you have pydantic 1.8.2 which is incompatible.\n",
            "pip-tools 6.13.0 requires click>=8, but you have click 7.1.2 which is incompatible.\u001b[0m\u001b[31m\n",
            "\u001b[0mSuccessfully installed click-7.1.2 en-core-sci-sm-0.4.0 pydantic-1.8.2 spacy-3.0.9 thinc-8.0.17 typer-0.3.2 wasabi-0.10.1\n"
          ]
        },
        {
          "output_type": "display_data",
          "data": {
            "application/vnd.colab-display-data+json": {
              "pip_warning": {
                "packages": [
                  "click",
                  "pydantic",
                  "spacy",
                  "thinc",
                  "wasabi"
                ]
              }
            }
          },
          "metadata": {}
        }
      ],
      "source": [
        "pip install https://s3-us-west-2.amazonaws.com/ai2-s2-scispacy/releases/v0.4.0/en_core_sci_sm-0.4.0.tar.gz\n"
      ]
    },
    {
      "cell_type": "markdown",
      "metadata": {
        "id": "9bKmb6xm1FFL"
      },
      "source": [
        " As explained in the report, since I couldn't retrieve the list of tokens using Spacy due to installation issues,\n",
        "I manually extracted 30 articles, stored them in a list (corpus), and proceeded with the analysis on Google Colab to leverage the Spacy library.\n",
        "\n",
        "\n",
        "\n",
        "\n",
        "\n"
      ]
    },
    {
      "cell_type": "markdown",
      "metadata": {
        "id": "oB2Y7RFJ4xGZ"
      },
      "source": [
        "Using Spacy\n"
      ]
    },
    {
      "cell_type": "code",
      "execution_count": 2,
      "metadata": {
        "id": "pKs-sEpY_JuB"
      },
      "outputs": [],
      "source": [
        "corpus =['Clustering of missense mutations in the ataxia-telangiectasia gene in a sporadic T-cell leukaemia.\\nAtaxia-telangiectasia (A-T) is a recessive multi-system disorder caused by mutations in the ATM gene at 11q22-q23 (ref. 3). The risk of cancer, especially lymphoid neoplasias, is substantially elevated in A-T patients and has long been associated with chromosomal instability. By analysing tumour DNA from patients with sporadic T-cell prolymphocytic leukaemia (T-PLL), a rare clonal malignancy with similarities to a mature T-cell leukaemia seen in A-T, we demonstrate a high frequency of ATM mutations in T-PLL. In marked contrast to the ATM mutation pattern in A-T, the most frequent nucleotide changes in this leukaemia were missense mutations. These clustered in the region corresponding to the kinase domain, which is highly conserved in ATM-related proteins in mouse, yeast and Drosophila. The resulting amino-acid substitutions are predicted to interfere with ATP binding or substrate recognition. Two of seventeen mutated T-PLL samples had a previously reported A-T allele. In contrast, no mutations were detected in the p53 gene, suggesting that this tumour suppressor is not frequently altered in this leukaemia. Occasional missense mutations in ATM were also found in tumour DNA from patients with B-cell non-Hodgkins lymphomas (B-NHL) and a B-NHL cell line. The evidence of a significant proportion of loss-of-function mutations and a complete absence of the normal copy of ATM in the majority of mutated tumours establishes somatic inactivation of this gene in the pathogenesis of sporadic T-PLL and suggests that ATM acts as a tumour suppressor. As constitutional DNA was not available, a putative hereditary predisposition to T-PLL will require further investigation.. \\n',\n",
        " 'Myotonic dystrophy protein kinase is involved in the modulation of the Ca2+ homeostasis in skeletal muscle cells.\\nMyotonic dystrophy (DM), the most prevalent muscular disorder in adults, is caused by (CTG) n-repeat expansion in a gene encoding a protein kinase (DM protein kinase; DMPK) and involves changes in cytoarchitecture and ion homeostasis. To obtain clues to the normal biological role of DMPK in cellular ion homeostasis, we have compared the resting [Ca2 +] i, the amplitude and shape of depolarization-induced Ca2 + transients, and the content of ATP-driven ion pumps in cultured skeletal muscle cells of wild-type and DMPK [-/-] knockout mice. In vitro-differentiated DMPK [-/-] myotubes exhibit a higher resting [Ca2 +] i than do wild-type myotubes because of an altered open probability of voltage-dependent l-type Ca2 + and Na + channels. The mutant myotubes exhibit smaller and slower Ca2 + responses upon triggering by acetylcholine or high external K +. In addition, we observed that these Ca2 + transients partially result from an influx of extracellular Ca2 + through the l-type Ca2 + channel. Neither the content nor the activity of Na +/K + ATPase and sarcoplasmic reticulum Ca2 + -ATPase are affected by DMPK absence. In conclusion, our data suggest that DMPK is involved in modulating the initial events of excitation-contraction coupling in skeletal muscle.. \\n',\n",
        " 'Constitutional RB1-gene mutations in patients with isolated unilateral retinoblastoma.\\nIn most patients with isolated unilateral retinoblastoma, tumor development is initiated by somatic inactivation of both alleles of the RB1 gene. However, some of these patients can transmit retinoblastoma predisposition to their offspring. To determine the frequency and nature of constitutional RB1-gene mutations in patients with isolated unilateral retinoblastoma, we analyzed DNA from peripheral blood and from tumor tissue. The analysis of tumors from 54 (71%) of 76 informative patients showed loss of constitutional heterozygosity (LOH) at intragenic loci. Three of 13 uninformative patients had constitutional deletions. For 39 randomly selected tumors, SSCP, hetero-duplex analysis, sequencing, and Southern blot analysis were used to identify mutations. Mutations were detected in 21 (91%) of 23 tumors with LOH. In 6 (38%) of 16 tumors without LOH, one mutation was detected, and in 9 (56%) of the tumors without LOH, both mutations were found. Thus, a total of 45 mutations were identified in tumors of 36 patients. Thirty-nine of the mutations-including 34 small mutations, 2 large structural alterations, and hypermethylation in 3 tumors-were not detected in the corresponding peripheral blood DNA. In 6 (17%) of the 36 patients, a mutation was detected in constitutional DNA, and 1 of these mutations is known to be associated with reduced expressivity. The presence of a constitutional mutation was not associated with an early age at treatment. In 1 patient, somatic mosaicism was demonstrated by molecular analysis of DNA and RNA from peripheral blood. In 2 patients without a detectable mutation in peripheral blood, mosaicism was suggested because 1 of the patients showed multifocal tumors and the other later developed bilateral retinoblastoma. In conclusion, our results emphasize that the manifestation and transmissibility of retinoblastoma depend on the nature of the first mutation, its time in development, and the number and types of cells that are affected.. \\n',\n",
        " 'Hereditary deficiency of the fifth component of complement in man. I. Clinical, immunochemical, and family studies.\\nThe first recognized human kindred with hereditary deficiency of the fifth component of complement (C5) is described. The proband, a 20-year-old black female with systemic lupus erythematosus since age 11, lacked serum hemolytic complement activity, even during remission. C5 was undetectable in her serum by both immunodiffusion and hemolytic assays. Other complement components were normal during remission of lupus, but C1, C4, C2, and C3 levels fell during exacerbations. A younger half-sister, who had no underlying disease, was also found to lack immunochemically detectable C5. By hemolytic assay, she exhibited 1-2% of the normal serum C5 level and normal concentrations of other complement components. C5 levels of other family members were either normal or approximately half-normal, consistent with autosomal codominant inheritance of the gene determining C5 deficiency. Normal hemolytic titers were restored to both homozygous C5-deficient (C5D) sera by addition of highly purified human C5. In specific C5 titrations, however, it was noted that when limited amounts of C5 were assayed in the presence of low dilutions of either C5D serum, curving rather than linear dose-response plots were consistently obtained, suggesting some inhibitory effect. Further studies suggested that low dilutions of C5D serum contain a factor (or factors) interfering at some step in the hemolytic assay of C5, rather than a true C5 inhibitor or inactivator. Of clinical interest are (a) the documentation of membranous glomerulonephritis, vasculitis, and arthritis in an individual lacking C5 (and its biologic functions), and (b) a remarkable propensity to bacterial infections in the proband, even during periods of low-dose or alternate-day corticosteroid therapy. Other observations indicate that the C5D state is compatible with normal coagulation function and the capacity to mount a neutrophilic leukocytosis during pyogenic infection.. \\n',\n",
        " 'Susceptibility to ankylosing spondylitis in twins: the role of genes, HLA, and the environment.\\nOBJECTIVE  To determine the relative effects of genetic and environmental factors in susceptibility to ankylosing spondylitis (AS). METHODS  Twins with AS were identified from the Royal National Hospital for Rheumatic Diseases database. Clinical and radiographic examinations were performed to establish diagnoses, and disease severity was assessed using a combination of validated scoring systems. HLA typing for HLA-B27, HLA-B60, and HLA-DR1 was performed by polymerase chain reaction with sequence-specific primers, and zygosity was assessed using microsatellite markers. Genetic and environmental variance components were assessed with the program Mx, using data from this and previous studies of twins with AS. RESULTS  Six of 8 monozygotic (MZ) twin pairs were disease concordant, compared with 4 of 15 B27-positive dizygotic (DZ) twin pairs (27%) and 4 of 32 DZ twin pairs overall (12. 5%). Nonsignificant increases in similarity with regard to age at disease onset and all of the disease severity scores assessed were noted in disease-concordant MZ twins compared with concordant DZ twins. HLA-B27 and B60 were associated with the disease in probands, and the rate of disease concordance was significantly increased among DZ twin pairs in which the co-twin was positive for both B27 and DR1. Additive genetic effects were estimated to contribute 97% of the population variance. CONCLUSION  Susceptibility to AS is largely genetically determined, and the environmental trigger for the disease is probably ubiquitous. HLA-B27 accounts for a minority of the overall genetic susceptibility to AS. \\n',\n",
        " 'Cell cycle-dependent colocalization of BARD1 and BRCA1 proteins in discrete nuclear domains.\\nGerm-line mutations of the BRCA1 gene predispose women to early-onset breast and ovarian cancer by compromising the genes presumptive function as a tumor suppressor. Although the biochemical properties of BRCA1 polypeptides are not understood, their expression pattern and subcellular localization suggest a role in cell-cycle regulation. When resting cells are induced to proliferate, the steady-state levels of BRCA1 increase in late G1 and reach a maximum during S phase. Moreover, in S phase cells, BRCA1 polypeptides are hyperphosphorylated and accumulate into discrete subnuclear foci termed \" BRCA1 nuclear dots. \" BRCA1 associates in vivo with a structurally related protein termed BARD1. Here we show that the steady-state levels of BARD1, unlike those of BRCA1, remain relatively constant during cell cycle progression. However, immunostaining revealed that BARD1 resides within BRCA1 nuclear dots during S phase of the cell cycle, but not during the G1 phase. Nevertheless, BARD1 polypeptides are found exclusively in the nuclear fractions of both G1- and S-phase cells. Therefore, progression to S phase is accompanied by the aggregation of nuclear BARD1 polypeptides into BRCA1 nuclear dots. This cell cycle-dependent colocalization of BARD1 and BRCA1 indicates a role for BARD1 in BRCA1-mediated tumor suppression. \\n',\n",
        " 'Ethnic differences in the HFE codon 282 (Cys/Tyr) polymorphism.\\nRecent studies have shown that hereditary hemochromatosis (HH) is likely to be caused by homozygosity for a Cys282Tyr mutation in the HFE gene located 4. 5 Mb telomeric to HLA-A. Population studies of this polymorphism are facilitated by the fact that the Cys282Tyr mutation creates a Rsal restriction site. We have studied the codon 282 (Cys/Tyr) polymorphism in different ethnic groups. In agreement with previous observations the Tyr allele appeared to be rare or absent in Asiatic (Indian, Chinese) populations. The highest allele frequency (7. 5%) was found in Swedes. Saamis (2%) and Mordvinians (1. 8%) had significantly lower frequencies of the Tyr allele. Comparisons with allele frequencies based on prevalence estimates of HH showed some disagreements with the RFLP data, particularly in Finns. The newly described HFE marker provides a new approach to the screening of HH as well as studies of the relationship between the HFE Tyr allele and different disorders including cancer \\n',\n",
        " 'Autosomal dominant neurohypophyseal diabetes insipidus associated with a missense mutation encoding Gly23-->Val in neurophysin II.\\nAutosomal dominant neurohypophyseal diabetes insipidus (ADNDI) is an inherited disease caused by progressive degeneration of the magnocellular neurons of the hypothalamus leading to decreased ability to produce the hormone arginine vasopressin (AVP). Affected individuals are not symptomatic at birth, but usually develop diabetes insipidus at 1-6 yr of age. The genetic locus of the disease is the AVP-neurophysin II (NPII) gene, and mutations that cause ADNDI have been found in both the signal peptide of the prepro-AVP-NPII precursor and within NPII itself. An affected girl who presented at 9 months of age and her similarly affected younger brother and father were all found to have a novel missense mutation (G1758-- > T) encoding the amino acid substitution Gly23-- > Val within NPII. The mutation was confirmed by restriction endonuclease analysis. A T1-weighted magnetic resonance imaging of the fathers pituitary gland demonstrates an attenuated posterior pituitary bright spot. This mutation may be valuable for developing models of dominantly inherited neurodegeneration, as the early age of onset of symptoms suggests that this mutation may be particularly deleterious to the magnocellular neuron.. \\n',\n",
        " 'Frequent inactivation of PTEN/MMAC1 in primary prostate cancer.\\nSporadic prostate carcinoma is the most common male cancer in the Western world, yet many of the major genetic events involved in the progression of this often fatal cancer remain to be elucidated. Numerous cytogenetic and allelotype studies have reported frequent loss of heterozygosity on chromosomal arm 10q in sporadic prostate cancer. Deletion mapping studies have unambiguously identified a region of chromosome 10q23 to be the minimal area of loss. A new tumor suppressor gene, PTEN/MMAC1, was isolated recently at this region of chromosome 10q23 and found to be inactivated by mutation in three prostate cancer cell lines. We screened 80 prostate tumors by microsatellite analysis and found chromosome 10q23 to be deleted in 23 cases. We then proceeded with sequence analysis of the entire PTEN/MMAC1 coding region and tested for homozygous deletion with new intragenic markers in these 23 cases with 10q23 loss of heterozygosity. The identification of the second mutational event in 10 (43%) tumors establishes PTEN/MMAC1 as a main inactivation target of 10q loss in sporadic prostate cancer.. \\n',\n",
        " 'Risk reversals in predictive testing for Huntington disease.\\nThe first predictive testing for Huntington disease (HD) was based on analysis of linked polymorphic DNA markers to estimate the likelihood of inheriting the mutation for HD. Limits to accuracy included recombination between the DNA markers and the mutation, pedigree structure, and whether DNA samples were available from family members. With direct tests for the HD mutation, we have assessed the accuracy of results obtained by linkage approaches when requested to do so by the test individuals. For six such individuals, there was significant disparity between the tests. Three went from a decreased risk to an increased risk, while in another three the risk was decreased. Knowledge of the potential reasons for these changes in results and impact of these risk reversals on both patients and the counseling team can assist in the development of strategies for the prevention and, where necessary, management of a risk reversal in any predictive testing program.. \\n',\n",
        " 'A novel common missense mutation G301C in the N-acetylgalactosamine-6-sulfate sulfatase gene in mucopolysaccharidosis IVA.\\nMucopolysaccharidosis IVA (MPS IVA) is an autosomal recessive lysosomal storage disorder caused by a genetic defect in N-acetylgalactosamine-6-sulfate sulfatase (GALNS). In previous studies, we have found two common mutations in Caucasians and Japanese, respectively. To characterize the mutational spectrum in various ethnic groups, mutations in the GALNS gene in Colombian MPS IVA patients were investigated, and genetic backgrounds were extensively analyzed to identify racial origin, based on mitochondrial DNA (mtDNA) lineages. Three novel missense mutations never identified previously in other populations and found in 16 out of 19 Colombian MPS IVA unrelated alleles account for 84. 2% of the alleles in this study. The G301C and S162F mutations account for 68. 4% and 10. 5% of mutations, respectively, whereas the remaining F69V is limited to a single allele. The skewed prevalence of G301C in only Colombian patients and haplotype analysis by restriction fragment length polymorphisms in the GALNS gene suggest that G301C originated from a common ancestor. Investigation of the genetic background by means of mtDNA lineages indicate that all our patients are probably of native American descent \\n',\n",
        " 'Low frequency of BRCA1 germline mutations in 45 German breast/ovarian cancer families.\\nIn this study we investigated 45 German breast/ovarian cancer families for germline mutations in the BRCA1 gene. We identified four germline mutations in three breast cancer families and in one breast-ovarian cancer family. among these were one frameshift mutation, one nonsense mutation, one novel splice site mutation, and one missense mutation. The missense mutation was also found in 2. 8% of the general population, suggesting that it is not disease associated. The average age of disease onset in those families harbouring causative mutations was between 32. 3 and 37. 4 years, whereas the family harbouring the missense mutation had an average age of onset of 51. 2 years. These findings show that BRCA1 is implicated in a small fraction of breast/ovarian cancer families suggesting the involvement of another susceptibility gene (s) \\n',\n",
        " 'Paternal transmission of congenital myotonic dystrophy.\\nWe report a rare case of paternally transmitted congenital myotonic dystrophy (DM). The proband is a 23 year old, mentally retarded male who suffers severe muscular weakness. He presented with respiratory and feeding difficulties at birth. His two sibs suffer from childhood onset DM. Their late father had the adult type of DM, with onset around 30 years. Only six other cases of paternal transmission of congenital DM have been reported recently. We review the sex related effects on transmission of congenital DM. Decreased fertility of males with adult onset DM and contraction of the repeat upon male transmission contribute to the almost absent occurrence of paternal transmission of congenital DM. Also the fathers of the reported congenitally affected children showed, on average, shorter CTG repeat lengths and hence less severe clinical symptoms than the mothers of children with congenital DM. We conclude that paternal transmission of congenital DM is rare and preferentially occurs with onset of DM past 30 years in the father.. \\n',\n",
        " 'The RB1 gene mutation in a child with ectopic intracranial retinoblastoma.\\nThe RB1 gene mutation was investigated in a child with ectopic intracranial retinoblastoma using DNA obtained from both the pineal and retinal tumours of the patient. A nonsense mutation in exon 17 (codon 556) of the RB1 gene was found to be present homozygously in both the retinal and the pineal tumours. The same mutation was present heterozygously in the DNA from the constitutional cells of the patient, proving it to be of germline origin. The initial mutation was shown to have occurred in the paternally derived RB1 allele. The mutation is in an area of the gene that encodes the protein-binding region known as the pocket region and has been detected in other cases of retinoblastoma.. \\n',\n",
        " 'Low levels of beta hexosaminidase A in healthy individuals with apparent deficiency of this enzyme.\\nAppreciable beta hexosaminidase A (hex A) activity has been detected in cultured skin fibroblasts and melanoma tissue from healthy individuals previously reported as having deficiency of hex A activity indistinguishable from that of patients with Tay-Sachs disease (TSD). Identification and quantitation of hex A, amounting to 3. 5% -6. 9% of total beta hexosaminidase activity, has been obtained by cellulose acetate gel electrophoresis, DEAE-cellulose ion-exchange chromatography, radial immunodiffusion, and radioimmunoassay. Previous family studies suggested that these individuals may be compound heterozygotes for the common mutant TSD gene and a rare (allelic) mutant gene. Thus, the postulated rate mutant gene appears to code for the expression of low amounts of hex A. Heterozygotes for the rare mutant may be indistinguishable from heterozygotes for the common TSD mutant. However, direct visualization and quantitation of hex A by the methods described may prevent false-positive prenatal diagnosis of TSD in fetuses having the incomplete hex A deficiency of the type described in the four healthy individuals \\n',\n",
        " 'The tumor suppressor gene Smad4/Dpc4 is required for gastrulation and later for anterior development of the mouse embryo.\\nMutations in the SMAD4/DPC4 tumor suppressor gene, a key signal transducer in most TGFbeta-related pathways, are involved in 50% of pancreatic cancers. Homozygous Smad4 mutant mice die before day 7. 5 of embryogenesis. Mutant embryos have reduced size, fail to gastrulate or express a mesodermal marker, and show abnormal visceral endoderm development. Growth retardation of the Smad4-deficient embryos results from reduced cell proliferation rather than increased apoptosis. Aggregation of mutant Smad4 ES cells with wild-type tetraploid morulae rescues the gastrulation defect. These results indicate that Smad4 is initially required for the differentiation of the visceral endoderm and that the gastrulation defect in the epiblast is secondary and non-cell autonomous. Rescued embryos show severe anterior truncations, indicating a second important role for Smad4 in anterior patterning during embryogenesis. \\n',\n",
        " 'Prevalence of p16 and CDK4 germline mutations in 48 melanoma-prone families in France. The French Familial Melanoma Study Group.\\nGermline mutations in the p16 and CDK4 genes have been reported in a subset of melanoma pedigrees, but their prevalence is not well known. We searched for such germline mutations in 48 French melanoma-prone families selected according to two major criteria  families with at least three affected members (n = 20) or families with two affected members, one of them affected before the age of 50 (n = 28), and one additional minor criterion. Sixteen different p16 germline mutations were found in 21 families, while one germline mutation, Arg24His, was detected in the CDK4 gene. The frequency of p16 gene mutation in our sample (44%) is among the highest rates yet reported and the CDK4 mutation is the second mutation detected in this gene worldwide. In summary, our results show frequent involvement of the p16 gene in familial melanoma and confirm the role of the CDK4 gene as a melanoma-predisposing gene.. \\n',\n",
        " 'Progression of somatic CTG repeat length heterogeneity in the blood cells of myotonic dystrophy patients.\\nThe genetic basis of myotonic dystrophy (DM) is the expansion of an unstable CTG repeat in the 34 UTR of the DM protein kinase gene on chromosome 19. One of the principal features of the DM mutation is an extraordinarily high level of somatic mosaicism, due to an extremely high degree of somatic instability both within and between different tissues. This instability appears to be biased towards further expansion and continuous throughout the life of an individual, features that could be associated with the progressive nature of the disease. Although increasing measured allele size between patients clearly correlates with an increased severity of symptoms and an earlier age of onset, this correlation is not precise and measured allele length cannot be used as an accurate predictor of age of onset. In order to further characterize the dynamics of DM CTG repeat somatic instability, we have studied repeat length changes over time in 111 myotonic dystrophy patients with varying clinical severity and CTG repeat size over time intervals of 1-7 years. We have found a direct progression of the size heterogeneity over time related to initial CTG repeat size and the time interval and always biased towards further expansion. Attempts to mathematically model the dynamics have proved only partially successful suggesting that individual specific genetic and/or environmental factors also play a role in somatic mosaicism.. \\n',\n",
        " 'Aspartylglucosaminuria among Palestinian Arabs.\\nAspartylglucosaminuria (AGU) is a rare disorder of glycoprotein metabolism caused by the deficiency of the lysosomal enzyme aspartylglucosaminidase (AGA). AGU is inherited as an autosomal recessive trait and occurs with a high frequency in Finland because of a founder effect. While very few patients with AGU have been reported from non-Finnish origin, we diagnosed the disorder in 8 patients originating from 3 unrelated families, all Palestinian Arabs from the region of Jerusalem. The clinical diagnosis of AGU is often difficult, in particular early in the course of the disease, and most of the patients are diagnosed after the age of 5 years. However, since these patients excrete early large amounts of aspartylglucosamine in urine, biochemical screening is easy by urine chromatography.. \\n',\n",
        " 'Detection of heterozygous carriers of the ataxia-telangiectasia (ATM) gene by G2 phase chromosomal radiosensitivity of peripheral blood lymphocytes.\\nIn ataxia-telangiectasia (A-T) patients, mutations in a single gene, ATM, result in an autosomal recessive syndrome that embraces a variety of clinical features and manifests extreme radiosensitivity and a strong pre-disposition to malignancy. Heterozygotes for the ATM gene have no clinical expression of A-T but may be cancer prone with a moderate increase in in vitro radiosensitivity. We performed a blind chromosomal analysis on G2-phase lymphocytes from 7 unrelated A-T patients, 13 obligate A-T heterozygotes (parents of the patients), and 14 normal controls following X-irradiation with 1 Gy in order to evaluate this cytogenetic method as a tool for detection of ATM carriers. Both A-T homozygotes and heterozygotes showed significantly increased levels of radiation-induced chromatid damage relative to that of normal controls. These results show that the G2-phase chromosomal radiosensitivity assay can be used for the detection of A-T heterozygotes. In combination with molecular genetic analyses, this test may be of value in studies of familial and sporadic cancers aimed at determination of the potential involvement of ATM mutations in tumor risk or development.. \\n',\n",
        " 'Ataxia-telangiectasia: identification and detection of founder-effect mutations in the ATM gene in ethnic populations.\\nTo facilitate the evaluation of ATM heterozygotes for susceptibility to other diseases, such as breast cancer, we have attempted to define the most common mutations and their frequencies in ataxia-telangiectasia (A-T) homozygotes from 10 ethnic populations. Both genomic mutations and their effects on cDNA were characterized. Protein-truncation testing of the entire ATM cDNA detected 92 (66%) truncating mutations in 140 mutant alleles screened. The haplotyping of patients with identical mutations indicates that almost all of these represent common ancestry and that very few spontaneously recurring ATM mutations exist. Assays requiring minimal amounts of genomic DNA were designed to allow rapid screening for common ethnic mutations. These rapid assays detected mutations in 76% of Costa Rican patients (3), 50% of Norwegian patients (1), 25% of Polish patients (4), and 14% of Italian patients (1), as well as in patients of Amish/Mennonite and Irish English backgrounds. Additional mutations were observed in Japanese, Utah Mormon, and African American patients. These assays should facilitate screening for A-T heterozygotes in the populations studied.. \\n',\n",
        " 'The von Hippel-Lindau tumor suppressor gene is required for cell cycle exit upon serum withdrawal.\\nThe inactivation of the von Hippel-Lindau (VHL) tumor suppressor gene predisposes affected individuals to the human VHL cancer syndrome and is associated with sporadic renal cell carcinomas (RCC) and brain hemangioblastomas. VHL-negative 786-0 RCC cells are tumorigenic in nude mice which is suppressed by the reintroduction of VHL. Remarkably, this occurs without affecting the growth rate and cell cycle profile of these cells in culture. The 786-0 cell line, like many cancer cells, fails to exit the cell cycle upon serum withdrawal. Here, it is shown that reintroduction of the wild-type VHL gene restores the ability of VHL-negative RCC cancer cells to exit the cell cycle and enter G0/quiescence in low serum. Both VHL-positive and VHL-negative RCC cells exit the cell cycle by contact inhibition. The cyclin-dependent kinase inhibitor, p27, accumulates upon serum withdrawal, only in the presence of VHL, as a result of the stabilization of the protein. We propose that the loss of wild-type VHL gene results in a specific cellular defect in serum-dependent growth control, which may initiate tumor formation. This is corrected by the reintroduction of wild-type VHL, implicating VHL as the first tumor suppressor involved in the regulation of cell cycle exit, which is consistent with its gatekeeper function in the kidney.. \\n',\n",
        " 'Piebaldism with deafness: molecular evidence for an expanded syndrome.\\nIn a South African girl of Xhosa stock with severe piebaldism and profound congenital sensorineural deafness we identified a novel missense substitution at a highly conserved residue in the intracellular kinase domain of the KIT proto-oncogene, R796G. Though auditory anomalies have been observed in mice with dominant white spotting (W) due to KIT mutations, deafness is not typical in human piebaldism. Thus, the occurrence of sensorineural deafness in this patient extends considerably the phenotypic range of piebaldism due to KIT gene mutation in humans and tightens the clinical similarity between piebaldism and the various forms of Waardenburg syndrome.. \\n',\n",
        " 'Cycloheximide facilitates the identification of aberrant transcripts resulting from a novel splice-site mutation in COL17A1 in a patient with generalized atrophic benign epidermolysis bullosa.\\nPatients with generalized atrophic benign epidermolysis bullosa often show decreased expression of type XVII collagen, a transmembrane hemidesmosomal protein encoded by COL17A1. This report documents a novel splice-site mutation in COL17A1 in a patient with generalized atrophic benign epidermolysis bullosa, and applies a new methodology to define and characterize the resulting mRNA splice variants. Mutational analysis of COL17A1 identified a maternally inherited G-to-T transversion at the -1 position of exon 32. This acceptor splice-site mutation led to the formation of aberrant transcripts present at extremely low levels. Based on our recent finding that cycloheximide stabilized mutant COL17A1 transcripts in keratinocytes homozygous for a frameshift mutation, the effects of the splice-site mutation on splicing of COL17A1 transcripts were determined using reverse transcriptase polymerase chain reaction of total RNA from keratinocytes incubated for 2. 5 h in the presence or absence of 10 microg cycloheximide per ml. Using this approach, an abnormally spliced transcript was identified that contains an extra 264 bases upstream from exon 32, resulting in a premature termination codon 27 bp downstream from the cryptic splice site. Three other splice variants, including one derived from the skipping of exon 32, were also identified. These results indicate the usefulness of cycloheximide treatment in evaluating the abnormal processing of mRNA due to splice-site mutations, because  (i) aberrant splicing often generates a premature termination codon, (ii) transcripts with premature termination codons can occur at low or undetectable levels due to nonsense-mediated mRNA decay, and (iii) the levels of these transcripts can be increased by cycloheximide. \\n',\n",
        " 'A deletion mutation in COL17A1 in five Austrian families with generalized atrophic benign epidermolysis bullosa represents propagation of an ancestral allele.\\nPatients with generalized atrophic benign epidermolysis bullosa, a usually nonlethal form of junctional epidermolysis bullosa, have generalized blistering, nail dystrophy, patchy alopecia, and dental abnormalities. Skin fragility in most cases is due to mutations in the gene encoding type XVII collagen (COL17A1). Recently, we reported five Austrian families with generalized atrophic benign epidermolysis bullosa who share the same COL17A1 mutation. Affected individuals in three families are homozygous for 4003delTC, whereas those in two others are compound heterozygotes. To determine if the occurrence of 4003delTC in these unrelated families signifies propagation of an ancestral allele or a mutational hot spot, haplotypes were determined for polymorphisms both within and flanking COL17A1. Five intragenic polymorphisms were chosen based on their informativeness. One of these, not previously reported, was 2988 A or C that introduces a new restriction site for Eco0109 I. All the 4003delTC alleles showed the same haplotype for these five polymorphic markers. Fourteen microsatellite polymorphisms were selected based on their high heterozygosity and their location within 10q23-q25 near COL17A1. Three families shared microsatellite polymorphisms covering at most 19 cM, whereas the others shared smaller regions consistent with cross-over events during passage of this mutation through several generations. These results indicate that 4003delTC occurs on a single ancestral allele.. \\n',\n",
        " 'Distribution of emerin and lamins in the heart and implications for Emery-Dreifuss muscular dystrophy.\\nEmerin is a nuclear membrane protein which is missing or defective in Emery-Dreifuss muscular dystrophy (EDMD). It is one member of a family of lamina-associated proteins which includes LAP1, LAP2 and lamin B receptor (LBR). A panel of 16 monoclonal antibodies (mAbs) has been mapped to six specific sites throughout the emerin molecule using phage-displayed peptide libraries and has been used to localize emerin in human and rabbit heart. Several mAbs against different emerin epitopes did not recognize intercalated discs in the heart, though they recognized cardiomyocyte nuclei strongly, both at the rim and in intranuclear spots or channels. A polyclonal rabbit antiserum against emerin did recognize both nuclear membrane and intercalated discs but, after affinity purification against a pure-emerin band on a western blot, it stained only the nuclear membrane. These results would not be expected if immunostaining at intercalated discs were due to a product of the emerin gene and, therefore, cast some doubt upon the hypothesis that cardiac defects in EDMD are caused by absence of emerin from intercalated discs. Although emerin was abundant in the membranes of cardiomyocyte nuclei, it was absent from many non-myocyte cells in the heart. This distribution of emerin was similar to that of lamin A, a candidate gene for an autosomal form of EDMD. In contrast, lamin B1 was absent from cardiomyocyte nuclei, showing that lamin B1 is not essential for localization of emerin to the nuclear lamina. Lamin B1 is also almost completely absent from skeletal muscle nuclei. In EDMD, the additional absence of lamin B1 from heart and skeletal muscle nuclei which already lack emerin may offer an alternative explanation of why these tissues are particularly affected.. \\n',\n",
        " 'Genetic mapping of the copper toxicosis locus in Bedlington terriers to dog chromosome 10, in a region syntenic to human chromosome region 2p13-p16.\\nAbnormal hepatic copper accumulation is recognized as an inherited disorder in man, mouse, rat and dog. The major cause of hepatic copper accumulation in man is a dysfunctional ATP7B gene, causing Wilson disease (WD). Mutations in the ATP7B genes have also been demonstrated in mouse and rat. The ATP7B gene has been excluded in the much rarer human copper overload disease non-Indian childhood cirrhosis, indicating genetic heterogeneity. By investigating the common autosomal recessive copper toxicosis (CT) in Bedlington terriers, we have identified a new locus involved in progressive liver disease. We examined whether the WD gene ATP7B was also causative for CT by investigating the chromosomal co-localization of ATP7B and C04107, using fluorescence in situ hybridization (FISH). C04107 is an anonymous microsatellite marker closely linked to CT. However, BAC clones containing ATP7B and C04107 mapped to the canine chromosome regions CFA22q11 and CFA10q26, respectively, demonstrating that WD cannot be homologous to CT. The copper transport genes CTR1 and CTR2 were also excluded as candidate genes for CT since they both mapped to canine chromosome region CFA11q22. 2-22. 5. A transcribed sequence identified from the C04107-containing BAC was found to be homologous to a gene expressed from human chromosome 2p13-p16, a region devoid of any positional candidate genes. \\n',\n",
        " 'Molecular analysis of the APC gene in 205 families: extended genotype-phenotype correlations in FAP and evidence for the role of APC amino acid changes in colorectal cancer predisposition.\\nBACKGROUND/AIMS  The development of colorectal cancer and a variable range of extracolonic manifestations in familial adenomatous polyposis (FAP) is the result of the dominant inheritance of adenomatous polyposis coli (APC) gene mutations. In this study, direct mutation analysis of the APC gene was performed to determine genotype-phenotype correlations for nine extracolonic manifestations and to investigate the incidence of APC mutations in non-FAP colorectal cancer. METHODS  The APC gene was analysed in 190 unrelated FAP and 15 non-FAP colorectal cancer patients using denaturing gradient gel electrophoresis, the protein truncation test, and direct sequencing. RESULTS  Chain terminating signals were only identified in patients belonging to the FAP group (105 patients). Amino acid changes were identified in four patients, three of whom belonged to the non-FAP group of colorectal cancer patients. Genotype-phenotype correlations identified significant differences in the nature of certain extracolonic manifestations in FAP patients belonging to three mutation subgroups. CONCLUSIONS  Extended genotype-phenotype correlations made in this study may have the potential to determine the most appropriate surveillance and prophylactic treatment regimens for those patients with mutations associated with life threatening conditions. This study also provided evidence for the pathological nature of amino acid changes in APC associated with both FAP and non-FAP colorectal cancer patients.. \\n',\n",
        " 'Inherited colorectal polyposis and cancer risk of the APC I1307K polymorphism.\\nGerm-line and somatic truncating mutations of the APC gene are thought to initiate colorectal tumor formation in familial adenomatous polyposis syndrome and sporadic colorectal carcinogenesis, respectively. Recently, an isoleucine-- > lysine polymorphism at codon 1307 (I1307K) of the APC gene has been identified in 6% -7% of the Ashkenazi Jewish population. To assess the risk of this common APC allelic variant in colorectal carcinogenesis, we have analyzed a large cohort of unselected Ashkenazi Jewish subjects with adenomatous polyps and. or colorectal cancer, for the APC I1307K polymorphism. The APC I1307K allele was identified in 48 (10. 1%) of 476 patients. Compared with the frequency in two separate population control groups, the APC I1307K allele is associated with an estimated relative risk of 1. 5-1. 7 for colorectal neoplasia (both P =. 01). Furthermore, compared with noncarriers, APC I1307K carriers had increased numbers of adenomas and colorectal cancers per patient (P =. 03), as well as a younger age at diagnosis. We conclude that the APC I1307K variant leads to increased adenoma formation and directly contributes to 3% -4% of all Ashkenazi Jewish colorectal cancer. The estimated relative risk for carriers may justify specific clinical screening for the 360, 000 Americans expected to harbor this allele, and genetic testing in the setting of long-term-outcome studies may impact significantly on colorectal cancer prevention in this population.\\n',\n",
        " 'Localization of human BRCA1 and its loss in high-grade, non-inherited breast carcinomas.\\nAlthough the link between the BRCA1 tumour-suppressor gene and hereditary breast and ovarian cancer is established, the role, if any, of BRCA1 in non-familial cancers is unclear. BRCA1 mutations are rare in sporadic cancers, but loss of BRCA1 resulting from reduced expression or incorrect subcellular localization is postulated to be important in non-familial breast and ovarian cancers. Epigenetic loss, however, has not received general acceptance due to controversy regarding the subcellular localization of BRCA1 proteins, reports of which have ranged from exclusively nuclear, to conditionally nuclear, to the ER/golgi, to cytoplasmic invaginations into the nucleus. In an attempt to resolve this issue, we have comprehensively characterized 19 anti-BRCA1 antibodies. These reagents detect a 220-kD protein localized in discrete nuclear foci in all epithelial cell lines, including those derived from breast malignancies. Immunohistochemical staining of human breast specimens also revealed BRCA1 nuclear foci in benign breast, invasive lobular cancers and low-grade ductal carcinomas. Conversely, BRCA1 expression was reduced or undetectable in the majority of high-grade, ductal carcinomas, suggesting that absence of BRCA1 may contribute to the pathogenesis of a significant percentage of sporadic breast cancers.. \\n']"
      ]
    },
    {
      "cell_type": "markdown",
      "metadata": {
        "id": "zQGXapqMIet_"
      },
      "source": [
        "Stimming"
      ]
    },
    {
      "cell_type": "code",
      "execution_count": 12,
      "metadata": {
        "colab": {
          "base_uri": "https://localhost:8080/"
        },
        "id": "bIPj4wCFIahR",
        "outputId": "1059bf87-87c2-4e1d-88d1-b61298baaebf"
      },
      "outputs": [
        {
          "output_type": "stream",
          "name": "stdout",
          "text": [
            "['cluster of missens mutat in the ataxia-telangiectasia gene in a sporad t-cell leukaemia . ataxia-telangiectasia ( a-t ) is a recess multi-system disord caus by mutat in the atm gene at 11q22-q23 ( ref . 3 ) . the risk of cancer , especi lymphoid neoplasia , is substanti elev in a-t patient and ha long been associ with chromosom instabl . by analys tumour dna from patient with sporad t-cell prolymphocyt leukaemia ( t-pll ) , a rare clonal malign with similar to a matur t-cell leukaemia seen in a-t , we demonstr a high frequenc of atm mutat in t-pll . in mark contrast to the atm mutat pattern in a-t , the most frequent nucleotid chang in thi leukaemia were missens mutat . these cluster in the region correspond to the kinas domain , which is highli conserv in atm-rel protein in mous , yeast and drosophila . the result amino-acid substitut are predict to interfer with atp bind or substrat recognit . two of seventeen mutat t-pll sampl had a previous report a-t allel . in contrast , no mutat were detect in the p53 gene , suggest that thi tumour suppressor is not frequent alter in thi leukaemia . occasion missens mutat in atm were also found in tumour dna from patient with b-cell non-hodgkin lymphoma ( b-nhl ) and a b-nhl cell line . the evid of a signific proport of loss-of-funct mutat and a complet absenc of the normal copi of atm in the major of mutat tumour establish somat inactiv of thi gene in the pathogenesi of sporad t-pll and suggest that atm act as a tumour suppressor . as constitut dna wa not avail , a put hereditari predisposit to t-pll will requir further investig ..', 'myoton dystrophi protein kinas is involv in the modul of the ca2+ homeostasi in skelet muscl cell . myoton dystrophi ( dm ) , the most preval muscular disord in adult , is caus by ( ctg ) n-repeat expans in a gene encod a protein kinas ( dm protein kinas ; dmpk ) and involv chang in cytoarchitectur and ion homeostasi . to obtain clue to the normal biolog role of dmpk in cellular ion homeostasi , we have compar the rest [ ca2 + ] i , the amplitud and shape of depolarization-induc ca2 + transient , and the content of atp-driven ion pump in cultur skelet muscl cell of wild-typ and dmpk [ -/- ] knockout mice . in vitro-differenti dmpk [ -/- ] myotub exhibit a higher rest [ ca2 + ] i than do wild-typ myotub becaus of an alter open probabl of voltage-depend l-type ca2 + and na + channel . the mutant myotub exhibit smaller and slower ca2 + respons upon trigger by acetylcholin or high extern k + . in addit , we observ that these ca2 + transient partial result from an influx of extracellular ca2 + through the l-type ca2 + channel . neither the content nor the activ of na +/k + atpas and sarcoplasm reticulum ca2 + -atpas are affect by dmpk absenc . in conclus , our data suggest that dmpk is involv in modul the initi event of excitation-contract coupl in skelet muscl ..', 'constitut rb1-gene mutat in patient with isol unilater retinoblastoma . in most patient with isol unilater retinoblastoma , tumor develop is initi by somat inactiv of both allel of the rb1 gene . howev , some of these patient can transmit retinoblastoma predisposit to their offspr . to determin the frequenc and natur of constitut rb1-gene mutat in patient with isol unilater retinoblastoma , we analyz dna from peripher blood and from tumor tissu . the analysi of tumor from 54 ( 71 % ) of 76 inform patient show loss of constitut heterozygos ( loh ) at intragen loci . three of 13 uninform patient had constitut delet . for 39 randomli select tumor , sscp , hetero-duplex analysi , sequenc , and southern blot analysi were use to identifi mutat . mutat were detect in 21 ( 91 % ) of 23 tumor with loh . in 6 ( 38 % ) of 16 tumor without loh , one mutat wa detect , and in 9 ( 56 % ) of the tumor without loh , both mutat were found . thu , a total of 45 mutat were identifi in tumor of 36 patient . thirty-nin of the mutations-includ 34 small mutat , 2 larg structur alter , and hypermethyl in 3 tumors-wer not detect in the correspond peripher blood dna . in 6 ( 17 % ) of the 36 patient , a mutat wa detect in constitut dna , and 1 of these mutat is known to be associ with reduc express . the presenc of a constitut mutat wa not associ with an earli age at treatment . in 1 patient , somat mosaic wa demonstr by molecular analysi of dna and rna from peripher blood . in 2 patient without a detect mutat in peripher blood , mosaic wa suggest becaus 1 of the patient show multifoc tumor and the other later develop bilater retinoblastoma . in conclus , our result emphas that the manifest and transmiss of retinoblastoma depend on the natur of the first mutat , it time in develop , and the number and type of cell that are affect ..', 'hereditari defici of the fifth compon of complement in man . i . clinic , immunochem , and famili studi . the first recogn human kindr with hereditari defici of the fifth compon of complement ( c5 ) is describ . the proband , a 20-year-old black femal with system lupu erythematosu sinc age 11 , lack serum hemolyt complement activ , even dure remiss . c5 wa undetect in her serum by both immunodiffus and hemolyt assay . other complement compon were normal dure remiss of lupu , but c1 , c4 , c2 , and c3 level fell dure exacerb . a younger half-sist , who had no underli diseas , wa also found to lack immunochem detect c5 . by hemolyt assay , she exhibit 1-2 % of the normal serum c5 level and normal concentr of other complement compon . c5 level of other famili member were either normal or approxim half-norm , consist with autosom codomin inherit of the gene determin c5 defici . normal hemolyt titer were restor to both homozyg c5-defici ( c5d ) sera by addit of highli purifi human c5 . in specif c5 titrat , howev , it wa note that when limit amount of c5 were assay in the presenc of low dilut of either c5d serum , curv rather than linear dose-respons plot were consist obtain , suggest some inhibitori effect . further studi suggest that low dilut of c5d serum contain a factor ( or factor ) interf at some step in the hemolyt assay of c5 , rather than a true c5 inhibitor or inactiv . of clinic interest are ( a ) the document of membran glomerulonephr , vascul , and arthriti in an individu lack c5 ( and it biolog function ) , and ( b ) a remark propens to bacteri infect in the proband , even dure period of low-dos or alternate-day corticosteroid therapi . other observ indic that the c5d state is compat with normal coagul function and the capac to mount a neutrophil leukocytosi dure pyogen infect ..', 'suscept to ankylos spondyl in twin : the role of gene , hla , and the environ . object to determin the rel effect of genet and environment factor in suscept to ankylos spondyl ( as ) . method twin with as were identifi from the royal nation hospit for rheumat diseas databas . clinic and radiograph examin were perform to establish diagnos , and diseas sever wa assess use a combin of valid score system . hla type for hla-b27 , hla-b60 , and hla-dr1 wa perform by polymeras chain reaction with sequence-specif primer , and zygos wa assess use microsatellit marker . genet and environment varianc compon were assess with the program mx , use data from thi and previou studi of twin with as . result six of 8 monozygot ( mz ) twin pair were diseas concord , compar with 4 of 15 b27-posit dizygot ( dz ) twin pair ( 27 % ) and 4 of 32 dz twin pair overal ( 12 . 5 % ) . nonsignific increas in similar with regard to age at diseas onset and all of the diseas sever score assess were note in disease-concord mz twin compar with concord dz twin . hla-b27 and b60 were associ with the diseas in proband , and the rate of diseas concord wa significantli increas among dz twin pair in which the co-twin wa posit for both b27 and dr1 . addit genet effect were estim to contribut 97 % of the popul varianc . conclus suscept to as is larg genet determin , and the environment trigger for the diseas is probabl ubiquit . hla-b27 account for a minor of the overal genet suscept to as .', 'cell cycle-depend coloc of bard1 and brca1 protein in discret nuclear domain . germ-lin mutat of the brca1 gene predispos women to early-onset breast and ovarian cancer by compromis the gene presumpt function as a tumor suppressor . although the biochem properti of brca1 polypeptid are not understood , their express pattern and subcellular local suggest a role in cell-cycl regul . when rest cell are induc to prolifer , the steady-st level of brca1 increas in late g1 and reach a maximum dure s phase . moreov , in s phase cell , brca1 polypeptid are hyperphosphoryl and accumul into discret subnuclear foci term `` brca1 nuclear dots. `` brca1 associ in vivo with a structur relat protein term bard1 . here we show that the steady-st level of bard1 , unlik those of brca1 , remain rel constant dure cell cycl progress . howev , immunostain reveal that bard1 resid within brca1 nuclear dot dure s phase of the cell cycl , but not dure the g1 phase . nevertheless , bard1 polypeptid are found exclus in the nuclear fraction of both g1- and s-phase cell . therefor , progress to s phase is accompani by the aggreg of nuclear bard1 polypeptid into brca1 nuclear dot . thi cell cycle-depend coloc of bard1 and brca1 indic a role for bard1 in brca1-medi tumor suppress .', 'ethnic differ in the hfe codon 282 ( cys/tyr ) polymorph . recent studi have shown that hereditari hemochromatosi ( hh ) is like to be caus by homozygos for a cys282tyr mutat in the hfe gene locat 4 . 5 mb telomer to hla-a . popul studi of thi polymorph are facilit by the fact that the cys282tyr mutat creat a rsal restrict site . we have studi the codon 282 ( cys/tyr ) polymorph in differ ethnic group . in agreement with previou observ the tyr allel appear to be rare or absent in asiat ( indian , chines ) popul . the highest allel frequenc ( 7 . 5 % ) wa found in swede . saami ( 2 % ) and mordvinian ( 1 . 8 % ) had significantli lower frequenc of the tyr allel . comparison with allel frequenc base on preval estim of hh show some disagr with the rflp data , particularli in finn . the newli describ hfe marker provid a new approach to the screen of hh as well as studi of the relationship between the hfe tyr allel and differ disord includ cancer', 'autosom domin neurohypophys diabet insipidu associ with a missens mutat encod gly23 -- > val in neurophysin ii . autosom domin neurohypophys diabet insipidu ( adndi ) is an inherit diseas caus by progress degener of the magnocellular neuron of the hypothalamu lead to decreas abil to produc the hormon arginin vasopressin ( avp ) . affect individu are not symptomat at birth , but usual develop diabet insipidu at 1-6 yr of age . the genet locu of the diseas is the avp-neurophysin ii ( npii ) gene , and mutat that caus adndi have been found in both the signal peptid of the prepro-avp-npii precursor and within npii itself . an affect girl who present at 9 month of age and her similarli affect younger brother and father were all found to have a novel missens mutat ( g1758 -- > t ) encod the amino acid substitut gly23 -- > val within npii . the mutat wa confirm by restrict endonucleas analysi . a t1-weight magnet reson imag of the father pituitari gland demonstr an attenu posterior pituitari bright spot . thi mutat may be valuabl for develop model of dominantli inherit neurodegener , as the earli age of onset of symptom suggest that thi mutat may be particularli deleteri to the magnocellular neuron ..', 'frequent inactiv of pten/mmac1 in primari prostat cancer . sporad prostat carcinoma is the most common male cancer in the western world , yet mani of the major genet event involv in the progress of thi often fatal cancer remain to be elucid . numer cytogenet and allelotyp studi have report frequent loss of heterozygos on chromosom arm 10q in sporad prostat cancer . delet map studi have unambigu identifi a region of chromosom 10q23 to be the minim area of loss . a new tumor suppressor gene , pten/mmac1 , wa isol recent at thi region of chromosom 10q23 and found to be inactiv by mutat in three prostat cancer cell line . we screen 80 prostat tumor by microsatellit analysi and found chromosom 10q23 to be delet in 23 case . we then proceed with sequenc analysi of the entir pten/mmac1 code region and test for homozyg delet with new intragen marker in these 23 case with 10q23 loss of heterozygos . the identif of the second mutat event in 10 ( 43 % ) tumor establish pten/mmac1 as a main inactiv target of 10q loss in sporad prostat cancer ..', 'risk revers in predict test for huntington diseas . the first predict test for huntington diseas ( hd ) wa base on analysi of link polymorph dna marker to estim the likelihood of inherit the mutat for hd . limit to accuraci includ recombin between the dna marker and the mutat , pedigre structur , and whether dna sampl were avail from famili member . with direct test for the hd mutat , we have assess the accuraci of result obtain by linkag approach when request to do so by the test individu . for six such individu , there wa signific dispar between the test . three went from a decreas risk to an increas risk , while in anoth three the risk wa decreas . knowledg of the potenti reason for these chang in result and impact of these risk revers on both patient and the counsel team can assist in the develop of strategi for the prevent and , where necessari , manag of a risk revers in ani predict test program ..', 'a novel common missens mutat g301c in the n-acetylgalactosamine-6-sulf sulfatas gene in mucopolysaccharidosi iva . mucopolysaccharidosi iva ( mp iva ) is an autosom recess lysosom storag disord caus by a genet defect in n-acetylgalactosamine-6-sulf sulfatas ( galn ) . in previou studi , we have found two common mutat in caucasian and japanes , respect . to character the mutat spectrum in variou ethnic group , mutat in the galn gene in colombian mp iva patient were investig , and genet background were extens analyz to identifi racial origin , base on mitochondri dna ( mtdna ) lineag . three novel missens mutat never identifi previous in other popul and found in 16 out of 19 colombian mp iva unrel allel account for 84 . 2 % of the allel in thi studi . the g301c and s162f mutat account for 68 . 4 % and 10 . 5 % of mutat , respect , wherea the remain f69v is limit to a singl allel . the skew preval of g301c in onli colombian patient and haplotyp analysi by restrict fragment length polymorph in the galn gene suggest that g301c origin from a common ancestor . investig of the genet background by mean of mtdna lineag indic that all our patient are probabl of nativ american descent', 'low frequenc of brca1 germlin mutat in 45 german breast/ovarian cancer famili . in thi studi we investig 45 german breast/ovarian cancer famili for germlin mutat in the brca1 gene . we identifi four germlin mutat in three breast cancer famili and in one breast-ovarian cancer famili . among these were one frameshift mutat , one nonsens mutat , one novel splice site mutat , and one missens mutat . the missens mutat wa also found in 2 . 8 % of the gener popul , suggest that it is not diseas associ . the averag age of diseas onset in those famili harbour caus mutat wa between 32 . 3 and 37 . 4 year , wherea the famili harbour the missens mutat had an averag age of onset of 51 . 2 year . these find show that brca1 is implic in a small fraction of breast/ovarian cancer famili suggest the involv of anoth suscept gene ( s )', 'patern transmiss of congenit myoton dystrophi . we report a rare case of patern transmit congenit myoton dystrophi ( dm ) . the proband is a 23 year old , mental retard male who suffer sever muscular weak . he present with respiratori and feed difficulti at birth . hi two sib suffer from childhood onset dm . their late father had the adult type of dm , with onset around 30 year . onli six other case of patern transmiss of congenit dm have been report recent . we review the sex relat effect on transmiss of congenit dm . decreas fertil of male with adult onset dm and contract of the repeat upon male transmiss contribut to the almost absent occurr of patern transmiss of congenit dm . also the father of the report congenit affect children show , on averag , shorter ctg repeat length and henc less sever clinic symptom than the mother of children with congenit dm . we conclud that patern transmiss of congenit dm is rare and preferenti occur with onset of dm past 30 year in the father ..', 'the rb1 gene mutat in a child with ectop intracrani retinoblastoma . the rb1 gene mutat wa investig in a child with ectop intracrani retinoblastoma use dna obtain from both the pineal and retin tumour of the patient . a nonsens mutat in exon 17 ( codon 556 ) of the rb1 gene wa found to be present homozyg in both the retin and the pineal tumour . the same mutat wa present heterozyg in the dna from the constitut cell of the patient , prove it to be of germlin origin . the initi mutat wa shown to have occur in the patern deriv rb1 allel . the mutat is in an area of the gene that encod the protein-bind region known as the pocket region and ha been detect in other case of retinoblastoma ..', 'low level of beta hexosaminidas a in healthi individu with appar defici of thi enzym . appreci beta hexosaminidas a ( hex a ) activ ha been detect in cultur skin fibroblast and melanoma tissu from healthi individu previous report as have defici of hex a activ indistinguish from that of patient with tay-sach diseas ( tsd ) . identif and quantit of hex a , amount to 3 . 5 % -6 . 9 % of total beta hexosaminidas activ , ha been obtain by cellulos acet gel electrophoresi , deae-cellulos ion-exchang chromatographi , radial immunodiffus , and radioimmunoassay . previou famili studi suggest that these individu may be compound heterozygot for the common mutant tsd gene and a rare ( allel ) mutant gene . thu , the postul rate mutant gene appear to code for the express of low amount of hex a. heterozygot for the rare mutant may be indistinguish from heterozygot for the common tsd mutant . howev , direct visual and quantit of hex a by the method describ may prevent false-posit prenat diagnosi of tsd in fetus have the incomplet hex a defici of the type describ in the four healthi individu', 'the tumor suppressor gene smad4/dpc4 is requir for gastrul and later for anterior develop of the mous embryo . mutat in the smad4/dpc4 tumor suppressor gene , a key signal transduc in most tgfbeta-rel pathway , are involv in 50 % of pancreat cancer . homozyg smad4 mutant mice die befor day 7 . 5 of embryogenesi . mutant embryo have reduc size , fail to gastrul or express a mesoderm marker , and show abnorm viscer endoderm develop . growth retard of the smad4-defici embryo result from reduc cell prolifer rather than increas apoptosi . aggreg of mutant smad4 es cell with wild-typ tetraploid morula rescu the gastrul defect . these result indic that smad4 is initi requir for the differenti of the viscer endoderm and that the gastrul defect in the epiblast is secondari and non-cel autonom . rescu embryo show sever anterior truncat , indic a second import role for smad4 in anterior pattern dure embryogenesi .', 'preval of p16 and cdk4 germlin mutat in 48 melanoma-pron famili in franc . the french famili melanoma studi group . germlin mutat in the p16 and cdk4 gene have been report in a subset of melanoma pedigre , but their preval is not well known . we search for such germlin mutat in 48 french melanoma-pron famili select accord to two major criteria famili with at least three affect member ( n = 20 ) or famili with two affect member , one of them affect befor the age of 50 ( n = 28 ) , and one addit minor criterion . sixteen differ p16 germlin mutat were found in 21 famili , while one germlin mutat , arg24hi , wa detect in the cdk4 gene . the frequenc of p16 gene mutat in our sampl ( 44 % ) is among the highest rate yet report and the cdk4 mutat is the second mutat detect in thi gene worldwid . in summari , our result show frequent involv of the p16 gene in famili melanoma and confirm the role of the cdk4 gene as a melanoma-predispos gene ..', 'progress of somat ctg repeat length heterogen in the blood cell of myoton dystrophi patient . the genet basi of myoton dystrophi ( dm ) is the expans of an unstabl ctg repeat in the 34 utr of the dm protein kinas gene on chromosom 19 . one of the princip featur of the dm mutat is an extraordinarili high level of somat mosaic , due to an extrem high degre of somat instabl both within and between differ tissu . thi instabl appear to be bias toward further expans and continu throughout the life of an individu , featur that could be associ with the progress natur of the diseas . although increas measur allel size between patient clearli correl with an increas sever of symptom and an earlier age of onset , thi correl is not precis and measur allel length can not be use as an accur predictor of age of onset . in order to further character the dynam of dm ctg repeat somat instabl , we have studi repeat length chang over time in 111 myoton dystrophi patient with vari clinic sever and ctg repeat size over time interv of 1-7 year . we have found a direct progress of the size heterogen over time relat to initi ctg repeat size and the time interv and alway bias toward further expans . attempt to mathemat model the dynam have prove onli partial success suggest that individu specif genet and/or environment factor also play a role in somat mosaic ..', 'aspartylglucosaminuria among palestinian arab . aspartylglucosaminuria ( agu ) is a rare disord of glycoprotein metabol caus by the defici of the lysosom enzym aspartylglucosaminidas ( aga ) . agu is inherit as an autosom recess trait and occur with a high frequenc in finland becaus of a founder effect . while veri few patient with agu have been report from non-finnish origin , we diagnos the disord in 8 patient origin from 3 unrel famili , all palestinian arab from the region of jerusalem . the clinic diagnosi of agu is often difficult , in particular earli in the cours of the diseas , and most of the patient are diagnos after the age of 5 year . howev , sinc these patient excret earli larg amount of aspartylglucosamin in urin , biochem screen is easi by urin chromatographi ..', 'detect of heterozyg carrier of the ataxia-telangiectasia ( atm ) gene by g2 phase chromosom radiosensit of peripher blood lymphocyt . in ataxia-telangiectasia ( a-t ) patient , mutat in a singl gene , atm , result in an autosom recess syndrom that embrac a varieti of clinic featur and manifest extrem radiosensit and a strong pre-disposit to malign . heterozygot for the atm gene have no clinic express of a-t but may be cancer prone with a moder increas in in vitro radiosensit . we perform a blind chromosom analysi on g2-phase lymphocyt from 7 unrel a-t patient , 13 oblig a-t heterozygot ( parent of the patient ) , and 14 normal control follow x-irradi with 1 gy in order to evalu thi cytogenet method as a tool for detect of atm carrier . both a-t homozygot and heterozygot show significantli increas level of radiation-induc chromatid damag rel to that of normal control . these result show that the g2-phase chromosom radiosensit assay can be use for the detect of a-t heterozygot . in combin with molecular genet analys , thi test may be of valu in studi of famili and sporad cancer aim at determin of the potenti involv of atm mutat in tumor risk or develop ..', 'ataxia-telangiectasia : identif and detect of founder-effect mutat in the atm gene in ethnic popul . to facilit the evalu of atm heterozygot for suscept to other diseas , such as breast cancer , we have attempt to defin the most common mutat and their frequenc in ataxia-telangiectasia ( a-t ) homozygot from 10 ethnic popul . both genom mutat and their effect on cdna were character . protein-trunc test of the entir atm cdna detect 92 ( 66 % ) truncat mutat in 140 mutant allel screen . the haplotyp of patient with ident mutat indic that almost all of these repres common ancestri and that veri few spontan recur atm mutat exist . assay requir minim amount of genom dna were design to allow rapid screen for common ethnic mutat . these rapid assay detect mutat in 76 % of costa rican patient ( 3 ) , 50 % of norwegian patient ( 1 ) , 25 % of polish patient ( 4 ) , and 14 % of italian patient ( 1 ) , as well as in patient of amish/mennonit and irish english background . addit mutat were observ in japanes , utah mormon , and african american patient . these assay should facilit screen for a-t heterozygot in the popul studi ..', 'the von hippel-lindau tumor suppressor gene is requir for cell cycl exit upon serum withdraw . the inactiv of the von hippel-lindau ( vhl ) tumor suppressor gene predispos affect individu to the human vhl cancer syndrom and is associ with sporad renal cell carcinoma ( rcc ) and brain hemangioblastoma . vhl-neg 786-0 rcc cell are tumorigen in nude mice which is suppress by the reintroduct of vhl . remark , thi occur without affect the growth rate and cell cycl profil of these cell in cultur . the 786-0 cell line , like mani cancer cell , fail to exit the cell cycl upon serum withdraw . here , it is shown that reintroduct of the wild-typ vhl gene restor the abil of vhl-neg rcc cancer cell to exit the cell cycl and enter g0/quiescenc in low serum . both vhl-posit and vhl-neg rcc cell exit the cell cycl by contact inhibit . the cyclin-depend kinas inhibitor , p27 , accumul upon serum withdraw , onli in the presenc of vhl , as a result of the stabil of the protein . we propos that the loss of wild-typ vhl gene result in a specif cellular defect in serum-depend growth control , which may initi tumor format . thi is correct by the reintroduct of wild-typ vhl , implic vhl as the first tumor suppressor involv in the regul of cell cycl exit , which is consist with it gatekeep function in the kidney ..', 'piebald with deaf : molecular evid for an expand syndrom . in a south african girl of xhosa stock with sever piebald and profound congenit sensorineur deaf we identifi a novel missens substitut at a highli conserv residu in the intracellular kinas domain of the kit proto-oncogen , r796g . though auditori anomali have been observ in mice with domin white spot ( w ) due to kit mutat , deaf is not typic in human piebald . thu , the occurr of sensorineur deaf in thi patient extend consider the phenotyp rang of piebald due to kit gene mutat in human and tighten the clinic similar between piebald and the variou form of waardenburg syndrom ..', 'cycloheximid facilit the identif of aberr transcript result from a novel splice-sit mutat in col17a1 in a patient with gener atroph benign epidermolysi bullosa . patient with gener atroph benign epidermolysi bullosa often show decreas express of type xvii collagen , a transmembran hemidesmosom protein encod by col17a1 . thi report document a novel splice-sit mutat in col17a1 in a patient with gener atroph benign epidermolysi bullosa , and appli a new methodolog to defin and character the result mrna splice variant . mutat analysi of col17a1 identifi a matern inherit g-to-t transvers at the -1 posit of exon 32 . thi acceptor splice-sit mutat led to the format of aberr transcript present at extrem low level . base on our recent find that cycloheximid stabil mutant col17a1 transcript in keratinocyt homozyg for a frameshift mutat , the effect of the splice-sit mutat on splice of col17a1 transcript were determin use revers transcriptas polymeras chain reaction of total rna from keratinocyt incub for 2 . 5 h in the presenc or absenc of 10 microg cycloheximid per ml . use thi approach , an abnorm splice transcript wa identifi that contain an extra 264 base upstream from exon 32 , result in a prematur termin codon 27 bp downstream from the cryptic splice site . three other splice variant , includ one deriv from the skip of exon 32 , were also identifi . these result indic the use of cycloheximid treatment in evalu the abnorm process of mrna due to splice-sit mutat , becaus ( i ) aberr splice often gener a prematur termin codon , ( ii ) transcript with prematur termin codon can occur at low or undetect level due to nonsense-medi mrna decay , and ( iii ) the level of these transcript can be increas by cycloheximid .', 'a delet mutat in col17a1 in five austrian famili with gener atroph benign epidermolysi bullosa repres propag of an ancestr allel . patient with gener atroph benign epidermolysi bullosa , a usual nonleth form of junction epidermolysi bullosa , have gener blister , nail dystrophi , patchi alopecia , and dental abnorm . skin fragil in most case is due to mutat in the gene encod type xvii collagen ( col17a1 ) . recent , we report five austrian famili with gener atroph benign epidermolysi bullosa who share the same col17a1 mutat . affect individu in three famili are homozyg for 4003deltc , wherea those in two other are compound heterozygot . to determin if the occurr of 4003deltc in these unrel famili signifi propag of an ancestr allel or a mutat hot spot , haplotyp were determin for polymorph both within and flank col17a1 . five intragen polymorph were chosen base on their inform . one of these , not previous report , wa 2988 a or c that introduc a new restrict site for eco0109 i . all the 4003deltc allel show the same haplotyp for these five polymorph marker . fourteen microsatellit polymorph were select base on their high heterozygos and their locat within 10q23-q25 near col17a1 . three famili share microsatellit polymorph cover at most 19 cm , wherea the other share smaller region consist with cross-ov event dure passag of thi mutat through sever gener . these result indic that 4003deltc occur on a singl ancestr allel ..', 'distribut of emerin and lamin in the heart and implic for emery-dreifuss muscular dystrophi . emerin is a nuclear membran protein which is miss or defect in emery-dreifuss muscular dystrophi ( edmd ) . it is one member of a famili of lamina-associ protein which includ lap1 , lap2 and lamin b receptor ( lbr ) . a panel of 16 monoclon antibodi ( mab ) ha been map to six specif site throughout the emerin molecul use phage-display peptid librari and ha been use to local emerin in human and rabbit heart . sever mab against differ emerin epitop did not recogn intercal disc in the heart , though they recogn cardiomyocyt nuclei strongli , both at the rim and in intranuclear spot or channel . a polyclon rabbit antiserum against emerin did recogn both nuclear membran and intercal disc but , after affin purif against a pure-emerin band on a western blot , it stain onli the nuclear membran . these result would not be expect if immunostain at intercal disc were due to a product of the emerin gene and , therefor , cast some doubt upon the hypothesi that cardiac defect in edmd are caus by absenc of emerin from intercal disc . although emerin wa abund in the membran of cardiomyocyt nuclei , it wa absent from mani non-myocyt cell in the heart . thi distribut of emerin wa similar to that of lamin a , a candid gene for an autosom form of edmd . in contrast , lamin b1 wa absent from cardiomyocyt nuclei , show that lamin b1 is not essenti for local of emerin to the nuclear lamina . lamin b1 is also almost complet absent from skelet muscl nuclei . in edmd , the addit absenc of lamin b1 from heart and skelet muscl nuclei which alreadi lack emerin may offer an altern explan of whi these tissu are particularli affect ..', 'genet map of the copper toxicosi locu in bedlington terrier to dog chromosom 10 , in a region synten to human chromosom region 2p13-p16 . abnorm hepat copper accumul is recogn as an inherit disord in man , mous , rat and dog . the major caus of hepat copper accumul in man is a dysfunct atp7b gene , caus wilson diseas ( wd ) . mutat in the atp7b gene have also been demonstr in mous and rat . the atp7b gene ha been exclud in the much rarer human copper overload diseas non-indian childhood cirrhosi , indic genet heterogen . by investig the common autosom recess copper toxicosi ( ct ) in bedlington terrier , we have identifi a new locu involv in progress liver diseas . we examin whether the wd gene atp7b wa also caus for ct by investig the chromosom co-loc of atp7b and c04107 , use fluoresc in situ hybrid ( fish ) . c04107 is an anonym microsatellit marker close link to ct . howev , bac clone contain atp7b and c04107 map to the canin chromosom region cfa22q11 and cfa10q26 , respect , demonstr that wd can not be homolog to ct . the copper transport gene ctr1 and ctr2 were also exclud as candid gene for ct sinc they both map to canin chromosom region cfa11q22 . 2-22 . 5 . a transcrib sequenc identifi from the c04107-contain bac wa found to be homolog to a gene express from human chromosom 2p13-p16 , a region devoid of ani posit candid gene .', 'molecular analysi of the apc gene in 205 famili : extend genotype-phenotyp correl in fap and evid for the role of apc amino acid chang in colorect cancer predisposit . background/aim the develop of colorect cancer and a variabl rang of extracolon manifest in famili adenomat polyposi ( fap ) is the result of the domin inherit of adenomat polyposi coli ( apc ) gene mutat . in thi studi , direct mutat analysi of the apc gene wa perform to determin genotype-phenotyp correl for nine extracolon manifest and to investig the incid of apc mutat in non-fap colorect cancer . method the apc gene wa analys in 190 unrel fap and 15 non-fap colorect cancer patient use denatur gradient gel electrophoresi , the protein truncat test , and direct sequenc . result chain termin signal were onli identifi in patient belong to the fap group ( 105 patient ) . amino acid chang were identifi in four patient , three of whom belong to the non-fap group of colorect cancer patient . genotype-phenotyp correl identifi signific differ in the natur of certain extracolon manifest in fap patient belong to three mutat subgroup . conclus extend genotype-phenotyp correl made in thi studi may have the potenti to determin the most appropri surveil and prophylact treatment regimen for those patient with mutat associ with life threaten condit . thi studi also provid evid for the patholog natur of amino acid chang in apc associ with both fap and non-fap colorect cancer patient ..', 'inherit colorect polyposi and cancer risk of the apc i1307k polymorph . germ-lin and somat truncat mutat of the apc gene are thought to initi colorect tumor format in famili adenomat polyposi syndrom and sporad colorect carcinogenesi , respect . recent , an isoleucin -- > lysin polymorph at codon 1307 ( i1307k ) of the apc gene ha been identifi in 6 % -7 % of the ashkenazi jewish popul . to assess the risk of thi common apc allel variant in colorect carcinogenesi , we have analyz a larg cohort of unselect ashkenazi jewish subject with adenomat polyp and . or colorect cancer , for the apc i1307k polymorph . the apc i1307k allel wa identifi in 48 ( 10 . 1 % ) of 476 patient . compar with the frequenc in two separ popul control group , the apc i1307k allel is associ with an estim rel risk of 1 . 5-1 . 7 for colorect neoplasia ( both p = . 01 ) . furthermor , compar with noncarri , apc i1307k carrier had increas number of adenoma and colorect cancer per patient ( p = . 03 ) , as well as a younger age at diagnosi . we conclud that the apc i1307k variant lead to increas adenoma format and directli contribut to 3 % -4 % of all ashkenazi jewish colorect cancer . the estim rel risk for carrier may justifi specif clinic screen for the 360 , 000 american expect to harbor thi allel , and genet test in the set of long-term-outcom studi may impact significantli on colorect cancer prevent in thi popul .', 'local of human brca1 and it loss in high-grad , non-inherit breast carcinoma . although the link between the brca1 tumour-suppressor gene and hereditari breast and ovarian cancer is establish , the role , if ani , of brca1 in non-famili cancer is unclear . brca1 mutat are rare in sporad cancer , but loss of brca1 result from reduc express or incorrect subcellular local is postul to be import in non-famili breast and ovarian cancer . epigenet loss , howev , ha not receiv gener accept due to controversi regard the subcellular local of brca1 protein , report of which have rang from exclus nuclear , to condit nuclear , to the er/golgi , to cytoplasm invagin into the nucleu . in an attempt to resolv thi issu , we have comprehens character 19 anti-brca1 antibodi . these reagent detect a 220-kd protein local in discret nuclear foci in all epitheli cell line , includ those deriv from breast malign . immunohistochem stain of human breast specimen also reveal brca1 nuclear foci in benign breast , invas lobular cancer and low-grad ductal carcinoma . convers , brca1 express wa reduc or undetect in the major of high-grad , ductal carcinoma , suggest that absenc of brca1 may contribut to the pathogenesi of a signific percentag of sporad breast cancer ..']\n"
          ]
        },
        {
          "output_type": "stream",
          "name": "stderr",
          "text": [
            "[nltk_data] Downloading package punkt to /root/nltk_data...\n",
            "[nltk_data]   Package punkt is already up-to-date!\n"
          ]
        }
      ],
      "source": [
        "import nltk\n",
        "from nltk.tokenize import word_tokenize\n",
        "from nltk.stem import PorterStemmer\n",
        "\n",
        "stemmer = PorterStemmer()\n",
        "nltk.download('punkt')\n",
        "# Stem the corpus using NLTK\n",
        "stemmed_corpus = []\n",
        "for document in corpus:\n",
        "    # Tokenize and stem using NLTK\n",
        "    tokens = word_tokenize(document)\n",
        "    stemmed_tokens = [stemmer.stem(token) for token in tokens]\n",
        "    stemmed_corpus.append(\" \".join(stemmed_tokens))\n",
        "\n",
        "# Print or use the stemmed corpus as needed\n",
        "print(stemmed_corpus)"
      ]
    },
    {
      "cell_type": "code",
      "execution_count": 13,
      "metadata": {
        "colab": {
          "base_uri": "https://localhost:8080/"
        },
        "id": "oeDOKP19mykL",
        "outputId": "58c360ce-5852-4a9c-a2fc-9460c4bb891a"
      },
      "outputs": [
        {
          "output_type": "stream",
          "name": "stdout",
          "text": [
            "['treatment', 'incid', 'six', 'probabl', '28', 'step', 'arm', 'wd', 'sequenc', 'domin', 'antibodi', 'prove', 'dystrophi', 'often', 'correl', '1307', '16', 'quantit', 'amplitud', '36', 'inhibit', '264', 'pair', 'mosaic', 'underli', 'cell', 'justifi', 'fish', 'contrast', 'pathway', 'dot', 'man', 'singl', 'onli', 'posterior', 'cys282tyr', 'accur', 'residu', 'acceptor', 'directli', 'specif', '22', 'melanoma-pron', 'atm', '03', 'same', 'childhood', 'disagr', 'profound', 'valid', 'splice-sit', 'be', 'prolifer', 'dz', 'growth', 'gland', 'rim', 'altern', 'environ', 'onset', '20-year-old', 'aberr', 'iva', 'itself', 'congenit', 'gener', 'format', 'dizygot', 'within', 'nor', 'earlier', 'analysi', 'secondari', 'anti-brca1', 'hepat', 'retin', 'leukocytosi', 'controversi', 's', 'german', 'level', 'against', 'which', 'dose-respons', 'model', '-/-', 'decreas', 'control', 'varieti', 'local', 'ubiquit', 'later', 'false-posit', 'age', '48', 'he', 'nation', 'methodolog', 'adult', 'er/golgi', 'over', 'typic', 'describ', 'screen', 'mount', 'bard1', 'viscer', 'proband', 'primari', 'rheumat', 'signal', '190', '12', 'contract', 'skip', 'facilit', 'germlin', 'epigenet', 'code', 't-cell', 'chromatid', 'posit', 'two', 'receiv', 'varianc', 'arg24hi', 'progress', 'glomerulonephr', 'ca2', 'upstream', 'candid', 'epiblast', 'through', 'depolarization-induc', 'base', 'mental', 'ii', 'as', 'ashkenazi', 'here', 'contact', 'vhl-posit', 'their', 'g1', 'withdraw', 'heterozygot', '34', '23', 'exclud', 'electrophoresi', 'world', 'loss-of-funct', 'pituitari', 'domain', 'we', 'ion-exchang', 'transcript', 'howev', 'length', 'neurophysin', 'arginin', 'african', 'dots', 'report', 'criterion', 'past', 'cdk4', 'second', 'copi', 'other', 'can', 'cell-cycl', 'vivo', '-6', 'monoclon', 'transvers', 'b1', 'produc', 'descent', 'curv', 'yeast', 'seen', 'area', 'them', '>', 'show', 'inform', 'uninform', 'line', 'counsel', 'analyz', 'nail', 'cytogenet', 'doubt', 'gradient', 'immunodiffus', 'c5-defici', 'polyposi', 'heterozyg', 'fluoresc', '000', '15', 'of', 'radiograph', 'mx', 'knowledg', 'consider', 'rcc', 'hemolyt', 'rb1', 'unrel', 'essenti', 'sever', 'hospit', 'embrac', 'rat', 'easi', 'demonstr', 'had', 'librari', '38', 'three', '-1', 'there', 'ovarian', 'c5d', 'reaction', 'percentag', 'atroph', 'modul', 'inactiv', 'most', 'tool', 'g0/quiescenc', 'pure-emerin', 'they', 'adenomat', 'request', 'randomli', 'manag', 'brca1-medi', 'bac', 'hla-b60', 'franc', '-', 'half-norm', 'and/or', 'but', 'prevent', 'bilater', 'obtain', 'radiation-induc', 'object', 'rsal', 'thi', 'clue', 'dominantli', 'cyclin-depend', 'moder', '2', 'terrier', 'dm', 'exclus', 'respons', 'atpas', 'set', 'regard', 'nonleth', 'ctg', 'urin', 'devoid', 'transmit', 'rest', '786', '97', 'mab', 'hybrid', 'ankylos', 'variou', 'time', 'comparison', 'conclud', 'lobular', 'valu', 'vari', 'retinoblastoma', 'than', 'ref', 'subnuclear', 'polish', 'japanes', 'noncarri', 'melanoma-predispos', 'transmiss', 'keratinocyt', 'affin', 'for', 'rather', 'numer', 'coli', 'epidermolysi', 'canin', 'such', 'therapi', 'creat', 'cycloheximid', 'myotub', 'hla', 'signifi', 'alreadi', 'similar', 'hd', 'made', 'imag', 'document', 'avail', 'cohort', 'reintroduct', 'reduc', 'overal', 'origin', 'human', 'diagnos', 'ctr2', 'inhibitor', 'w', 'rb1-gene', 'acet', 'defect', 'italian', 'phage-display', 'piebald', '111', 'tgfbeta-rel', 'codomin', 'process', 'abnorm', 'heterogen', 'hla-a', 'ductal', 'incorrect', 'those', 'cluster', 'then', '--', 'band', 'identifi', 'develop', 'gly23', 'intercal', 'test', 'c1', 'near', 'haplotyp', 'b', 'b27-posit', 'panel', 'earli', 'reagent', 'whether', 'thirty-nin', 'mutat', 'hla-dr1', 'nativ', 'french', 'individu', 'includ', 'isol', 'direct', 'skew', 'recur', 'have', 'rna', 'befor', '37', 'fetus', 'breast', '282', 'white', 'either', 'mice', 'dmpk', 'tumors-wer', '50', 'spontan', 'hi', 'lysosom', 'non-indian', '360', 'b-nhl', 'finn', 'pancreat', '..', 'role', '45', 'magnet', 'act', 'cellular', 'incomplet', 'per', 'accompani', 'both', 'transient', 'phase', 'cast', 'smad4-defici', 'frameshift', 'import', 'open', 'hippel-lindau', 'rang', 'intragen', 'excitation-contract', 'spot', 'g', 'weak', 'that', 'background/aim', 'design', 'major', 'pten/mmac1', 'particular', 'corticosteroid', 'induc', 'cys/tyr', 'aspartylglucosaminidas', 'play', 'strongli', 'propag', 'non-hodgkin', 'cancer', 'provid', 'gy', 'ancestri', 'less', 'g1758', 'suppress', 'while', '140', 'it', 'offer', 'xhosa', 'transcrib', 'loh', 'gastrul', 'specimen', 'aspartylglucosamin', 'conserv', 'addit', 'famili', 'her', 'receptor', 'blister', 'prenat', 'pyogen', 'remain', 'clinic', '11q22-q23', 'revers', 'small', 'homozyg', 'exit', 'austrian', 'tissu', 'serum-depend', 'sulfatas', 'summari', 'unlik', '01', 'b27', 'c3', 'a.', '476', '556', 'protein-trunc', 'examin', 'precis', 'difficult', '19', 'smaller', 'establish', '`', 's162f', 'properti', 'evid', '4', 'amino-acid', 'pathogenesi', 'whom', 'non-finnish', 'complet', 'undetect', 'anonym', 'hormon', '220-kd', 'muscular', 'appropri', 'exacerb', 'atp-driven', 'spectrum', 'steady-st', 'sscp', 'intracellular', 'hemangioblastoma', 'p27', 'total', '10', 'diseas', 'children', 'epitop', 'regimen', 'predisposit', 'also', 'compat', 'apoptosi', 'hemochromatosi', 'score', 'non-inherit', 'becaus', 'identif', 'cross-ov', 'constitut', 'pineal', 'girl', 'titer', 'lamina-associ', 'on', 'coupl', 'irish', ']', 'interf', 'edmd', 'put', 'immunostain', 'compar', 'zygos', 'autosom', 'pattern', 'basi', 'inhibitori', 'homolog', 'jewish', 'emery-dreifuss', '76', 'anterior', ',', 'low', 'factor', 'polyclon', 'main', '1', '84', 'size', 'waardenburg', 'parent', 'dna', 'arab', 'invas', 'group', 'early-onset', 'allow', 'perform', 'mother', 'rate', 'smad4/dpc4', 'strong', 'ha', 'indic', 'popul', 'molecul', 'at', 'when', 'nonsense-medi', 'search', 'pre-disposit', 'hereditari', 'nine', 'huntington', 'lysin', 'allel', 'manifest', 'furthermor', 'arthriti', '4003deltc', 'prepro-avp-npii', 'present', 'the', 'to', 'caucasian', 'avp', 'gene', 'particularli', 'instabl', 'benign', '2988', 'disord', 'reach', 'well', 'all', 'may', 'rabbit', 'disc', 'suppressor', 'abund', 'would', 'non-myocyt', 'mitochondri', 'embryo', 'situ', 'program', 'cellulos', 'ctr1', 'analys', 'region', 'indian', 'beta', 'nucleu', 'usual', 'find', 'g2-phase', 'blot', 'kinas', 'younger', 'black', 'observ', 'dure', '-atpas', 'rarer', 'method', 'fragil', 'mucopolysaccharidosi', 'sinc', 'cm', 'background', 'neoplasia', 'approxim', 'differ', 'common', 'so', 'homeostasi', 'fragment', 'unclear', 'auditori', 'antiserum', 'relationship', 'channel', '%', 'rare', 'mean', 'chain', 'patholog', 'where', 'miss', 'kit', 'tyr', 'cryptic', 'transport', 'shown', 'invagin', 'profil', 'extend', 'p53', 'lack', 'dynam', '43', 'no', 'contribut', '5', 'knockout', 'collagen', '2p13-p16', 'accumul', 'postul', 'environment', 'eco0109', 'loci', 'should', 'nuclei', 'deriv', 'significantli', 'g1-', 'extracolon', 'val', 'transcriptas', '[', 'initi', 'previous', 'elev', 'affect', 'codon', 'influx', '3', 'mani', 'symptom', 'fail', 'share', 'adenoma', 'allelotyp', 'restrict', 'i', 'non-cel', 'g2', 'p16', 'genet', 'hfe', 'linkag', 'k', 'lower', 'monozygot', 'accept', '39', 'absent', 'western', 'homozygos', 'function', 'yr', 'extens', 'upon', 'autonom', 'tumour-suppressor', 'shorter', 'led', 'between', 'b-cell', 'non-fap', 'close', 'morula', 'lymphocyt', 'genom', 'matern', 'cours', 'toward', 'our', 'c2', 'palestinian', 'sensorineur', 'c04107', 'bp', 'toxicosi', 'patchi', '68', 'costa', 'intracrani', 'protein', 'h', 'chang', 'recent', 'lamina', 'cirrhosi', 'rel', 'least', 'she', 'plot', 'certain', '30', 'missens', 'therefor', 'cdna', 'vitro', 'remiss', 'a', 'presumpt', 'five', 'brca1', 'proceed', 'studi', 'high-grad', 'leukaemia', 'veri', 'are', 'absenc', 'founder-effect', 'intranuclear', 'appear', 'hypothesi', 'reveal', 'bind', 'concord', 'c', 'radial', 'fap', 'stock', 'resolv', 'trait', 'chromosom', '20', 'defin', 'mrna', 'tsd', 'predispos', 'smad4', 'nuclear', 'accord', 'first', 'number', 'lead', 'harbour', 'life', 'clonal', 'xvii', 'approach', 'substrat', 'polymeras', 'restor', 'dilut', '91', 'consist', 'use', 'heterozygos', 'sequence-specif', 'insipidu', 'emphas', 'nonsignific', 'wild-typ', 'low-grad', 'map', 'further', 'dental', '32', 'asiat', 'downstream', 'atm-rel', 'comprehens', 'extrem', 'proto-oncogen', 'necessari', 'potenti', 'deae-cellulos', 'bright', 'review', 'dispar', 'fibroblast', 'ancestr', 'few', 'gel', '44', 't', 'erythematosu', 'type', 'correspond', 'c04107-contain', 'hypermethyl', 'prone', 'co-twin', 'biochem', 'express', 'team', '56', 'sampl', 'iii', 'if', 'apc', 'late', 'bias', 'healthi', 'lineag', 'ancestor', 'site', 'molecular', 'fell', 'cycle-depend', 'aga', 'novel', 'radiosensit', 'enter', 'nucleotid', 'newli', 'magnocellular', 'thu', 'due', 'tetraploid', 'kindr', 'follow', 'subject', 'anoth', 'criteria', 'natur', 'biolog', 'been', 'mtdna', 'neuron', 'kidney', 'rapid', 'hot', 'ml', '-7', 'larg', 'sera', 'out', 'unselect', 'excret', 'tumour', 'conclus', 'sporad', 'effect', 'predictor', 'neutrophil', 'swede', 'regul', 'some', 'slower', 'variant', 'hemidesmosom', 'metabol', 'pedigre', 'target', 'went', 'femal', 'resid', 'utr', 'von', 'suggest', 'fertil', 'ion', 'telomer', 'hex', 'caus', 'normal', 'l-type', 'symptomat', 'cultur', 'subgroup', 'mb', 'a-t', 'vhl', 'titrat', 'select', 'deleteri', 'fifth', 'lymphoma', ':', 'myoton', 'skelet', 'feed', 'recogn', 'harbor', 'worldwid', 'repres', 'multi-system', 'transmembran', '10q23-q25', 'by', 'norwegian', 'dr1', '14', 'trigger', 'year', 'royal', 'especi', 'preval', 'never', 'interv', 'marker', 'transduc', 'defici', 'lupu', 'serum', 'period', 'event', 'chosen', 'diagnosi', 'aspartylglucosaminuria', '92', 'blood', 'cfa11q22', 'c4', 'constant', 'polymorph', 'vhl-neg', 'requir', 'gatekeep', 'birth', 'introduc', 'n-acetylgalactosamine-6-sulf', 'is', 'recess', 'southern', 'embryogenesi', 'reticulum', 'neurohypophys', 'radioimmunoassay', 'belong', 'differenti', 'hla-b27', 'mathemat', 'alway', '.', 'glycoprotein', 'homozygot', 'coagul', 'attenu', 'minor', 'flank', 'even', 'liver', 'acid', 'visual', '51', 'valuabl', 'tumor', 'frequent', 'proport', 'respiratori', 'hexosaminidas', 'brain', 'ct', 'associ', 'activ', 'depend', 'tighten', '6', 'like', 'estim', '25', 'high', 'aggreg', 'rican', 'polyp', 'risk', 'assist', 'found', 'expand', 'into', 'rflp', 'these', 'amino', 'splice', '(', 'skin', 'encod', 'sixteen', 'abil', 'attempt', 'non-famili', 't1-weight', 'fourteen', 'key', 'endoderm', '10q', 'impact', 'carrier', 's-phase', 'anomali', 'issu', 'brother', 'deaf', 'i1307k', 'new', 'ataxia-telangiectasia', 'immunohistochem', '0', ';', 'limit', 'purifi', 'alopecia', 'storag', 'understood', 'emerin', 'diabet', 'phenotyp', 'carcinoma', 'assess', 'finland', 'father', 'incub', 'link', 'twin', 'complement', 'expans', 'though', 'colombian', 't-pll', 'entir', 'agreement', 'cover', 'system', 'with', 'subcellular', '17', 'cfa22q11', 'structur', '66', '80', 'recombin', 'renal', 'co-loc', 'tumorigen', 'yet', 'highli', 'distribut', 'product', 'truncat', 'true', 'accuraci', 'cfa10q26', '=', 'reson', 'clearli', 'lap2', 'purif', 'cardiac', 'shape', 'maximum', 'confirm', 'founder', 'peptid', 'south', 'content', 'die', 'relat', 'termin', 'interest', 'col17a1', 'occurr', 'continu', 'g301c', 'mutations-includ', 'clone', 'old', ')', 'x-irradi', 'data', 'substanti', 'success', 'propos', 'peripher', 'similarli', 'measur', 'member', 'patient', '11', 'contain', 'appar', 'mordvinian', 'delet', 'hetero-duplex', 'half-sist', 'featur', 'microg', 'compon', 'junction', 'determin', 'suscept', 'previou', 'signific', '54', 'ani', 'membran', 'suffer', 'somat', 'carcinogenesi', 'databas', 'es', 'throughout', 'henc', 'alternate-day', 'extern', 'vasopressin', 'english', 'extra', 'loss', 'protein-bind', 'prostat', 'vascul', 'fraction', 'disease-concord', 'did', '205', 'recognit', 'b60', 'whi', 'evalu', 'nonsens', 'patern', 'oblig', 'passag', 'npii', 'overload', 'wa', 'partial', 'cardiomyocyt', 'mark', 'propens', 'amish/mennonit', 'p', 'vitro-differenti', 'utah', 'amount', 'acetylcholin', 'combin', 'mormon', 'breast-ovarian', 'although', 'pump', 'prophylact', 'hypothalamu', 'involv', 'mesoderm', 'ident', 'galn', 'not', '21', 'infect', '105', 'account', 'term', 'sex', 'variabl', 'among', 'compound', 'mz', 'breast/ovarian', 'enzym', 'immunochem', 'women', 'melanoma', 'agu', 'child', 'voltage-depend', 'separ', 'fatal', 'inherit', 'investig', 'isoleucin', 'highest', 'adndi', 'lymphoid', 'discret', 'an', 'bullosa', 'character', 'or', 'sarcoplasm', '27', 'extraordinarili', 'compromis', 'pocket', 'frequenc', 'locat', 'appreci', 'ethnic', '8', 'four', 'were', 'dysfunct', '10q23', 'thought', 'without', 'reason', 'drosophila', 'higher', 'tay-sach', 'damag', 'primer', 'month', 'known', 'almost', 'racial', 'who', 'and', 'surveil', 'unilater', 'dog', 'note', '13', 'locu', '71', 'multifoc', 'foci', 'polypeptid', 'assay', 'interfer', 'difficulti', 'order', 'form', 'colorect', 'unstabl', 'nude', 'detect', 'chromatographi', 'male', 'low-dos', 'long-term-outcom', 'american', 'from', 'n', 'chines', 'bacteri', 'germ-lin', 'endonucleas', 'epitheli', 'retard', 'implic', '/k', 'ectop', 'condit', 'one', 'cytoplasm', 'na', 'long', 'increas', 'prematur', '9', 'c5', 'subset', 'linear', 'respect', 'exon', 'jerusalem', 'in', 'lbr', 'occasion', 'mutant', 'exist', 'malign', 'spondyl', 'capac', 'minim', 'mous', 'offspr', 'stabil', 'aim', 'neurodegener', 'state', 'could', '+', 'heart', 'denatur', 'will', 'sib', '7', 'exhibit', 'degener', 'hyperphosphoryl', 'unambigu', 'moreov', 'lap1', 'appli', 'day', 'hh', 'avp-neurophysin', 'wherea', 'genotype-phenotyp', 'averag', 'result', 'substitut', 'remark', 'elucid', 'threaten', 'rescu', 'around', 'saami', 'mp', 'convers', 'stain', 'concentr', 'blind', 'indistinguish', 'matur', 'cycl', 'neither', 'decay', 'n-repeat', 'occur', 'degre', 'coloc', 'expect', 'case', '-4', 'after', 'preferenti', 'much', 'lamin', 'princip', 'seventeen', 'alter', 'explan', 'do', 'atp', 'g-to-t', 'repeat', 'cytoarchitectur', 'strategi', 'synten', 'bedlington', 'wilson', 'muscl', 'syndrom', 'atp7b', 'correct', 'fact', 'precursor', 'predict', 'microsatellit', 'likelihood', 'nevertheless', 'presenc', 'f69v', 'prolymphocyt', 'copper', 'extracellular', 'r796']\n"
          ]
        }
      ],
      "source": [
        "# Tokenize and create the vocabulary\n",
        "\n",
        "nlp = spacy.load(\"en_core_sci_sm\")\n",
        "\n",
        "vocab = set()\n",
        "for document in stemmed_corpus:\n",
        "    doc = nlp(document)\n",
        "    tokens = [token.text.lower() for token in nlp(document)]\n",
        "    vocab.update(tokens)\n",
        "\n",
        "# Convert the vocabulary set to a list\n",
        "vocab_list_use = list(vocab)\n",
        "\n",
        "# Print or use the vocabulary\n",
        "print(vocab_list_use)"
      ]
    },
    {
      "cell_type": "code",
      "execution_count": 14,
      "metadata": {
        "colab": {
          "base_uri": "https://localhost:8080/"
        },
        "id": "g65Aa6yTm2Hl",
        "outputId": "a4895aa2-564e-4082-84b6-bc0173eb1ed5"
      },
      "outputs": [
        {
          "output_type": "execute_result",
          "data": {
            "text/plain": [
              "1402"
            ]
          },
          "metadata": {},
          "execution_count": 14
        }
      ],
      "source": [
        "len (vocab_list_use)"
      ]
    },
    {
      "cell_type": "markdown",
      "metadata": {
        "id": "cGHGCYZdH-B2"
      },
      "source": [
        "# Lemmatize the corpus"
      ]
    },
    {
      "cell_type": "code",
      "execution_count": 9,
      "metadata": {
        "colab": {
          "base_uri": "https://localhost:8080/"
        },
        "id": "cZsxKrAmH-s5",
        "outputId": "3ff2c6db-5bdc-4b41-b769-d91e470bec54"
      },
      "outputs": [
        {
          "output_type": "stream",
          "name": "stdout",
          "text": [
            "['clustering of missense mutation in the ataxia-telangiectasia gene in a sporadic t-cell leukaemia . \\n ataxia-telangiectasia ( a-t ) be a recessive multi-system disorder cause by mutation in the atm gene at 11q22-q23 ( ref . 3 ) . the risk of cancer , especially lymphoid neoplasia , be substantially elevated in a-t patient and have long be associate with chromosomal instability . by analyse tumour dna from patient with sporadic t-cell prolymphocytic leukaemia ( t-pll ) , a rare clonal malignancy with similarity to a mature t-cell leukaemia see in a-t , we demonstrate a high frequency of atm mutation in t-pll . in marked contrast to the atm mutation pattern in a-t , the most frequent nucleotide change in this leukaemia be missense mutation . these cluster in the region correspond to the kinase domain , which be highly conserve in atm-related protein in mouse , yeast and drosophila . the result amino-acid substitution be predict to interfere with atp binding or substrate recognition . two of seventeen mutate t-pll sample have a previously report a-t allele . in contrast , no mutation be detect in the p53 gene , suggest that this tumour suppressor be not frequently alter in this leukaemia . occasional missense mutation in atm be also find in tumour dna from patient with b-cell non-hodgkins lymphoma ( b-nhl ) and a b-nhl cell line . the evidence of a significant proportion of loss-of-function mutation and a complete absence of the normal copy of atm in the majority of mutate tumour establish somatic inactivation of this gene in the pathogenesis of sporadic t-pll and suggest that ATM act as a tumour suppressor . as constitutional dna be not available , a putative hereditary predisposition to t-pll will require further investigation .. \\n', 'myotonic dystrophy protein kinase be involve in the modulation of the ca2 + homeostasis in skeletal muscle cell . \\n myotonic dystrophy ( dm ) , the most prevalent muscular disorder in adult , be cause by ( ctg ) n-repeat expansion in a gene encode a protein kinase ( dm protein kinase ; dmpk ) and involve change in cytoarchitecture and ion homeostasis . to obtain clue to the normal biological role of dmpk in cellular ion homeostasis , we have compare the resting [ ca2 + ] i , the amplitude and shape of depolarization-induced ca2 + transient , and the content of atp-driven ion pump in culture skeletal muscle cell of wild-type and dmpk [ -/- ] knockout mouse . in vitro-differentiated dmpk [ -/- ] myotube exhibit a high resting [ ca2 + ] I than do wild-type myotube because of an altered open probability of voltage-dependent l-type ca2 + and Na + channel . the mutant myotube exhibit small and slow ca2 + response upon trigger by acetylcholine or high external K + . in addition , we observe that these ca2 + transient partially result from an influx of extracellular ca2 + through the l-type ca2 + channel . neither the content nor the activity of Na + /k + atpase and sarcoplasmic reticulum ca2 + -atpase be affect by dmpk absence . in conclusion , our datum suggest that dmpk be involve in modulate the initial event of excitation-contraction coupling in skeletal muscle .. \\n', 'constitutional rb1-gene mutation in patient with isolate unilateral retinoblastoma . \\n in most patient with isolate unilateral retinoblastoma , tumor development be initiate by somatic inactivation of both allele of the rb1 gene . however , some of these patient can transmit retinoblastoma predisposition to their offspring . to determine the frequency and nature of constitutional rb1-gene mutation in patient with isolate unilateral retinoblastoma , we analyze dna from peripheral blood and from tumor tissue . the analysis of tumor from 54 ( 71 % ) of 76 informative patient show loss of constitutional heterozygosity ( loh ) at intragenic locus . three of 13 uninformative patient have constitutional deletion . for 39 randomly select tumor , sscp , hetero-duplex analysis , sequencing , and southern blot analysis be use to identify mutation . mutation be detect in 21 ( 91 % ) of 23 tumor with LOH . in 6 ( 38 % ) of 16 tumor without LOH , one mutation be detect , and in 9 ( 56 % ) of the tumor without LOH , both mutation be find . thus , a total of 45 mutation be identify in tumor of 36 patient . thirty-nine of the mutations-including 34 small mutation , 2 large structural alteration , and hypermethylation in 3 tumors-were not detect in the corresponding peripheral blood dna . in 6 ( 17 % ) of the 36 patient , a mutation be detect in constitutional dna , and 1 of these mutation be know to be associate with reduce expressivity . the presence of a constitutional mutation be not associate with an early age at treatment . in 1 patient , somatic mosaicism be demonstrate by molecular analysis of dna and rna from peripheral blood . in 2 patient without a detectable mutation in peripheral blood , mosaicism be suggest because 1 of the patient show multifocal tumor and the other later develop bilateral retinoblastoma . in conclusion , our result emphasize that the manifestation and transmissibility of retinoblastoma depend on the nature of the first mutation , its time in development , and the number and type of cell that be affect .. \\n', 'hereditary deficiency of the fifth component of complement in man . i. Clinical , immunochemical , and family study . \\n the first recognize human kindre with hereditary deficiency of the fifth component of complement ( c5 ) be describe . the proband , a 20-year-old black female with systemic lupus erythematosus since age 11 , lack serum hemolytic complement activity , even during remission . c5 be undetectable in her serum by both immunodiffusion and hemolytic assay . other complement component be normal during remission of lupus , but c1 , c4 , c2 , and c3 level fall during exacerbation . a young half-sister , who have no underlying disease , be also find to lack immunochemically detectable c5 . by hemolytic assay , she exhibit 1 - 2 % of the normal serum c5 level and normal concentration of other complement component . c5 level of other family member be either normal or approximately half-normal , consistent with autosomal codominant inheritance of the gene determine c5 deficiency . normal hemolytic titer be restore to both homozygous c5-deficient ( c5d ) sera by addition of highly purify human c5 . in specific c5 titration , however , it be note that when limited amount of c5 be assay in the presence of low dilution of either c5d serum , curve rather than linear dose-response plot be consistently obtain , suggest some inhibitory effect . further study suggest that low dilution of c5d serum contain a factor ( or factor ) interfere at some step in the hemolytic assay of c5 , rather than a true c5 inhibitor or inactivator . of clinical interest be ( a ) the documentation of membranous glomerulonephritis , vasculitis , and arthritis in an individual lack c5 ( and its biologic function ) , and ( b ) a remarkable propensity to bacterial infection in the proband , even during period of low-dose or alternate-day corticosteroid therapy . other observation indicate that the c5d state be compatible with normal coagulation function and the capacity to mount a neutrophilic leukocytosis during pyogenic infection .. \\n', 'susceptibility to ankylosing spondylitis in twin : the role of gene , hla , and the environment . \\n objective   to determine the relative effect of genetic and environmental factor in susceptibility to ankylosing spondylitis ( as ) . method   twin with as be identify from the Royal National Hospital for Rheumatic Diseases database . clinical and radiographic examination be perform to establish diagnosis , and disease severity be assess use a combination of validate scoring system . hla typing for hla-b27 , hla-b60 , and hla-dr1 be perform by polymerase chain reaction with sequence-specific primer , and zygosity be assess use microsatellite marker . genetic and environmental variance component be assess with the program Mx , use datum from this and previous study of twin with as . result   six of 8 monozygotic ( mz ) twin pair be disease concordant , compare with 4 of 15 b27-positive dizygotic ( dz ) twin pair ( 27 % ) and 4 of 32 dz twin pair overall ( 12 . 5 % ) . nonsignificant increase in similarity with regard to age at disease onset and all of the disease severity score assess be note in disease-concordant mz twin compare with concordant dz twin . hla-b27 and b60 be associate with the disease in proband , and the rate of disease concordance be significantly increase among dz twin pair in which the co-twin be positive for both b27 and dr1 . additive genetic effect be estimate to contribute 97 % of the population variance . conclusion   susceptibility to as be largely genetically determine , and the environmental trigger for the disease be probably ubiquitous . hla-b27 account for a minority of the overall genetic susceptibility to as . \\n', 'cell cycle-dependent colocalization of bard1 and brca1 protein in discrete nuclear domain . \\n germ-line mutation of the brca1 gene predispose woman to early-onset breast and ovarian cancer by compromise the gene presumptive function as a tumor suppressor . although the biochemical property of brca1 polypeptide be not understand , their expression pattern and subcellular localization suggest a role in cell-cycle regulation . when rest cell be induce to proliferate , the steady-state level of brca1 increase in late g1 and reach a maximum during s phase . moreover , in s phase cell , brca1 polypeptide be hyperphosphorylate and accumulate into discrete subnuclear focus term \" brca1 nuclear dot . \" brca1 associate in vivo with a structurally related protein term bard1 . here we show that the steady-state level of bard1 , unlike those of brca1 , remain relatively constant during cell cycle progression . however , immunostaining reveal that bard1 reside within brca1 nuclear dot during s phase of the cell cycle , but not during the g1 phase . nevertheless , bard1 polypeptide be find exclusively in the nuclear fraction of both g1- and s-phase cell . therefore , progression to s phase be accompany by the aggregation of nuclear bard1 polypeptide into brca1 nuclear dot . this cell cycle-dependent colocalization of bard1 and brca1 indicate a role for bard1 in brca1-mediated tumor suppression . \\n', 'ethnic difference in the hfe codon 282 ( cys/tyr ) polymorphism . \\n recent study have show that hereditary hemochromatosis ( hh ) be likely to be cause by homozygosity for a cys282tyr mutation in the hfe gene located 4 . 5 mb telomeric to hla-a. population study of this polymorphism be facilitate by the fact that the cys282tyr mutation create a rsal restriction site . we have study the codon 282 ( cys/tyr ) polymorphism in different ethnic group . in agreement with previous observation the tyr allele appear to be rare or absent in Asiatic ( indian , chinese ) population . the high allele frequency ( 7 . 5 % ) be find in swede . saamis ( 2 % ) and Mordvinians ( 1 . 8 % ) have significantly low frequency of the tyr allele . comparison with allele frequency base on prevalence estimate of hh show some disagreement with the rflp datum , particularly in Finns . the newly describe hfe marker provide a new approach to the screening of hh as well as study of the relationship between the hfe tyr allele and different disorder include cancer \\n', 'autosomal dominant neurohypophyseal diabete insipidu associate with a missense mutation encode gly23 - ->val in neurophysin ii . \\n autosomal dominant neurohypophyseal diabete insipidu ( adndi ) be an inherit disease cause by progressive degeneration of the magnocellular neuron of the hypothalamus lead to decrease ability to produce the hormone arginine vasopressin ( avp ) . affect individual be not symptomatic at birth , but usually develop diabete insipidu at 1 - 6 yr of age . the genetic locus of the disease be the avp-neurophysin ii ( npii ) gene , and mutation that cause adndi have be find in both the signal peptide of the prepro-avp-npii precursor and within NPII itself . an affect girl who present at 9 month of age and her similarly affect young brother and father be all find to have a novel missense mutation ( g1758 - - > t ) encode the amino acid substitution gly23 - - > val within npii . the mutation be confirm by restriction endonuclease analysis . a t1-weighted magnetic resonance imaging of the father pituitary gland demonstrate an attenuate posterior pituitary bright spot . this mutation may be valuable for develop model of dominantly inherit neurodegeneration , as the early age of onset of symptom suggest that this mutation may be particularly deleterious to the magnocellular neuron .. \\n', 'frequent inactivation of PTEN/MMAC1 in primary prostate cancer . \\n sporadic prostate carcinoma be the most common male cancer in the western world , yet many of the major genetic event involve in the progression of this often fatal cancer remain to be elucidate . numerous cytogenetic and allelotype study have report frequent loss of heterozygosity on chromosomal arm 10q in sporadic prostate cancer . deletion mapping study have unambiguously identify a region of chromosome 10q23 to be the minimal area of loss . a new tumor suppressor gene , PTEN/MMAC1 , be isolate recently at this region of chromosome 10q23 and find to be inactivate by mutation in three prostate cancer cell line . we screen 80 prostate tumor by microsatellite analysis and find chromosome 10q23 to be delete in 23 case . we then proceed with sequence analysis of the entire PTEN/MMAC1 coding region and test for homozygous deletion with new intragenic marker in these 23 case with 10q23 loss of heterozygosity . the identification of the second mutational event in 10 ( 43 % ) tumor establish PTEN/MMAC1 as a main inactivation target of 10q loss in sporadic prostate cancer .. \\n', 'risk reversal in predictive testing for Huntington disease . \\n the first predictive testing for Huntington disease ( hd ) be base on analysis of link polymorphic dna marker to estimate the likelihood of inherit the mutation for hd . limit to accuracy include recombination between the dna marker and the mutation , pedigree structure , and whether dna sample be available from family member . with direct test for the hd mutation , we have assess the accuracy of result obtain by linkage approach when request to do so by the test individual . for six such individual , there be significant disparity between the test . three go from a decrease risk to an increase risk , while in another three the risk be decrease . knowledge of the potential reason for these change in result and impact of these risk reversal on both patient and the counseling team can assist in the development of strategy for the prevention and , where necessary , management of a risk reversal in any predictive testing program .. \\n', 'a novel common missense mutation g301c in the n-acetylgalactosamine-6-sulfate sulfatase gene in mucopolysaccharidosis iva . \\n Mucopolysaccharidosis iva ( MPS iva ) be an autosomal recessive lysosomal storage disorder cause by a genetic defect in n-acetylgalactosamine-6-sulfate sulfatase ( galns ) . in previous study , we have find two common mutation in Caucasians and japanese , respectively . to characterize the mutational spectrum in various ethnic group , mutation in the galns gene in colombian MPS iva patient be investigate , and genetic background be extensively analyze to identify racial origin , base on mitochondrial dna ( mtdna ) lineage . three novel missense mutation never identify previously in other population and find in 16 out of 19 colombian MPS iva unrelated allele account for 84 . 2 % of the allele in this study . the g301c and s162f mutation account for 68 . 4 % and 10 . 5 % of mutation , respectively , whereas the remain f69v be limit to a single allele . the skewed prevalence of g301c in only colombian patient and haplotype analysis by restriction fragment length polymorphism in the galns gene suggest that g301c originate from a common ancestor . investigation of the genetic background by mean of mtdna lineage indicate that all our patient be probably of native american descent \\n', 'low frequency of brca1 germline mutation in 45 german breast/ovarian cancer family . \\n in this study we investigate 45 german breast/ovarian cancer family for germline mutation in the brca1 gene . we identify four germline mutation in three breast cancer family and in one breast-ovarian cancer family . among these be one frameshift mutation , one nonsense mutation , one novel splice site mutation , and one missense mutation . the missense mutation be also find in 2 . 8 % of the general population , suggest that it be not disease associate . the average age of disease onset in those family harbour causative mutation be between 32 . 3 and 37 . 4 year , whereas the family harbour the missense mutation have an average age of onset of 51 . 2 year . these finding show that brca1 be implicate in a small fraction of breast/ovarian cancer family suggest the involvement of another susceptibility gene ( s ) \\n', 'paternal transmission of congenital myotonic dystrophy . \\n we report a rare case of paternally transmit congenital myotonic dystrophy ( dm ) . the proband be a 23 year old , mentally retard male who suffer severe muscular weakness . he present with respiratory and feed difficulty at birth . his two sib suffer from childhood onset dm . their late father have the adult type of dm , with onset around 30 year . only six other case of paternal transmission of congenital dm have be report recently . we review the sex related effect on transmission of congenital dm . decrease fertility of male with adult onset dm and contraction of the repeat upon male transmission contribute to the almost absent occurrence of paternal transmission of congenital dm . also the father of the report congenitally affect child show , on average , short ctg repeat length and hence less severe clinical symptom than the mother of child with congenital dm . we conclude that paternal transmission of congenital dm be rare and preferentially occur with onset of dm past 30 year in the father .. \\n', 'the rb1 gene mutation in a child with ectopic intracranial retinoblastoma . \\n the rb1 gene mutation be investigate in a child with ectopic intracranial retinoblastoma use dna obtain from both the pineal and retinal tumour of the patient . a nonsense mutation in exon 17 ( codon 556 ) of the rb1 gene be find to be present homozygously in both the retinal and the pineal tumour . the same mutation be present heterozygously in the dna from the constitutional cell of the patient , prove it to be of germline origin . the initial mutation be show to have occur in the paternally derive rb1 allele . the mutation be in an area of the gene that encode the protein-binding region know as the pocket region and have be detect in other case of retinoblastoma .. \\n', 'low level of beta hexosaminidase a in healthy individual with apparent deficiency of this enzyme . \\n appreciable beta hexosaminidase a ( hex a ) activity have be detect in culture skin fibroblast and melanoma tissue from healthy individual previously report as have deficiency of hex a activity indistinguishable from that of patient with tay-sachs disease ( tsd ) . identification and quantitation of hex a , amount to 3 . 5 % -6 . 9 % of total beta hexosaminidase activity , have be obtain by cellulose acetate gel electrophoresis , deae-cellulose ion-exchange chromatography , radial immunodiffusion , and radioimmunoassay . previous family study suggest that these individual may be compound heterozygote for the common mutant tsd gene and a rare ( allelic ) mutant gene . thus , the postulate rate mutant gene appear to code for the expression of low amount of hex A. Heterozygotes for the rare mutant may be indistinguishable from heterozygote for the common tsd mutant . however , direct visualization and quantitation of hex a by the method describe may prevent false-positive prenatal diagnosis of tsd in fetus have the incomplete hex a deficiency of the type describe in the four healthy individual \\n', 'the tumor suppressor gene smad4/dpc4 be require for gastrulation and later for anterior development of the mouse embryo . \\n mutation in the smad4/dpc4 tumor suppressor gene , a key signal transducer in most tgfbeta-related pathway , be involve in 50 % of pancreatic cancer . homozygous smad4 mutant mouse die before day 7 . 5 of embryogenesis . mutant embryo have reduce size , fail to gastrulate or express a mesodermal marker , and show abnormal visceral endoderm development . growth retardation of the smad4-deficient embryo result from reduce cell proliferation rather than increase apoptosis . aggregation of mutant smad4 es cell with wild-type tetraploid morulae rescue the gastrulation defect . these result indicate that smad4 be initially require for the differentiation of the visceral endoderm and that the gastrulation defect in the epiblast be secondary and non-cell autonomous . rescue embryo show severe anterior truncation , indicate a second important role for smad4 in anterior patterning during embryogenesis . \\n', 'prevalence of p16 and cdk4 germline mutation in 48 melanoma-prone family in France . the french Familial Melanoma Study Group . \\n germline mutation in the p16 and cdk4 gene have be report in a subset of melanoma pedigree , but their prevalence be not well know . we search for such germline mutation in 48 french melanoma-prone family select accord to two major criterion   family with at least three affect member ( n = 20 ) or family with two affect member , one of they affect before the age of 50 ( n = 28 ) , and one additional minor criterion . sixteen different p16 germline mutation be find in 21 family , while one germline mutation , arg24his , be detect in the cdk4 gene . the frequency of p16 gene mutation in our sample ( 44 % ) be among the high rate yet report and the cdk4 mutation be the second mutation detect in this gene worldwide . in summary , our result show frequent involvement of the p16 gene in familial melanoma and confirm the role of the cdk4 gene as a melanoma-predisposing gene .. \\n', 'progression of somatic ctg repeat length heterogeneity in the blood cell of myotonic dystrophy patient . \\n the genetic basis of myotonic dystrophy ( dm ) be the expansion of an unstable ctg repeat in the 34 utr of the dm protein kinase gene on chromosome 19 . one of the principal feature of the dm mutation be an extraordinarily high level of somatic mosaicism , due to an extremely high degree of somatic instability both within and between different tissue . this instability appear to be bias towards further expansion and continuous throughout the life of an individual , feature that could be associate with the progressive nature of the disease . although increase measure allele size between patient clearly correlate with an increase severity of symptom and an early age of onset , this correlation be not precise and measure allele length can not be use as an accurate predictor of age of onset . in order to far characterize the dynamic of dm ctg repeat somatic instability , we have study repeat length change over time in 111 myotonic dystrophy patient with vary clinical severity and ctg repeat size over time interval of 1 - 7 year . we have find a direct progression of the size heterogeneity over time related to initial ctg repeat size and the time interval and always bias towards further expansion . attempt to mathematically model the dynamic have prove only partially successful suggest that individual specific genetic and/or environmental factor also play a role in somatic mosaicism .. \\n', 'Aspartylglucosaminuria among palestinian Arabs . \\n Aspartylglucosaminuria ( agu ) be a rare disorder of glycoprotein metabolism cause by the deficiency of the lysosomal enzyme aspartylglucosaminidase ( aga ) . agu be inherit as an autosomal recessive trait and occur with a high frequency in Finland because of a founder effect . while very few patient with agu have be report from non-finnish origin , we diagnose the disorder in 8 patient originate from 3 unrelated family , all palestinian Arabs from the region of Jerusalem . the clinical diagnosis of agu be often difficult , in particular early in the course of the disease , and most of the patient be diagnose after the age of 5 year . however , since these patient excrete early large amount of aspartylglucosamine in urine , biochemical screening be easy by urine chromatography .. \\n', 'detection of heterozygous carrier of the ataxia-telangiectasia ( atm ) gene by g2 phase chromosomal radiosensitivity of peripheral blood lymphocyte . \\n in ataxia-telangiectasia ( a-t ) patient , mutation in a single gene , atm , result in an autosomal recessive syndrome that embrace a variety of clinical feature and manifest extreme radiosensitivity and a strong pre-disposition to malignancy . heterozygote for the atm gene have no clinical expression of a-t but may be cancer prone with a moderate increase in in vitro radiosensitivity . we perform a blind chromosomal analysis on g2-phase lymphocyte from 7 unrelated a-t patient , 13 obligate a-t heterozygote ( parent of the patient ) , and 14 normal control follow x-irradiation with 1 gy in order to evaluate this cytogenetic method as a tool for detection of atm carrier . both a-t homozygote and heterozygote show significantly increase level of radiation-induced chromatid damage relative to that of normal control . these result show that the g2-phase chromosomal radiosensitivity assay can be use for the detection of a-t heterozygote . in combination with molecular genetic analysis , this test may be of value in study of familial and sporadic cancer aim at determination of the potential involvement of atm mutation in tumor risk or development .. \\n', 'ataxia-telangiectasia : identification and detection of founder-effect mutation in the atm gene in ethnic population . \\n to facilitate the evaluation of atm heterozygote for susceptibility to other disease , such as breast cancer , we have attempt to define the most common mutation and their frequency in ataxia-telangiectasia ( a-t ) homozygote from 10 ethnic population . both genomic mutation and their effect on cdna be characterize . protein-truncation testing of the entire atm cdna detect 92 ( 66 % ) truncate mutation in 140 mutant allele screen . the haplotyping of patient with identical mutation indicate that almost all of these represent common ancestry and that very few spontaneously recur ATM mutation exist . assay require minimal amount of genomic dna be design to allow rapid screening for common ethnic mutation . these rapid assay detect mutation in 76 % of costa rican patient ( 3 ) , 50 % of norwegian patient ( 1 ) , 25 % of polish patient ( 4 ) , and 14 % of italian patient ( 1 ) , as well as in patient of amish/mennonite and Irish English background . additional mutation be observe in japanese , Utah Mormon , and african american patient . these assay should facilitate screening for a-t heterozygote in the population study .. \\n', 'the von Hippel-Lindau tumor suppressor gene be require for cell cycle exit upon serum withdrawal . \\n the inactivation of the von Hippel-Lindau ( vhl ) tumor suppressor gene predispose affect individual to the human vhl cancer syndrome and be associate with sporadic renal cell carcinoma ( rcc ) and brain hemangioblastoma . vhl-negative 786 - 0 rcc cell be tumorigenic in nude mouse which be suppress by the reintroduction of VHL . remarkably , this occur without affect the growth rate and cell cycle profile of these cell in culture . the 786 - 0 cell line , like many cancer cell , fail to exit the cell cycle upon serum withdrawal . here , it be show that reintroduction of the wild-type vhl gene restore the ability of vhl-negative rcc cancer cell to exit the cell cycle and enter g0/quiescence in low serum . both vhl-positive and vhl-negative rcc cell exit the cell cycle by contact inhibition . the cyclin-dependent kinase inhibitor , p27 , accumulate upon serum withdrawal , only in the presence of vhl , as a result of the stabilization of the protein . we propose that the loss of wild-type vhl gene result in a specific cellular defect in serum-dependent growth control , which may initiate tumor formation . this be correct by the reintroduction of wild-type vhl , implicate VHL as the first tumor suppressor involve in the regulation of cell cycle exit , which be consistent with its gatekeeper function in the kidney .. \\n', 'piebaldism with deafness : molecular evidence for an expand syndrome . \\n in a south african girl of Xhosa stock with severe piebaldism and profound congenital sensorineural deafness we identify a novel missense substitution at a highly conserve residue in the intracellular kinase domain of the kit proto-oncogene , r796 g . though auditory anomaly have be observe in mouse with dominant white spotting ( w ) due to kit mutation , deafness be not typical in human piebaldism . thus , the occurrence of sensorineural deafness in this patient extend considerably the phenotypic range of piebaldism due to kit gene mutation in human and tighten the clinical similarity between piebaldism and the various form of waardenburg syndrome .. \\n', 'cycloheximide facilitate the identification of aberrant transcript result from a novel splice-site mutation in col17a1 in a patient with generalize atrophic benign epidermolysis bullosa . \\n patient with generalize atrophic benign epidermolysis bullosa often show decrease expression of type xvii collagen , a transmembrane hemidesmosomal protein encode by col17a1 . this report document a novel splice-site mutation in col17a1 in a patient with generalize atrophic benign epidermolysis bullosa , and apply a new methodology to define and characterize the result mrna splice variant . mutational analysis of col17a1 identify a maternally inherit g-to-t transversion at the -1 position of exon 32 . this acceptor splice-site mutation lead to the formation of aberrant transcript present at extremely low level . base on our recent finding that cycloheximide stabilize mutant col17a1 transcript in keratinocyte homozygous for a frameshift mutation , the effect of the splice-site mutation on splicing of col17a1 transcript be determine use reverse transcriptase polymerase chain reaction of total rna from keratinocyte incubate for 2 . 5 h in the presence or absence of 10 microg cycloheximide per ml . use this approach , an abnormally splice transcript be identify that contain an extra 264 basis upstream from exon 32 , result in a premature termination codon 27 bp downstream from the cryptic splice site . three other splice variant , include one derive from the skipping of exon 32 , be also identify . these result indicate the usefulness of cycloheximide treatment in evaluate the abnormal processing of mrna due to splice-site mutation , because   ( i ) aberrant splicing often generate a premature termination codon , ( ii ) transcript with premature termination codon can occur at low or undetectable level due to nonsense-mediated mrna decay , and ( iii ) the level of these transcript can be increase by cycloheximide . \\n', 'a deletion mutation in col17a1 in five austrian family with generalize atrophic benign epidermolysis bullosa represent propagation of an ancestral allele . \\n patient with generalize atrophic benign epidermolysis bullosa , a usually nonlethal form of junctional epidermolysis bullosa , have generalize blistering , nail dystrophy , patchy alopecia , and dental abnormality . skin fragility in most case be due to mutation in the gene encode type xvii collagen ( col17a1 ) . recently , we report five austrian family with generalize atrophic benign epidermolysis bullosa who share the same col17a1 mutation . affect individual in three family be homozygous for 4003deltc , whereas those in two other be compound heterozygote . to determine if the occurrence of 4003deltc in these unrelated family signify propagation of an ancestral allele or a mutational hot spot , haplotype be determine for polymorphism both within and flanking col17a1 . five intragenic polymorphism be choose base on their informativeness . one of these , not previously report , be 2988 a or c that introduce a new restriction site for Eco0109 I. all the 4003deltc allele show the same haplotype for these five polymorphic marker . fourteen microsatellite polymorphism be select base on their high heterozygosity and their location within 10q23-q25 near col17a1 . three family share microsatellite polymorphism cover at most 19 cm , whereas the other share small region consistent with cross-over event during passage of this mutation through several generation . these result indicate that 4003deltc occur on a single ancestral allele .. \\n', 'distribution of emerin and lamin in the heart and implication for emery-dreifuss muscular dystrophy . \\n Emerin be a nuclear membrane protein which be missing or defective in emery-dreifuss muscular dystrophy ( edmd ) . it be one member of a family of lamina-associated protein which include lap1 , lap2 and lamin b receptor ( lbr ) . a panel of 16 monoclonal antibody ( mab ) have be map to six specific site throughout the emerin molecule use phage-displayed peptide library and have be use to localize emerin in human and rabbit heart . several mab against different emerin epitope do not recognize intercalate discs in the heart , though they recognize cardiomyocyte nucleus strongly , both at the rim and in intranuclear spot or channel . a polyclonal rabbit antiserum against emerin do recognize both nuclear membrane and intercalate discs but , after affinity purification against a pure-emerin band on a western blot , it stain only the nuclear membrane . these result would not be expect if immunostaining at intercalate discs be due to a product of the emerin gene and , therefore , cast some doubt upon the hypothesis that cardiac defect in EDMD be cause by absence of emerin from intercalate discs . although emerin be abundant in the membrane of cardiomyocyte nucleus , it be absent from many non-myocyte cell in the heart . this distribution of emerin be similar to that of lamin a , a candidate gene for an autosomal form of edmd . in contrast , lamin b1 be absent from cardiomyocyte nucleus , show that lamin b1 be not essential for localization of emerin to the nuclear lamina . lamin b1 be also almost completely absent from skeletal muscle nucleus . in edmd , the additional absence of lamin b1 from heart and skeletal muscle nucleus which already lack emerin may offer an alternative explanation of why these tissue be particularly affect .. \\n', 'genetic mapping of the copper toxicosis locus in Bedlington terrier to dog chromosome 10 , in a region syntenic to human chromosome region 2p13-p16 . \\n abnormal hepatic copper accumulation be recognize as an inherit disorder in man , mouse , rat and dog . the major cause of hepatic copper accumulation in man be a dysfunctional atp7b gene , cause wilson disease ( wd ) . mutation in the atp7b gene have also be demonstrate in mouse and rat . the atp7b gene have be exclude in the much rare human copper overload disease non-indian childhood cirrhosis , indicate genetic heterogeneity . by investigate the common autosomal recessive copper toxicosis ( ct ) in Bedlington terrier , we have identify a new locus involve in progressive liver disease . we examine whether the wd gene atp7b be also causative for ct by investigate the chromosomal co-localization of atp7b and c04107 , use fluorescence in situ hybridization ( fish ) . c04107 be an anonymous microsatellite marker closely link to ct . however , bac clone contain atp7b and c04107 map to the canine chromosome region cfa22q11 and cfa10q26 , respectively , demonstrate that wd can not be homologous to ct . the copper transport gene ctr1 and ctr2 be also exclude as candidate gene for ct since they both map to canine chromosome region cfa11q22 . 2 - 22 . 5 . a transcribe sequence identify from the c04107-containing bac be find to be homologous to a gene express from human chromosome 2p13-p16 , a region devoid of any positional candidate gene . \\n', 'molecular analysis of the apc gene in 205 family : extend genotype-phenotype correlation in fap and evidence for the role of apc amino acid change in colorectal cancer predisposition . \\n background/aims   the development of colorectal cancer and a variable range of extracolonic manifestation in familial adenomatous polyposis ( fap ) be the result of the dominant inheritance of adenomatous polyposis coli ( apc ) gene mutation . in this study , direct mutation analysis of the apc gene be perform to determine genotype-phenotype correlation for nine extracolonic manifestation and to investigate the incidence of apc mutation in non-fap colorectal cancer . method   the apc gene be analyse in 190 unrelated fap and 15 non-fap colorectal cancer patient use denature gradient gel electrophoresis , the protein truncation test , and direct sequencing . result   chain terminating signal be only identify in patient belong to the fap group ( 105 patient ) . amino acid change be identify in four patient , three of whom belong to the non-fap group of colorectal cancer patient . genotype-phenotype correlation identify significant difference in the nature of certain extracolonic manifestation in fap patient belong to three mutation subgroup . conclusion   extend genotype-phenotype correlation make in this study may have the potential to determine the most appropriate surveillance and prophylactic treatment regimen for those patient with mutation associate with life threaten condition . this study also provide evidence for the pathological nature of amino acid change in apc associate with both fap and non-fap colorectal cancer patient .. \\n', 'inherited colorectal polyposis and cancer risk of the apc i1307 k polymorphism . \\n germ-line and somatic truncating mutation of the apc gene be think to initiate colorectal tumor formation in familial adenomatous polyposis syndrome and sporadic colorectal carcinogenesis , respectively . recently , an isoleucine-- > lysine polymorphism at codon 1307 ( i1307 k ) of the apc gene have be identify in 6 % -7 % of the ashkenazi jewish population . to assess the risk of this common apc allelic variant in colorectal carcinogenesis , we have analyze a large cohort of unselecte ashkenazi jewish subject with adenomatous polyp and . or colorectal cancer , for the apc i1307 k polymorphism . the apc i1307 k allele be identify in 48 ( 10 . 1 % ) of 476 patient . compare with the frequency in two separate population control group , the apc i1307 k allele be associate with an estimate relative risk of 1 . 5 - 1 . 7 for colorectal neoplasia ( both p = . 01 ) . furthermore , compare with noncarrier , apc i1307 k carrier have increase number of adenoma and colorectal cancer per patient ( p = . 03 ) , as well as a young age at diagnosis . we conclude that the apc i1307 k variant lead to increase adenoma formation and directly contribute to 3 % -4 % of all ashkenazi jewish colorectal cancer . the estimate relative risk for carrier may justify specific clinical screening for the 360 , 000 Americans expect to harbor this allele , and genetic testing in the setting of long-term-outcome study may impact significantly on colorectal cancer prevention in this population . \\n', 'localization of human brca1 and its loss in high-grade , non-inherited breast carcinoma . \\n although the link between the brca1 tumour-suppressor gene and hereditary breast and ovarian cancer be establish , the role , if any , of brca1 in non-familial cancer be unclear . brca1 mutation be rare in sporadic cancer , but loss of brca1 result from reduce expression or incorrect subcellular localization be postulate to be important in non-familial breast and ovarian cancer . epigenetic loss , however , have not receive general acceptance due to controversy regard the subcellular localization of brca1 protein , report of which have range from exclusively nuclear , to conditionally nuclear , to the er/golgi , to cytoplasmic invagination into the nucleus . in an attempt to resolve this issue , we have comprehensively characterize 19 anti-brca1 antibody . these reagent detect a 220-kd protein localized in discrete nuclear focus in all epithelial cell line , include those derive from breast malignancy . immunohistochemical staining of human breast specimen also reveal brca1 nuclear focus in benign breast , invasive lobular cancer and low-grade ductal carcinoma . conversely , brca1 expression be reduce or undetectable in the majority of high-grade , ductal carcinoma , suggest that absence of brca1 may contribute to the pathogenesis of a significant percentage of sporadic breast cancer .. \\n']\n"
          ]
        }
      ],
      "source": [
        "# Lemmatize the corpus\n",
        "lemmatized_corpus = []\n",
        "for document in corpus:\n",
        "    # Tokenize and lemmatize\n",
        "    tokens = [token.lemma_ for token in nlp(document)]\n",
        "    lemmatized_corpus.append(\" \".join(tokens))\n",
        "\n",
        "# Print or use the lemmatized corpus as needed\n",
        "print(lemmatized_corpus)"
      ]
    },
    {
      "cell_type": "markdown",
      "metadata": {
        "id": "_5Bja1AfGCAX"
      },
      "source": [
        "**Tokenize and create the vocabulary**"
      ]
    },
    {
      "cell_type": "code",
      "execution_count": 10,
      "metadata": {
        "colab": {
          "base_uri": "https://localhost:8080/"
        },
        "id": "_wgeIqmFFhAD",
        "outputId": "6edfd3af-532d-47d9-ad2e-3f5ad80b4a56"
      },
      "outputs": [
        {
          "output_type": "stream",
          "name": "stdout",
          "text": [
            "['far', 'treatment', 'magnetic', 'native', 'six', '28', 'step', 'arm', 't1-weighted', 'randomly', 'largely', 'low-dose', 'mapping', 'wd', 'lineage', 'mps', 'absence', 'thirty-nine', 'prove', 'often', 'americans', '1307', 'somatic', 'mature', 'extraordinarily', '16', '36', 'indicate', 'retinal', '264', 'ancestral', 'pair', 'originate', 'autonomous', 'cell', 'fish', 'contrast', 'pathway', 'lysosomal', 'heterozygous', 'disease', 'dot', 'man', 'neurodegeneration', 'posterior', 'cys282tyr', 'acceptor', 'junctional', '22', 'atm', 'acetate', '03', 'same', 'childhood', 'profound', 'identification', 'conserve', 'interval', 'be', 'dz', 'growth', 'gland', 'rim', 'recessive', 'onset', 'fragility', '20-year-old', 'iva', 'itself', 'secondary', 'reversal', 'tissue', 'within', 'denature', 'usefulness', 'pituitary', 'nor', 'entire', 'instability', 'membrane', 'anti-brca1', 's', 'german', 'minimal', 'valuable', 'potential', 'capacity', 'minority', 'management', 'level', 'against', 'which', 'model', '-/-', 'control', 'colocalization', 'objective', 'later', 'age', 'allelic', '48', 'he', 'er/golgi', 'adult', 'over', 'additional', 'homozygote', 'consistently', 'screen', 'mount', 'bard1', 'proband', 'electrophoresis', 'signal', '190', 'chromatography', '12', 'differentiation', 'ankylosing', 'protein-truncation', 'investigate', 'missense', 'code', 't-cell', 'chromatid', 'deafness', 'significant', 'two', 'identify', 'rheumatic', 'evaluation', 'upstream', 'ca2', 'congenital', 'ability', 'epiblast', 'through', 'truncating', 'base', 'environmental', 'peripheral', 'ii', 'keratinocyte', 'as', 'caucasians', 'ashkenazi', 'here', 'contact', 'their', 'g1', '34', '23', 'analyse', 'world', 'heterozygote', 'isolate', 'domain', 'we', 'transcript', 'prophylactic', 'single', 'nucleotide', 'length', 'neurophysin', 'background/aims', 'african', 'lymphocyte', 'report', 'criterion', 'healthy', 'percentage', 'past', 'cdk4', 'second', 'other', 'can', 'hypothalamus', 'vivo', 'completely', '-6', 'b1', 'descent', 'yeast', 'initiate', 'resting', 'area', 'extreme', '>', 'show', 'line', 'nail', 'spontaneously', 'specific', 'doubt', 'clustering', 'variety', 'demonstrate', 'restriction', 'gradient', 'aberrant', 'radiation-induced', 'c04107-containing', 'examine', '000', '15', 'of', 'marked', 'accurate', 'termination', 'ancestry', 'alternative', 'analysis', 'radiosensitivity', 'non-inherited', 'mx', 'rcc', 'very', 'rb1', 'expansion', 'rat', 'genetic', 'discs', 'skeletal', '38', 'three', '-1', 'there', 'ovarian', 'c5d', 'screening', 'reaction', 'conclusion', 'most', 'tool', 'pure-emerin', 'they', 'request', 'significantly', 'distribution', 'bac', 'hla-b60', '-', 'homologous', 'and/or', 'but', 'prevent', 'obtain', 'biologic', 'short', 'disorder', 'culture', 'causative', 'rsal', 'pre-disposition', 'chromosome', 'location', 'clue', 'depolarization-induced', 'previously', '2', 'terrier', 'dm', 'always', 'regard', 'ctg', 'devoid', 'passage', 'numerous', 'fertility', 'transmit', 'rest', '786', '97', 'mab', 'half-normal', 'pedigree', 'voltage-dependent', 'candidate', 'time', 'comparison', 'lobular', 'retinoblastoma', 'heterozygosity', 'monoclonal', 'than', 'correlation', 'ref', 'subnuclear', 'quantitation', 'preferentially', 'erythematosus', 'polish', 'for', 'sporadic', 'rather', 'coli', 'such', 'transversion', 'amplitude', 'change', 'hla', 'mutation', 'putative', 'degree', 'hd', 'similar', 'document', 'cohort', 'moderate', 'origin', 'human', 'ctr2', 'inhibitor', 'polymorphic', 'prenatal', 'w', 'determine', 'rb1-gene', 'defect', 'telomeric', 'profile', 'haplotyping', 'italian', '111', 'apoptosis', 'typing', 'create', 'accumulate', 'highly', 'polyclonal', 'hla-a', 'ductal', 'incorrect', 'those', 'cluster', 'appreciable', 'then', 'band', 'external', 'develop', 'expression', 'propose', 'gly23', 'vasculitis', 'issue', 'test', 'c1', 'near', 'b', 'panel', 'reagent', 'whether', 'stabilization', 'propagation', 'muscle', '->val', 'syntenic', 'hla-dr1', 'french', 'analyze', 'direct', 'unlike', 'component', 'bilateral', 'recur', 'have', 'diseases', 'rna', '37', 'fetus', 'breast', 'furthermore', '282', 'white', 'either', 'dmpk', '50', 'limited', 'observe', 'exclude', 'non-indian', '360', 'b-nhl', 'immunohistochemical', '..', 'evidence', 'role', '45', 'monozygotic', 'act', 'cellular', 'per', 'difference', 'polymerase', 'additive', 'inhibition', 'both', 'transient', 'phase', 'patterning', 'molecule', 'truncation', 'prostate', 'cast', 'damage', 'transmissibility', 'frameshift', 'open', 'hippel-lindau', 'g', 'spot', 'knowledge', 'unrelated', 'that', 'design', 'major', 'restore', 'proportion', 'pten/mmac1', 'particular', 'this', 'aggregation', 'corticosteroid', 'melanoma-predisposing', 'predispose', 'cys/tyr', 'play', 'cancer', 'summary', 'nucleus', 'counseling', 'gy', 'less', 'g1758', 'only', 'suppress', 'while', 'encode', 'facilitate', '140', 'it', 'offer', 'undetectable', 'involvement', 'formation', 'xhosa', 'offspring', 'acceptance', 'loh', 'specimen', 'usually', '\\n', 'mutations-including', 'her', 'receptor', 'vitro-differentiated', 'storage', 'arthritis', 'remain', 'antibody', '11q22-q23', 'small', 'alteration', 'exit', 'skewed', 'austrian', 'obligate', 'substitution', 'degeneration', '01', 'b27', 'his', 'c3', 'a.', '476', '556', 'difficult', 'different', 'frequently', 'course', 'presence', 'metabolism', '19', 'modulate', 'therefore', 'diabete', 'establish', 'abnormally', 'noncarrier', 'blistering', 's162f', 'immunochemical', 'any', 'heterozygotes', '4', 'resonance', 'amino-acid', 'whom', 'non-finnish', 'dominantly', 'copy', 'extensively', '220-kd', 'muscular', 'i1307', 'vhl-positive', 'atp-driven', 'japanese', 'variance', 'spectrum', 'sscp', 'intracellular', 'hemangioblastoma', 'p27', 'total', 'inherited', 'justify', '10', 'understand', 'before', 'colorectal', 'easy', 'amish/mennonite', 'surveillance', 'sample', 'regimen', 'also', 'position', 'score', 'considerably', 'splicing', 'serum-dependent', 'methodology', 'neurohypophyseal', 'hormone', 'pineal', 'population', 'produce', 'girl', 'titer', 'on', 'irish', 'membranous', ']', 'combination', 'recombination', 'edmd', 'slow', 'tumors-were', 'pattern', 'positional', 'jewish', 'malignancy', 'emery-dreifuss', '76', 'anterior', 'likely', ',', 'concentration', 'low', 'dominant', 'factor', 'bacterial', 'main', '1', '84', 'stabilize', 'mutate', 'size', 'waardenburg', 'recently', 'parent', 'dna', 'group', 'early-onset', 'paternal', 'allow', 'perform', 'mother', 'rate', 'invagination', 'smad4/dpc4', 'strong', 'dilution', 'disparity', 'at', 'contribute', 'when', 'localization', 'initial', 'search', 'scoring', 'nine', 'huntington', 'explanation', 'strongly', 'compatible', 'manifest', 'partially', '4003deltc', 'similarly', 'prepro-avp-npii', 'present', 'the', 'arabs', 'to', 'avp', 'why', 'gene', 'retardation', 'inactivate', 'benign', '2988', 'because', 'reach', 'well', 'all', 'presumptive', 'may', 'missing', 'rabbit', 'suppressor', 'would', 'signify', 'embryo', 'situ', 'program', 'ctr1', 'region', 'indian', 'beta', 'carcinogenesis', 'titration', 'find', 'g2-phase', 'progression', 'blot', 'black', '  ', 'hepatic', 'focus', 'overall', 'protein-binding', 'similarity', 'method', 'dizygotic', 'cm', 'ubiquitous', 'neoplasia', 'background', 'pathological', 'dystrophy', 'common', 'so', 'fragment', 'cellulose', 'unclear', 'low-grade', 'antiserum', 'relationship', 'kindre', 'woman', 'channel', '%', 'cycloheximide', 'rare', 'excitation-contraction', 'mean', 'chain', 'reside', 'epithelial', 'where', 'feature', 'kit', 'tyr', 'cryptic', 'patchy', 'unselecte', 'transport', 'prevalence', 'mentally', 'hospital', 'national', 'wild-type', 'heterozygously', 'extend', 'p53', 'transducer', 'lack', '43', 'no', 'newly', '5', 'knockout', 'anomaly', 'collagen', '2p13-p16', 'environment', 'eco0109', 'important', 'should', 'tay-sachs', 'g1-', 'expressivity', 'val', '[', 'previous', 'affect', 'codon', 'influx', 'unambiguously', 'closely', '3', 'symptom', 'staining', 'primary', 'congenitally', 'underlying', 'fail', 'share', 'generalize', 'dynamic', 'adenoma', 'i', 'measure', 'diagnose', 'g2', 'response', 'p16', 'mesodermal', 'hfe', 'initially', 'sequence', 'microsatellite', 'k', 'anonymous', '39', 'absent', 'western', 'co-localization', 'function', 'manifestation', 'loss-of-function', 'yr', 'lamina-associated', 'heterogeneity', 'upon', 'tumour-suppressor', 'haplotype', 'postulate', 'immunochemically', 'between', 'b-cell', 'tumorigenic', 'condition', 'non-fap', 'compromise', 'setting', 'myotonic', 'susceptibility', 'germ-line', 'our', 'c2', 'nonlethal', 'canine', 'palestinian', 'c04107', 'bp', 'increase', '68', 'costa', 'protein', 'h', 'generate', 'recent', 'lamina', 'evaluate', 'localize', 'least', 'she', 'nonsignificant', 'plot', 'certain', '30', 'substantially', 'cdna', 'vitro', 'phenotypic', 'hypermethylation', 'a', 'homozygosity', 'directly', 'proceed', 'brca1', 'five', 'polymorphism', 'leukaemia', 'founder-effect', 'paternally', 'informativeness', 'mordvinians', 'tgfbeta-related', 'accuracy', 'hyperphosphorylate', 'finns', 'intranuclear', 'hereditary', 'appear', 'reveal', 'c', 'radial', 'value', 'fap', 'stock', 'trait', '20', 'symptomatic', 'mrna', 'tsd', 'related', 'smad4', 'elevated', 'fall', 'nuclear', 'accord', 'first', 'number', 'lead', 'activity', 'interfere', 'harbour', 'life', 'clonal', 'xvii', 'approach', '\\n ', '91', 'polypeptide', 'ion-exchange', 'use', 'insipidu', 'examination', 'adenomatous', 'map', 'further', 'dental', '32', 'suppression', 'curve', 'flanking', 'correlate', 'downstream', 'thus', 'systemic', 'atm-related', 'bright', 'derive', 'proliferate', 'review', 'intragenic', 'arginine', 'especially', 'fibroblast', 'deletion', 'embryogenesis', 'inactivation', 'few', 'gel', '44', 't', 'early', 'type', 'diagnosis', 'correspond', 'observation', 'prolymphocytic', 'prone', 'co-twin', 'choose', 'reduce', 'express', 'hexosaminidase', 'moreover', 'respectively', 'team', '56', 'galns', 'mitochondrial', 'iii', 'visualization', 'if', 'apc', 'addition', 'late', 'bias', 'brca1-mediated', 'ancestor', 'homozygous', 'during', 'incubate', 'site', 'molecular', 'implication', 'non-myocyte', 'respiratory', 'aga', 'novel', 'enter', 'purification', 'cytoarchitecture', 'magnocellular', 'general', 'due', 'tetraploid', 'disagreement', 'deleterious', 'follow', 'cytoplasmic', 'subject', 'whereas', 'abnormality', 'premature', 'mtdna', 'saamis', 'neuron', 'codominant', 'vhl-negative', 'kidney', 'conversely', 'rapid', 'hot', 'ml', 'epidermolysis', '-7', 'variable', 'sera', 'out', 'tumour', 'finding', 'effect', 'mathematically', 'predictor', 'swede', 'affinity', 'cirrhosis', 'biochemical', 'variant', 'some', 'weakness', 'remarkable', 'regulation', 'target', 'difficulty', 'pathogenesis', 'excrete', 'utr', 'von', 'extracolonic', 'rescue', 'suggest', 'successful', 'introduce', 'ion', 'atpase', 'hex', 'morulae', 'immunostaining', 'epigenetic', 'elucidate', 'cross-over', 'normal', 'l-type', 'database', 'generation', 'subgroup', 'mb', 'a-t', 'mucopolysaccharidosis', 'vhl', 'c5-deficient', 'select', 'non-familial', 'fifth', 'lymphoma', ':', 'feed', 'allele', 'syndrome', 'harbor', 'multi-system', '-atpase', '10q23-q25', 'by', 'norwegian', 'dr1', 'proto-oncogene', 'localized', 'validate', '14', 'majority', 'resolve', 'trigger', 'year', 'clinical', 'intracranial', 'royal', 'never', 'apparent', 'structurally', 'marker', 'predisposition', 'remarkably', 'serum', 'period', 'gastrulation', 'event', 'aspartylglucosaminuria', 'hence', '92', 'blood', 'concordant', 'cfa11q22', 'c4', 'precise', 'reverse', 'constant', 'substrate', 'library', 'transmission', 'birth', 'southern', 'comprehensively', 'embrace', 'reticulum', 'particularly', 'consistent', 'individual', 'radioimmunoassay', 'fluorescence', 'cytogenetic', 'inactivator', 'belong', 'asiatic', 'nonsense', 'probability', 'hla-b27', 'isoleucine--', '.', 'appropriate', 'acetylcholine', 'glycoprotein', 'spondylitis', 'structure', 'minor', 'even', 'liver', 'acid', '51', 'tumor', 'frequent', 'piebaldism', 'accompany', 'genomic', 'gatekeeper', 'peptide', 'non-cell', 'located', 'brain', 'ct', 'worldwide', 'depend', 'tighten', 'melanoma-prone', 'multifocal', '6', 'hemochromatosis', 'like', 'strategy', '25', 'pancreatic', 'high', 'toxicosis', 'rican', 'polyp', 'risk', 'abundant', 'assist', 'unilateral', 'coagulation', 'typical', 'several', 'expand', 'into', 'probably', 'rflp', 'go', 'genotype-phenotype', 'maternally', 'include', 'these', 'amino', 'splice', '(', 'skin', 'informative', 'unstable', 'sixteen', 'pyogenic', 'positive', 'attempt', 'residue', 'fourteen', 'key', 'development', 'study', 'endoderm', '10q', 'impact', 'involve', 'carrier', 's-phase', 'glomerulonephritis', 'coding', 'brother', 'estimate', 'new', 'ataxia-telangiectasia', 'g0/quiescence', 'structural', '0', 'abnormal', ';', 'chromosomal', 'limit', 'allelotype', 'sequence-specific', 'alopecia', 'kinase', 'emerin', 'represent', 'its', 'carcinoma', 'assess', 'finland', 'father', 'link', 'b27-positive', 'average', 'discrete', 'ectopic', 'twin', 'false-positive', 'complement', 'binding', 'though', 'colombian', 'transcribe', 't-pll', 'smad4-deficient', 'make', 'agreement', 'phage-displayed', 'attenuate', 'recognize', 'cover', 'system', 'available', 'with', 'subcellular', '17', 'cfa22q11', 'identical', 'familial', 'concordance', 'necessary', '66', '80', 'occasional', 'radiographic', 'property', 'clearly', 'renal', 'vary', 'arg24his', 'nature', 'accumulation', 'yet', 'sulfatase', 'i.', 'skipping', 'product', 'true', 'large', 'cfa10q26', 'know', '=', 'lap2', 'cardiac', 'conditionally', 'shape', 'prevention', 'mutational', 'maximum', 'confirm', 'founder', 'gastrulate', 'conclude', 'south', 'content', 'die', 'interest', 'col17a1', 'hemidesmosomal', 'g301c', 'clone', 'old', ')', 'exclusively', 'datum', 'controversy', 'member', 'patient', 'myotube', '11', 'purify', 'contain', 'neutrophilic', 'incomplete', 'linkage', 'progressive', 'cycle-dependent', 'hetero-duplex', 'homozygously', 'documentation', 'microg', 'france', '54', 'urine', 'nonsense-mediated', 'associate', 'suffer', 'proliferation', 'es', 'throughout', 'alternate-day', 'vasopressin', 'english', 'predictive', 'extremely', 'extra', 'many', 'indistinguishable', 'loss', 'fraction', 'visceral', 'however', '205', 'b60', 'cardiomyocyte', 'transcriptase', 'npii', 'infection', 'overload', 'range', 'altered', 'therapy', 'locus', 'family', 'p', 'endonuclease', 'utah', 'amount', 'mormon', 'modulation', 'continuous', 'breast-ovarian', 'female', 'although', 'pump', 'lysine', 'n-acetylgalactosamine-6-sulfate', 'complete', 'terminating', 'not', '21', '105', 'account', 'term', 'incidence', 'towards', 'sex', 'among', 'since', 'compound', 'mz', 'breast/ovarian', 'hemolytic', 'relatively', 'see', 'melanoma', 'agu', 'child', 'induce', 'long-term-outcome', 'fatal', 'various', 'detection', 'inherit', 'contraction', 'testing', 'adndi', 'lymphoid', 'an', 'bullosa', 'already', 'or', 'relative', '27', 'pocket', 'transmembrane', 'young', 'emphasize', 'cause', 'lupus', 'ethnic', '8', 'four', '10q23', 'without', 'reason', 'drosophila', 'recognition', 'severity', 'aspartylglucosaminidase', 'primer', 'month', 'almost', 'racial', 'who', 'and', 'dog', 'note', 'homeostasis', '13', 'decrease', 'leukocytosis', 'prevalent', '71', 'polyposis', 'assay', 'uninformative', 'order', 'detectable', 'half-sister', 'enzyme', 'form', '\"', 'severe', 'nude', 'detect', 'sequencing', 'mosaicism', 'hypothesis', 'chinese', 'inhibitory', 'investigation', 'male', 'american', 'from', 'n', 'zygosity', 'implicate', 'retard', '/k', 'one', 'dose-response', 'delete', 'disease-concordant', 'na', 'spotting', 'long', '9', 'c5', 'subset', 'linear', 'exon', 'coupling', 'sensorineural', 'jerusalem', 'in', 'lbr', 'another', 'mutant', 'exist', 'constitutional', 'aim', 'reintroduction', 'state', 'could', 'immunodiffusion', 'inheritance', 'cyclin-dependent', '+', 'heart', 'characterize', 'cycle', 'receive', 'will', 'sib', '7', 'auditory', 'biological', 'exhibit', 'cell-cycle', 'frequency', 'germline', 'lap1', 'steady-state', 'require', 'propensity', 'day', 'hh', 'deficiency', 'avp-neurophysin', 'occurrence', 'remission', 'separate', 'non-hodgkins', 'autosomal', 'essential', 'result', 'approximately', 'threaten', 'splice-site', 'dysfunctional', 'around', 'genetically', 'stain', 'blind', 'neither', 'defective', 'decay', 'aspartylglucosamine', 'hybridization', 'n-repeat', 'think', 'compare', 'intercalate', 'occur', 'expect', 'case', '-4', 'after', 'much', 'principal', 'lamin', 'provide', 'seventeen', 'alter', 'deae-cellulose', 'describe', 'do', 'atp', 'sarcoplasmic', 'imaging', 'define', 'withdrawal', 'g-to-t', 'truncate', 'repeat', 'epitope', 'processing', 'bedlington', 'wilson', 'mouse', 'high-grade', 'atrophic', 'atp7b', 'correct', 'apply', 'basis', 'fact', 'precursor', 'determination', 'predict', 'likelihood', 'nevertheless', 'f69v', 'invasive', 'corresponding', 'copper', 'extracellular', 'r796', 'x-irradiation', 'exacerbation']\n"
          ]
        }
      ],
      "source": [
        "\n",
        "# Tokenize and create the vocabulary\n",
        "nlp = spacy.load(\"en_core_sci_sm\")\n",
        "vocab = set()\n",
        "for document in lemmatized_corpus:\n",
        "    doc = nlp(document)\n",
        "    tokens = [token.text.lower() for token in nlp(document)]\n",
        "    vocab.update(tokens)\n",
        "\n",
        "# Convert the vocabulary set to a list\n",
        "vocab_list = list(vocab)\n",
        "\n",
        "# Print or use the vocabulary\n",
        "print(vocab_list)"
      ]
    },
    {
      "cell_type": "code",
      "execution_count": 11,
      "metadata": {
        "colab": {
          "base_uri": "https://localhost:8080/"
        },
        "id": "sUEwt4ARFjPv",
        "outputId": "c11761eb-60b5-4fcd-99e1-2a92b51a7291"
      },
      "outputs": [
        {
          "output_type": "execute_result",
          "data": {
            "text/plain": [
              "1495"
            ]
          },
          "metadata": {},
          "execution_count": 11
        }
      ],
      "source": [
        "len(vocab_list)"
      ]
    },
    {
      "cell_type": "markdown",
      "metadata": {
        "id": "qGMYSzxFp7JY"
      },
      "source": [
        "# Vectorizing\n",
        "\n"
      ]
    },
    {
      "cell_type": "code",
      "execution_count": 18,
      "metadata": {
        "colab": {
          "base_uri": "https://localhost:8080/"
        },
        "id": "5VhXaQ7gHYdJ",
        "outputId": "6fad3d1d-5f9f-4b8e-f524-18b23103ec6b"
      },
      "outputs": [
        {
          "output_type": "stream",
          "name": "stdout",
          "text": [
            "One-hot encoding matrix with frequency:\n",
            "    treatment  incid  six  probabl  28  step  arm  wd  sequenc  domin  ...  \\\n",
            "0           0      0    0        0   0     0    0   0        0      0  ...   \n",
            "1           0      0    0        1   0     0    0   0        0      0  ...   \n",
            "2           1      0    0        0   0     0    0   0        1      0  ...   \n",
            "3           0      0    0        0   0     1    0   0        0      0  ...   \n",
            "4           0      0    1        1   0     0    0   0        0      0  ...   \n",
            "5           0      0    0        0   0     0    0   0        0      0  ...   \n",
            "6           0      0    0        0   0     0    0   0        0      0  ...   \n",
            "7           0      0    0        0   0     0    0   0        0      2  ...   \n",
            "8           0      0    0        0   0     0    1   0        1      0  ...   \n",
            "9           0      0    1        0   0     0    0   0        0      0  ...   \n",
            "10          0      0    0        1   0     0    0   0        0      0  ...   \n",
            "11          0      0    0        0   0     0    0   0        0      0  ...   \n",
            "12          0      0    1        0   0     0    0   0        0      0  ...   \n",
            "13          0      0    0        0   0     0    0   0        0      0  ...   \n",
            "14          0      0    0        0   0     0    0   0        0      0  ...   \n",
            "15          0      0    0        0   0     0    0   0        0      0  ...   \n",
            "16          0      0    0        0   1     0    0   0        0      0  ...   \n",
            "17          0      0    0        0   0     0    0   0        0      0  ...   \n",
            "18          0      0    0        0   0     0    0   0        0      0  ...   \n",
            "19          0      0    0        0   0     0    0   0        0      0  ...   \n",
            "20          0      0    0        0   0     0    0   0        0      0  ...   \n",
            "21          0      0    0        0   0     0    0   0        0      0  ...   \n",
            "22          0      0    0        0   0     0    0   0        0      1  ...   \n",
            "23          1      0    0        0   0     0    0   0        0      0  ...   \n",
            "24          0      0    0        0   0     0    0   0        0      0  ...   \n",
            "25          0      0    1        0   0     0    0   0        0      0  ...   \n",
            "26          0      0    0        0   0     0    0   3        1      0  ...   \n",
            "27          1      1    0        0   0     0    0   0        1      1  ...   \n",
            "28          0      0    0        0   0     0    0   0        0      0  ...   \n",
            "29          0      0    0        0   0     0    0   0        0      0  ...   \n",
            "\n",
            "    predict  microsatellit  likelihood  nevertheless  presenc  f69v  \\\n",
            "0         1              0           0             0        0     0   \n",
            "1         0              0           0             0        0     0   \n",
            "2         0              0           0             0        1     0   \n",
            "3         0              0           0             0        1     0   \n",
            "4         0              1           0             0        0     0   \n",
            "5         0              0           0             1        0     0   \n",
            "6         0              0           0             0        0     0   \n",
            "7         0              0           0             0        0     0   \n",
            "8         0              1           0             0        0     0   \n",
            "9         3              0           1             0        0     0   \n",
            "10        0              0           0             0        0     1   \n",
            "11        0              0           0             0        0     0   \n",
            "12        0              0           0             0        0     0   \n",
            "13        0              0           0             0        0     0   \n",
            "14        0              0           0             0        0     0   \n",
            "15        0              0           0             0        0     0   \n",
            "16        0              0           0             0        0     0   \n",
            "17        0              0           0             0        0     0   \n",
            "18        0              0           0             0        0     0   \n",
            "19        0              0           0             0        0     0   \n",
            "20        0              0           0             0        0     0   \n",
            "21        0              0           0             0        1     0   \n",
            "22        0              0           0             0        0     0   \n",
            "23        0              0           0             0        1     0   \n",
            "24        0              2           0             0        0     0   \n",
            "25        0              0           0             0        0     0   \n",
            "26        0              1           0             0        0     0   \n",
            "27        0              0           0             0        0     0   \n",
            "28        0              0           0             0        0     0   \n",
            "29        0              0           0             0        0     0   \n",
            "\n",
            "    prolymphocyt  copper  extracellular  r796  \n",
            "0              1       0              0     0  \n",
            "1              0       0              1     0  \n",
            "2              0       0              0     0  \n",
            "3              0       0              0     0  \n",
            "4              0       0              0     0  \n",
            "5              0       0              0     0  \n",
            "6              0       0              0     0  \n",
            "7              0       0              0     0  \n",
            "8              0       0              0     0  \n",
            "9              0       0              0     0  \n",
            "10             0       0              0     0  \n",
            "11             0       0              0     0  \n",
            "12             0       0              0     0  \n",
            "13             0       0              0     0  \n",
            "14             0       0              0     0  \n",
            "15             0       0              0     0  \n",
            "16             0       0              0     0  \n",
            "17             0       0              0     0  \n",
            "18             0       0              0     0  \n",
            "19             0       0              0     0  \n",
            "20             0       0              0     0  \n",
            "21             0       0              0     0  \n",
            "22             0       0              0     0  \n",
            "23             0       0              0     0  \n",
            "24             0       0              0     0  \n",
            "25             0       0              0     0  \n",
            "26             0       6              0     0  \n",
            "27             0       0              0     0  \n",
            "28             0       0              0     0  \n",
            "29             0       0              0     0  \n",
            "\n",
            "[30 rows x 1402 columns]\n",
            "Feature names: ['treatment' 'incid' 'six' ... 'copper' 'extracellular' 'r796']\n"
          ]
        }
      ],
      "source": [
        "from sklearn.feature_extraction.text import CountVectorizer\n",
        "\n",
        "# Create a CountVectorizer with the specified vocabulary\n",
        "vectorizer = CountVectorizer(vocabulary=vocab_list_use, token_pattern=r'\\b\\w+\\b')\n",
        "\n",
        "# Fit and transform the documents\n",
        "X = vectorizer.fit_transform(stemmed_corpus)\n",
        "\n",
        "# Get the feature names (vocabulary)\n",
        "feature_names = vectorizer.get_feature_names_out()\n",
        "\n",
        "# Convert the sparse matrix to a dense array and print the result\n",
        "dense_array = X.toarray()\n",
        "print(\"One-hot encoding matrix with frequency:\")\n",
        "import pandas as pd\n",
        "df_Vectorized = pd.DataFrame(dense_array, columns=feature_names)\n",
        "print(df_Vectorized)\n",
        "print(\"Feature names:\", feature_names)\n"
      ]
    },
    {
      "cell_type": "code",
      "execution_count": 19,
      "metadata": {
        "colab": {
          "base_uri": "https://localhost:8080/"
        },
        "id": "u0tQfD99qXcH",
        "outputId": "8da1dbbe-1bfe-4fb6-bb0b-6ea831f02929"
      },
      "outputs": [
        {
          "output_type": "execute_result",
          "data": {
            "text/plain": [
              "(30, 1402)"
            ]
          },
          "metadata": {},
          "execution_count": 19
        }
      ],
      "source": [
        "df_Vectorized.shape"
      ]
    },
    {
      "cell_type": "code",
      "execution_count": 22,
      "metadata": {
        "colab": {
          "base_uri": "https://localhost:8080/"
        },
        "id": "VmTnNZ2_pa66",
        "outputId": "a2a4ac3f-ca2a-4b4a-ad4a-45d251e563ae"
      },
      "outputs": [
        {
          "output_type": "stream",
          "name": "stdout",
          "text": [
            "['of', 'the', 'a', 'and', 'in']\n"
          ]
        }
      ],
      "source": [
        "# Filter the Vectorized matrix to keep only words with big frequency > 0\n",
        "selected_words_df = df_Vectorized[df_Vectorized > 13].dropna(axis=1, how='all')\n",
        "\n",
        "# Extract words from the columns of the filtered TF-IDF matrix\n",
        "selected_words = selected_words_df.columns.tolist()\n",
        "\n",
        "# Print the selected words\n",
        "print(selected_words)"
      ]
    },
    {
      "cell_type": "markdown",
      "metadata": {
        "id": "OiUDkUMoHZAy"
      },
      "source": [
        "# *TF*-IDF Vectorization"
      ]
    },
    {
      "cell_type": "code",
      "source": [
        "from sklearn.feature_extraction.text import CountVectorizer, TfidfTransformer\n",
        "from sklearn.feature_extraction.text import TfidfVectorizer\n",
        "import pandas as pd"
      ],
      "metadata": {
        "id": "yBq1YnlW2meh"
      },
      "execution_count": 26,
      "outputs": []
    },
    {
      "cell_type": "code",
      "execution_count": 27,
      "metadata": {
        "colab": {
          "base_uri": "https://localhost:8080/"
        },
        "id": "NNWLKkgLBRXq",
        "outputId": "4d765641-0d18-4393-e139-94691e406211"
      },
      "outputs": [
        {
          "output_type": "stream",
          "name": "stdout",
          "text": [
            "         000        01        03        10       105      10q     10q23  \\\n",
            "0   0.000000  0.000000  0.000000  0.000000  0.000000  0.00000  0.000000   \n",
            "1   0.000000  0.000000  0.000000  0.000000  0.000000  0.00000  0.000000   \n",
            "2   0.000000  0.000000  0.000000  0.000000  0.000000  0.00000  0.000000   \n",
            "3   0.000000  0.000000  0.000000  0.000000  0.000000  0.00000  0.000000   \n",
            "4   0.000000  0.000000  0.000000  0.000000  0.000000  0.00000  0.000000   \n",
            "5   0.000000  0.000000  0.000000  0.000000  0.000000  0.00000  0.000000   \n",
            "6   0.000000  0.000000  0.000000  0.000000  0.000000  0.00000  0.000000   \n",
            "7   0.000000  0.000000  0.000000  0.000000  0.000000  0.00000  0.000000   \n",
            "8   0.000000  0.000000  0.000000  0.049228  0.000000  0.14803  0.263970   \n",
            "9   0.000000  0.000000  0.000000  0.000000  0.000000  0.00000  0.000000   \n",
            "10  0.000000  0.000000  0.000000  0.051693  0.000000  0.00000  0.000000   \n",
            "11  0.000000  0.000000  0.000000  0.000000  0.000000  0.00000  0.000000   \n",
            "12  0.000000  0.000000  0.000000  0.000000  0.000000  0.00000  0.000000   \n",
            "13  0.000000  0.000000  0.000000  0.000000  0.000000  0.00000  0.000000   \n",
            "14  0.000000  0.000000  0.000000  0.000000  0.000000  0.00000  0.000000   \n",
            "15  0.000000  0.000000  0.000000  0.000000  0.000000  0.00000  0.000000   \n",
            "16  0.000000  0.000000  0.000000  0.000000  0.000000  0.00000  0.000000   \n",
            "17  0.000000  0.000000  0.000000  0.000000  0.000000  0.00000  0.000000   \n",
            "18  0.000000  0.000000  0.000000  0.000000  0.000000  0.00000  0.000000   \n",
            "19  0.000000  0.000000  0.000000  0.000000  0.000000  0.00000  0.000000   \n",
            "20  0.000000  0.000000  0.000000  0.059378  0.000000  0.00000  0.000000   \n",
            "21  0.000000  0.000000  0.000000  0.000000  0.000000  0.00000  0.000000   \n",
            "22  0.000000  0.000000  0.000000  0.000000  0.000000  0.00000  0.000000   \n",
            "23  0.000000  0.000000  0.000000  0.033138  0.000000  0.00000  0.000000   \n",
            "24  0.000000  0.000000  0.000000  0.000000  0.000000  0.00000  0.062591   \n",
            "25  0.000000  0.000000  0.000000  0.000000  0.000000  0.00000  0.000000   \n",
            "26  0.000000  0.000000  0.000000  0.039445  0.000000  0.00000  0.000000   \n",
            "27  0.000000  0.000000  0.000000  0.000000  0.053451  0.00000  0.000000   \n",
            "28  0.057158  0.057158  0.057158  0.038016  0.000000  0.00000  0.000000   \n",
            "29  0.000000  0.000000  0.000000  0.000000  0.000000  0.00000  0.000000   \n",
            "\n",
            "          11       111     11q22  ...     women     world  worldwid     xhosa  \\\n",
            "0   0.000000  0.000000  0.067358  ...  0.000000  0.000000  0.000000  0.000000   \n",
            "1   0.000000  0.000000  0.000000  ...  0.000000  0.000000  0.000000  0.000000   \n",
            "2   0.000000  0.000000  0.000000  ...  0.000000  0.000000  0.000000  0.000000   \n",
            "3   0.046723  0.000000  0.000000  ...  0.000000  0.000000  0.000000  0.000000   \n",
            "4   0.000000  0.000000  0.000000  ...  0.000000  0.000000  0.000000  0.000000   \n",
            "5   0.000000  0.000000  0.000000  ...  0.053463  0.000000  0.000000  0.000000   \n",
            "6   0.000000  0.000000  0.000000  ...  0.000000  0.000000  0.000000  0.000000   \n",
            "7   0.000000  0.000000  0.000000  ...  0.000000  0.000000  0.000000  0.000000   \n",
            "8   0.000000  0.000000  0.000000  ...  0.000000  0.074015  0.000000  0.000000   \n",
            "9   0.000000  0.000000  0.000000  ...  0.000000  0.000000  0.000000  0.000000   \n",
            "10  0.000000  0.000000  0.000000  ...  0.000000  0.000000  0.000000  0.000000   \n",
            "11  0.000000  0.000000  0.000000  ...  0.000000  0.000000  0.000000  0.000000   \n",
            "12  0.000000  0.000000  0.000000  ...  0.000000  0.000000  0.000000  0.000000   \n",
            "13  0.000000  0.000000  0.000000  ...  0.000000  0.000000  0.000000  0.000000   \n",
            "14  0.000000  0.000000  0.000000  ...  0.000000  0.000000  0.000000  0.000000   \n",
            "15  0.000000  0.000000  0.000000  ...  0.000000  0.000000  0.000000  0.000000   \n",
            "16  0.000000  0.000000  0.000000  ...  0.000000  0.000000  0.078331  0.000000   \n",
            "17  0.000000  0.069454  0.000000  ...  0.000000  0.000000  0.000000  0.000000   \n",
            "18  0.000000  0.000000  0.000000  ...  0.000000  0.000000  0.000000  0.000000   \n",
            "19  0.000000  0.000000  0.000000  ...  0.000000  0.000000  0.000000  0.000000   \n",
            "20  0.000000  0.000000  0.000000  ...  0.000000  0.000000  0.000000  0.000000   \n",
            "21  0.000000  0.000000  0.000000  ...  0.000000  0.000000  0.000000  0.000000   \n",
            "22  0.000000  0.000000  0.000000  ...  0.000000  0.000000  0.000000  0.103793   \n",
            "23  0.000000  0.000000  0.000000  ...  0.000000  0.000000  0.000000  0.000000   \n",
            "24  0.000000  0.000000  0.000000  ...  0.000000  0.000000  0.000000  0.000000   \n",
            "25  0.000000  0.000000  0.000000  ...  0.000000  0.000000  0.000000  0.000000   \n",
            "26  0.000000  0.000000  0.000000  ...  0.000000  0.000000  0.000000  0.000000   \n",
            "27  0.000000  0.000000  0.000000  ...  0.000000  0.000000  0.000000  0.000000   \n",
            "28  0.000000  0.000000  0.000000  ...  0.000000  0.000000  0.000000  0.000000   \n",
            "29  0.000000  0.000000  0.000000  ...  0.000000  0.000000  0.000000  0.000000   \n",
            "\n",
            "        xvii      year     yeast   younger       yr     zygos  \n",
            "0   0.000000  0.000000  0.067358  0.000000  0.00000  0.000000  \n",
            "1   0.000000  0.000000  0.000000  0.000000  0.00000  0.000000  \n",
            "2   0.000000  0.000000  0.000000  0.000000  0.00000  0.000000  \n",
            "3   0.000000  0.033001  0.000000  0.038066  0.00000  0.000000  \n",
            "4   0.000000  0.000000  0.000000  0.000000  0.00000  0.052166  \n",
            "5   0.000000  0.000000  0.000000  0.000000  0.00000  0.000000  \n",
            "6   0.000000  0.000000  0.000000  0.000000  0.00000  0.000000  \n",
            "7   0.000000  0.000000  0.000000  0.065902  0.08089  0.000000  \n",
            "8   0.000000  0.000000  0.000000  0.000000  0.00000  0.000000  \n",
            "9   0.000000  0.000000  0.000000  0.000000  0.00000  0.000000  \n",
            "10  0.000000  0.000000  0.000000  0.000000  0.00000  0.000000  \n",
            "11  0.000000  0.135415  0.000000  0.000000  0.00000  0.000000  \n",
            "12  0.000000  0.132594  0.000000  0.000000  0.00000  0.000000  \n",
            "13  0.000000  0.000000  0.000000  0.000000  0.00000  0.000000  \n",
            "14  0.000000  0.000000  0.000000  0.000000  0.00000  0.000000  \n",
            "15  0.000000  0.000000  0.000000  0.000000  0.00000  0.000000  \n",
            "16  0.000000  0.000000  0.000000  0.000000  0.00000  0.000000  \n",
            "17  0.000000  0.049057  0.000000  0.000000  0.00000  0.000000  \n",
            "18  0.000000  0.081462  0.000000  0.000000  0.00000  0.000000  \n",
            "19  0.000000  0.000000  0.000000  0.000000  0.00000  0.000000  \n",
            "20  0.000000  0.000000  0.000000  0.000000  0.00000  0.000000  \n",
            "21  0.000000  0.000000  0.000000  0.000000  0.00000  0.000000  \n",
            "22  0.000000  0.000000  0.000000  0.000000  0.00000  0.000000  \n",
            "23  0.044423  0.000000  0.000000  0.000000  0.00000  0.000000  \n",
            "24  0.062591  0.000000  0.000000  0.000000  0.00000  0.000000  \n",
            "25  0.000000  0.000000  0.000000  0.000000  0.00000  0.000000  \n",
            "26  0.000000  0.000000  0.000000  0.000000  0.00000  0.000000  \n",
            "27  0.000000  0.000000  0.000000  0.000000  0.00000  0.000000  \n",
            "28  0.000000  0.000000  0.000000  0.046567  0.00000  0.000000  \n",
            "29  0.000000  0.000000  0.000000  0.000000  0.00000  0.000000  \n",
            "\n",
            "[30 rows x 1224 columns]\n"
          ]
        }
      ],
      "source": [
        "\n",
        "# TF-IDF Vectorization\n",
        "vectorizer = TfidfVectorizer(stop_words='english')\n",
        "tfidf_matrix = vectorizer.fit_transform(stemmed_corpus)\n",
        "# Get feature names (terms)\n",
        "feature_names = vectorizer.get_feature_names_out()\n",
        "\n",
        "# Convert TF-IDF matrix to a dense array for better readability\n",
        "dense_tfidf_matrix = tfidf_matrix.toarray()\n",
        "\n",
        "# Print the TF-IDF matrix with feature names\n",
        "import pandas as pd\n",
        "df_tfidf = pd.DataFrame(dense_tfidf_matrix, columns=feature_names)\n",
        "print(df_tfidf)"
      ]
    },
    {
      "cell_type": "markdown",
      "metadata": {
        "id": "70SxujYOM6B6"
      },
      "source": [
        "Selecting the words that have a coeff bigger then 0\n",
        "\n",
        "\n",
        "---\n",
        "\n"
      ]
    },
    {
      "cell_type": "code",
      "execution_count": 28,
      "metadata": {
        "colab": {
          "base_uri": "https://localhost:8080/"
        },
        "id": "KdeH7UT3yPRG",
        "outputId": "4104bb93-fe4e-4e4a-86bf-2d9b72fea0bf"
      },
      "outputs": [
        {
          "output_type": "stream",
          "name": "stdout",
          "text": [
            "         000        01        03        10       105      10q     10q23  \\\n",
            "0        NaN       NaN       NaN       NaN       NaN      NaN       NaN   \n",
            "1        NaN       NaN       NaN       NaN       NaN      NaN       NaN   \n",
            "2        NaN       NaN       NaN       NaN       NaN      NaN       NaN   \n",
            "3        NaN       NaN       NaN       NaN       NaN      NaN       NaN   \n",
            "4        NaN       NaN       NaN       NaN       NaN      NaN       NaN   \n",
            "5        NaN       NaN       NaN       NaN       NaN      NaN       NaN   \n",
            "6        NaN       NaN       NaN       NaN       NaN      NaN       NaN   \n",
            "7        NaN       NaN       NaN       NaN       NaN      NaN       NaN   \n",
            "8        NaN       NaN       NaN  0.049228       NaN  0.14803  0.263970   \n",
            "9        NaN       NaN       NaN       NaN       NaN      NaN       NaN   \n",
            "10       NaN       NaN       NaN  0.051693       NaN      NaN       NaN   \n",
            "11       NaN       NaN       NaN       NaN       NaN      NaN       NaN   \n",
            "12       NaN       NaN       NaN       NaN       NaN      NaN       NaN   \n",
            "13       NaN       NaN       NaN       NaN       NaN      NaN       NaN   \n",
            "14       NaN       NaN       NaN       NaN       NaN      NaN       NaN   \n",
            "15       NaN       NaN       NaN       NaN       NaN      NaN       NaN   \n",
            "16       NaN       NaN       NaN       NaN       NaN      NaN       NaN   \n",
            "17       NaN       NaN       NaN       NaN       NaN      NaN       NaN   \n",
            "18       NaN       NaN       NaN       NaN       NaN      NaN       NaN   \n",
            "19       NaN       NaN       NaN       NaN       NaN      NaN       NaN   \n",
            "20       NaN       NaN       NaN  0.059378       NaN      NaN       NaN   \n",
            "21       NaN       NaN       NaN       NaN       NaN      NaN       NaN   \n",
            "22       NaN       NaN       NaN       NaN       NaN      NaN       NaN   \n",
            "23       NaN       NaN       NaN  0.033138       NaN      NaN       NaN   \n",
            "24       NaN       NaN       NaN       NaN       NaN      NaN  0.062591   \n",
            "25       NaN       NaN       NaN       NaN       NaN      NaN       NaN   \n",
            "26       NaN       NaN       NaN  0.039445       NaN      NaN       NaN   \n",
            "27       NaN       NaN       NaN       NaN  0.053451      NaN       NaN   \n",
            "28  0.057158  0.057158  0.057158  0.038016       NaN      NaN       NaN   \n",
            "29       NaN       NaN       NaN       NaN       NaN      NaN       NaN   \n",
            "\n",
            "          11       111     11q22  ...     women     world  worldwid     xhosa  \\\n",
            "0        NaN       NaN  0.067358  ...       NaN       NaN       NaN       NaN   \n",
            "1        NaN       NaN       NaN  ...       NaN       NaN       NaN       NaN   \n",
            "2        NaN       NaN       NaN  ...       NaN       NaN       NaN       NaN   \n",
            "3   0.046723       NaN       NaN  ...       NaN       NaN       NaN       NaN   \n",
            "4        NaN       NaN       NaN  ...       NaN       NaN       NaN       NaN   \n",
            "5        NaN       NaN       NaN  ...  0.053463       NaN       NaN       NaN   \n",
            "6        NaN       NaN       NaN  ...       NaN       NaN       NaN       NaN   \n",
            "7        NaN       NaN       NaN  ...       NaN       NaN       NaN       NaN   \n",
            "8        NaN       NaN       NaN  ...       NaN  0.074015       NaN       NaN   \n",
            "9        NaN       NaN       NaN  ...       NaN       NaN       NaN       NaN   \n",
            "10       NaN       NaN       NaN  ...       NaN       NaN       NaN       NaN   \n",
            "11       NaN       NaN       NaN  ...       NaN       NaN       NaN       NaN   \n",
            "12       NaN       NaN       NaN  ...       NaN       NaN       NaN       NaN   \n",
            "13       NaN       NaN       NaN  ...       NaN       NaN       NaN       NaN   \n",
            "14       NaN       NaN       NaN  ...       NaN       NaN       NaN       NaN   \n",
            "15       NaN       NaN       NaN  ...       NaN       NaN       NaN       NaN   \n",
            "16       NaN       NaN       NaN  ...       NaN       NaN  0.078331       NaN   \n",
            "17       NaN  0.069454       NaN  ...       NaN       NaN       NaN       NaN   \n",
            "18       NaN       NaN       NaN  ...       NaN       NaN       NaN       NaN   \n",
            "19       NaN       NaN       NaN  ...       NaN       NaN       NaN       NaN   \n",
            "20       NaN       NaN       NaN  ...       NaN       NaN       NaN       NaN   \n",
            "21       NaN       NaN       NaN  ...       NaN       NaN       NaN       NaN   \n",
            "22       NaN       NaN       NaN  ...       NaN       NaN       NaN  0.103793   \n",
            "23       NaN       NaN       NaN  ...       NaN       NaN       NaN       NaN   \n",
            "24       NaN       NaN       NaN  ...       NaN       NaN       NaN       NaN   \n",
            "25       NaN       NaN       NaN  ...       NaN       NaN       NaN       NaN   \n",
            "26       NaN       NaN       NaN  ...       NaN       NaN       NaN       NaN   \n",
            "27       NaN       NaN       NaN  ...       NaN       NaN       NaN       NaN   \n",
            "28       NaN       NaN       NaN  ...       NaN       NaN       NaN       NaN   \n",
            "29       NaN       NaN       NaN  ...       NaN       NaN       NaN       NaN   \n",
            "\n",
            "        xvii      year     yeast   younger       yr     zygos  \n",
            "0        NaN       NaN  0.067358       NaN      NaN       NaN  \n",
            "1        NaN       NaN       NaN       NaN      NaN       NaN  \n",
            "2        NaN       NaN       NaN       NaN      NaN       NaN  \n",
            "3        NaN  0.033001       NaN  0.038066      NaN       NaN  \n",
            "4        NaN       NaN       NaN       NaN      NaN  0.052166  \n",
            "5        NaN       NaN       NaN       NaN      NaN       NaN  \n",
            "6        NaN       NaN       NaN       NaN      NaN       NaN  \n",
            "7        NaN       NaN       NaN  0.065902  0.08089       NaN  \n",
            "8        NaN       NaN       NaN       NaN      NaN       NaN  \n",
            "9        NaN       NaN       NaN       NaN      NaN       NaN  \n",
            "10       NaN       NaN       NaN       NaN      NaN       NaN  \n",
            "11       NaN  0.135415       NaN       NaN      NaN       NaN  \n",
            "12       NaN  0.132594       NaN       NaN      NaN       NaN  \n",
            "13       NaN       NaN       NaN       NaN      NaN       NaN  \n",
            "14       NaN       NaN       NaN       NaN      NaN       NaN  \n",
            "15       NaN       NaN       NaN       NaN      NaN       NaN  \n",
            "16       NaN       NaN       NaN       NaN      NaN       NaN  \n",
            "17       NaN  0.049057       NaN       NaN      NaN       NaN  \n",
            "18       NaN  0.081462       NaN       NaN      NaN       NaN  \n",
            "19       NaN       NaN       NaN       NaN      NaN       NaN  \n",
            "20       NaN       NaN       NaN       NaN      NaN       NaN  \n",
            "21       NaN       NaN       NaN       NaN      NaN       NaN  \n",
            "22       NaN       NaN       NaN       NaN      NaN       NaN  \n",
            "23  0.044423       NaN       NaN       NaN      NaN       NaN  \n",
            "24  0.062591       NaN       NaN       NaN      NaN       NaN  \n",
            "25       NaN       NaN       NaN       NaN      NaN       NaN  \n",
            "26       NaN       NaN       NaN       NaN      NaN       NaN  \n",
            "27       NaN       NaN       NaN       NaN      NaN       NaN  \n",
            "28       NaN       NaN       NaN  0.046567      NaN       NaN  \n",
            "29       NaN       NaN       NaN       NaN      NaN       NaN  \n",
            "\n",
            "[30 rows x 1224 columns]\n"
          ]
        }
      ],
      "source": [
        "# Filter the TF-IDF matrix to keep only words with coefficients > 0\n",
        "filtered_df_tfidf = df_tfidf[df_tfidf > 0].dropna(axis=1, how='all')\n",
        "\n",
        "# Print the filtered TF-IDF matrix\n",
        "print(filtered_df_tfidf)"
      ]
    },
    {
      "cell_type": "code",
      "execution_count": 29,
      "metadata": {
        "colab": {
          "base_uri": "https://localhost:8080/"
        },
        "id": "UEArMK_mECpM",
        "outputId": "25d3a211-b6a0-457c-a3b2-876518e1ee0a"
      },
      "outputs": [
        {
          "output_type": "stream",
          "name": "stdout",
          "text": [
            "['000', '01', '03', '10', '105', '10q', '10q23', '11', '111', '11q22', '12', '13', '1307', '14', '140', '15', '16', '17', '19', '190', '20', '205', '21', '22', '220', '23', '25', '264', '27', '28', '282', '2988', '2p13', '30', '32', '34', '36', '360', '37', '38', '39', '4003deltc', '43', '44', '45', '476', '48', '50', '51', '54', '556', '56', '66', '68', '71', '76', '786', '80', '84', '91', '92', '97', 'aberr', 'abil', 'abnorm', 'absenc', 'absent', 'abund', 'accept', 'acceptor', 'accompani', 'accord', 'account', 'accumul', 'accur', 'accuraci', 'acet', 'acetylcholin', 'acetylgalactosamine', 'acid', 'act', 'activ', 'addit', 'adenoma', 'adenomat', 'adndi', 'adult', 'affect', 'affin', 'african', 'aga', 'age', 'aggreg', 'agreement', 'agu', 'aim', 'allel', 'allelotyp', 'allow', 'alopecia', 'alreadi', 'alter', 'altern', 'alternate', 'alway', 'american', 'amino', 'amish', 'amplitud', 'analys', 'analysi', 'analyz', 'ancestor', 'ancestr', 'ancestri', 'ani', 'ankylos', 'anomali', 'anonym', 'anoth', 'anterior', 'anti', 'antibodi', 'antiserum', 'apc', 'apoptosi', 'appar', 'appear', 'appli', 'appreci', 'approach', 'appropri', 'approxim', 'arab', 'area', 'arg24hi', 'arginin', 'arm', 'arthriti', 'ashkenazi', 'asiat', 'aspartylglucosamin', 'aspartylglucosaminidas', 'aspartylglucosaminuria', 'assay', 'assess', 'assist', 'associ', 'ataxia', 'atm', 'atp', 'atp7b', 'atpas', 'atroph', 'attempt', 'attenu', 'auditori', 'austrian', 'autonom', 'autosom', 'avail', 'averag', 'avp', 'b1', 'b27', 'b60', 'bac', 'background', 'bacteri', 'band', 'bard1', 'base', 'basi', 'becaus', 'bedlington', 'befor', 'belong', 'benign', 'beta', 'bias', 'bilater', 'bind', 'biochem', 'biolog', 'birth', 'black', 'blind', 'blister', 'blood', 'blot', 'bp', 'brain', 'brca1', 'breast', 'bright', 'brother', 'bullosa', 'c04107', 'c1', 'c2', 'c3', 'c4', 'c5', 'c5d', 'ca2', 'cancer', 'candid', 'canin', 'capac', 'carcinogenesi', 'carcinoma', 'cardiac', 'cardiomyocyt', 'carrier', 'case', 'cast', 'caucasian', 'caus', 'cdk4', 'cdna', 'cel', 'cell', 'cellular', 'cellulos', 'certain', 'cfa10q26', 'cfa11q22', 'cfa22q11', 'chain', 'chang', 'channel', 'character', 'child', 'childhood', 'children', 'chines', 'chosen', 'chromatid', 'chromatographi', 'chromosom', 'cirrhosi', 'clearli', 'clinic', 'clonal', 'clone', 'close', 'clue', 'cluster', 'cm', 'coagul', 'code', 'codomin', 'codon', 'cohort', 'col17a1', 'coli', 'collagen', 'coloc', 'colombian', 'colorect', 'combin', 'common', 'compar', 'comparison', 'compat', 'complement', 'complet', 'compon', 'compound', 'comprehens', 'compromis', 'concentr', 'conclud', 'conclus', 'concord', 'condit', 'confirm', 'congenit', 'conserv', 'consider', 'consist', 'constant', 'constitut', 'contact', 'contain', 'content', 'continu', 'contract', 'contrast', 'contribut', 'control', 'controversi', 'convers', 'copi', 'copper', 'correct', 'correl', 'correspond', 'corticosteroid', 'costa', 'counsel', 'coupl', 'cours', 'cover', 'creat', 'criteria', 'criterion', 'cross', 'cryptic', 'ct', 'ctg', 'ctr1', 'ctr2', 'cultur', 'curv', 'cycl', 'cycle', 'cyclin', 'cycloheximid', 'cys', 'cys282tyr', 'cytoarchitectur', 'cytogenet', 'cytoplasm', 'damag', 'data', 'databas', 'day', 'deae', 'deaf', 'decay', 'decreas', 'defect', 'defici', 'defin', 'degener', 'degre', 'delet', 'deleteri', 'demonstr', 'denatur', 'dental', 'depend', 'depolarization', 'deriv', 'descent', 'describ', 'design', 'detect', 'determin', 'develop', 'devoid', 'diabet', 'diagnos', 'diagnosi', 'did', 'die', 'differ', 'differenti', 'difficult', 'difficulti', 'dilut', 'direct', 'directli', 'disagr', 'disc', 'discret', 'diseas', 'disease', 'disord', 'dispar', 'display', 'disposit', 'distribut', 'dizygot', 'dm', 'dmpk', 'dna', 'document', 'dog', 'domain', 'domin', 'dominantli', 'dos', 'dose', 'dot', 'dots', 'doubt', 'downstream', 'dpc4', 'dr1', 'dreifuss', 'driven', 'drosophila', 'ductal', 'duplex', 'dure', 'dynam', 'dysfunct', 'dystrophi', 'dz', 'earli', 'earlier', 'early', 'easi', 'eco0109', 'ectop', 'edmd', 'effect', 'electrophoresi', 'elev', 'elucid', 'embrac', 'embryo', 'embryogenesi', 'emerin', 'emery', 'emphas', 'encod', 'endoderm', 'endonucleas', 'english', 'enter', 'entir', 'environ', 'environment', 'enzym', 'epiblast', 'epidermolysi', 'epigenet', 'epitheli', 'epitop', 'er', 'erythematosu', 'es', 'especi', 'essenti', 'establish', 'estim', 'ethnic', 'evalu', 'event', 'evid', 'exacerb', 'examin', 'exchang', 'excitation', 'exclud', 'exclus', 'excret', 'exhibit', 'exist', 'exit', 'exon', 'expand', 'expans', 'expect', 'explan', 'express', 'extend', 'extens', 'extern', 'extra', 'extracellular', 'extracolon', 'extraordinarili', 'extrem', 'f69v', 'facilit', 'fact', 'factor', 'fail', 'false', 'famili', 'fap', 'fatal', 'father', 'featur', 'feed', 'fell', 'femal', 'fertil', 'fetus', 'fibroblast', 'fifth', 'finland', 'finn', 'finnish', 'fish', 'flank', 'fluoresc', 'foci', 'follow', 'form', 'format', 'founder', 'fourteen', 'fraction', 'fragil', 'fragment', 'frameshift', 'franc', 'french', 'frequenc', 'frequent', 'funct', 'function', 'furthermor', 'g0', 'g1', 'g1758', 'g2', 'g301c', 'galn', 'gastrul', 'gatekeep', 'gel', 'gene', 'gener', 'genet', 'genom', 'genotype', 'germ', 'german', 'germlin', 'girl', 'gland', 'glomerulonephr', 'gly23', 'glycoprotein', 'golgi', 'grad', 'gradient', 'group', 'growth', 'gy', 'ha', 'half', 'haplotyp', 'harbor', 'harbour', 'hd', 'healthi', 'heart', 'hemangioblastoma', 'hemidesmosom', 'hemochromatosi', 'hemolyt', 'henc', 'hepat', 'hereditari', 'hetero', 'heterogen', 'heterozyg', 'heterozygos', 'heterozygot', 'hex', 'hexosaminidas', 'hfe', 'hh', 'hi', 'high', 'higher', 'highest', 'highli', 'hippel', 'hla', 'hodgkin', 'homeostasi', 'homolog', 'homozyg', 'homozygos', 'homozygot', 'hormon', 'hospit', 'hot', 'howev', 'human', 'huntington', 'hybrid', 'hypermethyl', 'hyperphosphoryl', 'hypothalamu', 'hypothesi', 'i1307k', 'ident', 'identif', 'identifi', 'ii', 'iii', 'imag', 'immunochem', 'immunodiffus', 'immunohistochem', 'immunostain', 'impact', 'implic', 'import', 'inactiv', 'incid', 'includ', 'incomplet', 'incorrect', 'increas', 'incub', 'indian', 'indic', 'indistinguish', 'individu', 'induc', 'infect', 'influx', 'inform', 'inherit', 'inhibit', 'inhibitor', 'inhibitori', 'initi', 'insipidu', 'instabl', 'intercal', 'interf', 'interfer', 'interv', 'intracellular', 'intracrani', 'intragen', 'intranuclear', 'introduc', 'invagin', 'invas', 'investig', 'involv', 'ion', 'irish', 'irradi', 'isol', 'isoleucin', 'issu', 'italian', 'iva', 'japanes', 'jerusalem', 'jewish', 'junction', 'justifi', 'kd', 'keratinocyt', 'key', 'kidney', 'kinas', 'kindr', 'kit', 'knockout', 'knowledg', 'known', 'lack', 'lamin', 'lamina', 'lap1', 'lap2', 'larg', 'late', 'later', 'lbr', 'lead', 'led', 'length', 'leukaemia', 'leukocytosi', 'level', 'librari', 'life', 'like', 'likelihood', 'limit', 'lin', 'lindau', 'line', 'lineag', 'linear', 'link', 'linkag', 'liver', 'lobular', 'loc', 'local', 'locat', 'loci', 'locu', 'loh', 'long', 'loss', 'low', 'lower', 'lupu', 'lymphocyt', 'lymphoid', 'lymphoma', 'lysin', 'lysosom', 'mab', 'magnet', 'magnocellular', 'main', 'major', 'male', 'malign', 'man', 'manag', 'mani', 'manifest', 'map', 'mark', 'marker', 'matern', 'mathemat', 'matur', 'maximum', 'mb', 'mean', 'measur', 'medi', 'melanoma', 'member', 'membran', 'mennonit', 'mental', 'mesoderm', 'metabol', 'method', 'methodolog', 'mice', 'microg', 'microsatellit', 'minim', 'minor', 'miss', 'missens', 'mitochondri', 'ml', 'mmac1', 'model', 'moder', 'modul', 'molecul', 'molecular', 'monoclon', 'monozygot', 'month', 'mordvinian', 'moreov', 'mormon', 'morula', 'mosaic', 'mother', 'mount', 'mous', 'mp', 'mrna', 'mtdna', 'mucopolysaccharidosi', 'multi', 'multifoc', 'muscl', 'muscular', 'mutant', 'mutat', 'mutations', 'mx', 'myocyt', 'myoton', 'myotub', 'mz', 'na', 'nail', 'nation', 'nativ', 'natur', 'near', 'necessari', 'neg', 'neoplasia', 'neurodegener', 'neurohypophys', 'neuron', 'neurophysin', 'neutrophil', 'new', 'newli', 'nhl', 'nin', 'non', 'noncarri', 'nonleth', 'nonsens', 'nonsense', 'nonsignific', 'norm', 'normal', 'norwegian', 'note', 'novel', 'npii', 'nuclear', 'nuclei', 'nucleotid', 'nucleu', 'nude', 'number', 'numer', 'object', 'oblig', 'observ', 'obtain', 'occasion', 'occur', 'occurr', 'offer', 'offspr', 'old', 'oncogen', 'onli', 'onset', 'open', 'order', 'origin', 'outcom', 'ov', 'ovarian', 'overal', 'overload', 'p16', 'p27', 'p53', 'pair', 'palestinian', 'pancreat', 'panel', 'parent', 'partial', 'particular', 'particularli', 'passag', 'past', 'patchi', 'patern', 'pathogenesi', 'patholog', 'pathway', 'patient', 'pattern', 'pedigre', 'peptid', 'percentag', 'perform', 'period', 'peripher', 'phage', 'phase', 'phenotyp', 'piebald', 'pineal', 'pituitari', 'play', 'pll', 'plot', 'pocket', 'polish', 'polyclon', 'polymeras', 'polymorph', 'polyp', 'polypeptid', 'polyposi', 'popul', 'posit', 'posterior', 'postul', 'potenti', 'pre', 'precis', 'precursor', 'predict', 'predictor', 'predispos', 'predisposit', 'preferenti', 'prematur', 'prenat', 'prepro', 'presenc', 'present', 'presumpt', 'preval', 'prevent', 'previou', 'previous', 'primari', 'primer', 'princip', 'probabl', 'proband', 'proceed', 'process', 'produc', 'product', 'profil', 'profound', 'program', 'progress', 'prolifer', 'prolymphocyt', 'pron', 'prone', 'propag', 'propens', 'properti', 'prophylact', 'proport', 'propos', 'prostat', 'protein', 'proto', 'prove', 'provid', 'pten', 'pump', 'pure', 'purif', 'purifi', 'pyogen', 'q23', 'q25', 'quantit', 'quiescenc', 'r796g', 'rabbit', 'racial', 'radial', 'radiation', 'radiograph', 'radioimmunoassay', 'radiosensit', 'randomli', 'rang', 'rapid', 'rare', 'rarer', 'rat', 'rate', 'rb1', 'rcc', 'reach', 'reaction', 'reagent', 'reason', 'receiv', 'recent', 'receptor', 'recess', 'recogn', 'recognit', 'recombin', 'recur', 'reduc', 'ref', 'regard', 'regimen', 'region', 'regul', 'reintroduct', 'rel', 'relat', 'relationship', 'remain', 'remark', 'remiss', 'renal', 'repeat', 'report', 'repres', 'request', 'requir', 'rescu', 'resid', 'residu', 'resolv', 'reson', 'respect', 'respiratori', 'respons', 'rest', 'restor', 'restrict', 'result', 'retard', 'reticulum', 'retin', 'retinoblastoma', 'reveal', 'revers', 'review', 'rflp', 'rheumat', 'rican', 'rim', 'risk', 'rna', 'role', 'royal', 'rsal', 's162f', 'saami', 'sach', 'sampl', 'sarcoplasm', 'score', 'screen', 'search', 'second', 'secondari', 'seen', 'select', 'sensorineur', 'separ', 'sequenc', 'sequence', 'sera', 'serum', 'set', 'seventeen', 'sever', 'sex', 'shape', 'share', 'shorter', 'shown', 'sib', 'signal', 'signifi', 'signific', 'significantli', 'similar', 'similarli', 'sinc', 'singl', 'sist', 'sit', 'site', 'situ', 'sixteen', 'size', 'skelet', 'skew', 'skin', 'skip', 'slower', 'smad4', 'small', 'smaller', 'somat', 'south', 'southern', 'specif', 'specimen', 'spectrum', 'splice', 'spondyl', 'spontan', 'sporad', 'spot', 'sscp', 'st', 'stabil', 'stain', 'state', 'steady', 'step', 'stock', 'storag', 'strategi', 'strong', 'strongli', 'structur', 'studi', 'subcellular', 'subgroup', 'subject', 'subnuclear', 'subset', 'substanti', 'substitut', 'substrat', 'success', 'suffer', 'suggest', 'sulf', 'sulfatas', 'summari', 'suppress', 'suppressor', 'surveil', 'suscept', 'swede', 'symptom', 'symptomat', 'syndrom', 'synten', 't1', 'target', 'tay', 'team', 'telangiectasia', 'telomer', 'term', 'termin', 'terrier', 'test', 'tetraploid', 'tgfbeta', 'therapi', 'therefor', 'thi', 'thirty', 'thought', 'threaten', 'thu', 'tighten', 'time', 'tissu', 'titer', 'titrat', 'tool', 'total', 'toxicosi', 'trait', 'transcrib', 'transcript', 'transcriptas', 'transduc', 'transient', 'transmembran', 'transmiss', 'transmit', 'transport', 'transvers', 'treatment', 'trigger', 'true', 'trunc', 'truncat', 'tsd', 'tumor', 'tumorigen', 'tumors', 'tumour', 'twin', 'typ', 'type', 'typic', 'tyr', 'ubiquit', 'unambigu', 'unclear', 'underli', 'understood', 'undetect', 'unilater', 'uninform', 'unlik', 'unrel', 'unselect', 'unstabl', 'upstream', 'urin', 'use', 'usual', 'utah', 'utr', 'val', 'valid', 'valu', 'valuabl', 'vari', 'variabl', 'varianc', 'variant', 'varieti', 'variou', 'vascul', 'vasopressin', 'veri', 'vhl', 'viscer', 'visual', 'vitro', 'vivo', 'voltage', 'von', 'wa', 'waardenburg', 'wd', 'weak', 'weight', 'went', 'wer', 'western', 'wherea', 'whi', 'white', 'wild', 'wilson', 'withdraw', 'women', 'world', 'worldwid', 'xhosa', 'xvii', 'year', 'yeast', 'younger', 'yr', 'zygos']\n"
          ]
        }
      ],
      "source": [
        "# Filter the TF-IDF matrix to keep only words with coefficients > 0\n",
        "selected_words_df = df_tfidf[df_tfidf > 0].dropna(axis=1, how='all')\n",
        "\n",
        "# Extract words from the columns of the filtered TF-IDF matrix\n",
        "selected_words = selected_words_df.columns.tolist()\n",
        "\n",
        "# Print the selected words\n",
        "print(selected_words)"
      ]
    },
    {
      "cell_type": "code",
      "execution_count": 30,
      "metadata": {
        "colab": {
          "base_uri": "https://localhost:8080/"
        },
        "id": "rtxxM2h0MzuX",
        "outputId": "b0d7da15-1f60-4b07-f1a5-bf2554e3896b"
      },
      "outputs": [
        {
          "output_type": "execute_result",
          "data": {
            "text/plain": [
              "1224"
            ]
          },
          "metadata": {},
          "execution_count": 30
        }
      ],
      "source": [
        "len(selected_words)"
      ]
    },
    {
      "cell_type": "markdown",
      "source": [
        "Selecting the words that have a coeff bigger then 0.5\n"
      ],
      "metadata": {
        "id": "WqFYVAgI29Fk"
      }
    },
    {
      "cell_type": "code",
      "execution_count": null,
      "metadata": {
        "colab": {
          "base_uri": "https://localhost:8080/"
        },
        "id": "vDXTHn3xNRV-",
        "outputId": "6ede8fdf-65e0-4ea4-98dc-8a29e2c99e94"
      },
      "outputs": [
        {
          "name": "stdout",
          "output_type": "stream",
          "text": [
            "['brca1', 'c5', 'ca2', 'dm', 'emerin', 'fap', 'piebald', 'smad4', 'twin', 'vhl']\n"
          ]
        }
      ],
      "source": [
        "# Filter the TF-IDF matrix to keep only words with coefficients > 0.5\n",
        "selected_words_df = df_tfidf[df_tfidf > 0.5].dropna(axis=1, how='all')\n",
        "\n",
        "# Extract words from the columns of the filtered TF-IDF matrix\n",
        "selected_words = selected_words_df.columns.tolist()\n",
        "\n",
        "# Print the selected words\n",
        "print(selected_words)"
      ]
    },
    {
      "cell_type": "code",
      "execution_count": null,
      "metadata": {
        "colab": {
          "base_uri": "https://localhost:8080/"
        },
        "id": "LtQeyqF0NT_F",
        "outputId": "06827212-0e42-4e1d-caff-bdc8c50f50dc"
      },
      "outputs": [
        {
          "data": {
            "text/plain": [
              "10"
            ]
          },
          "execution_count": 96,
          "metadata": {},
          "output_type": "execute_result"
        }
      ],
      "source": [
        "len(selected_words)"
      ]
    },
    {
      "cell_type": "code",
      "execution_count": null,
      "metadata": {
        "id": "Q83gMoM9NVkF"
      },
      "outputs": [],
      "source": []
    }
  ],
  "metadata": {
    "colab": {
      "provenance": []
    },
    "kernelspec": {
      "display_name": "Python 3",
      "name": "python3"
    },
    "language_info": {
      "name": "python"
    }
  },
  "nbformat": 4,
  "nbformat_minor": 0
}